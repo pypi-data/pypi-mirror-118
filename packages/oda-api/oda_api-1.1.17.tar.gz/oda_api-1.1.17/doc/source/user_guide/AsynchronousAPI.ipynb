{
 "cells": [
  {
   "cell_type": "markdown",
   "metadata": {},
   "source": [
    "# Example of asynchronous requests (v > 1.1)\n",
    "- The scope of this example is to show how to request several products together so that internal resource usage is maximized\n",
    "- We extract the spectrum of the Crab in groups of 'nscw' science windows for each semester from 'start_year' to 'stop_year' included\n",
    "- We fit the spectra with a broken power law using xspec"
   ]
  },
  {
   "cell_type": "code",
   "execution_count": 9,
   "metadata": {
    "tags": [
     "parameters"
    ]
   },
   "outputs": [],
   "source": [
    "#A few input parameters\n",
    "osa_version=\"OSA10.2\"\n",
    "source_name=\"Crab\"\n",
    "nscw=10\n",
    "start_year=2004\n",
    "end_year=2006\n",
    "oda_platform=\"staging\"\n",
    "systematic_fraction = 0.01\n",
    "token=''"
   ]
  },
  {
   "cell_type": "code",
   "execution_count": 2,
   "metadata": {},
   "outputs": [
    {
     "name": "stdout",
     "output_type": "stream",
     "text": [
      "Insert the token········\n"
     ]
    }
   ],
   "source": [
    "#You can provide a valid token as explained in the 'Authentication' example or skip this cell\n",
    "import getpass\n",
    "token = getpass.getpass('Insert the token')"
   ]
  },
  {
   "cell_type": "code",
   "execution_count": 10,
   "metadata": {},
   "outputs": [],
   "source": [
    "#Example of functions to select a science window list\n",
    "import time\n",
    "\n",
    "import astroquery.heasarc\n",
    "from astropy.coordinates import SkyCoord\n",
    "from astropy import units as u\n",
    "\n",
    "Heasarc = astroquery.heasarc.Heasarc()\n",
    "\n",
    "\n",
    "\n",
    "def get_scw_list(ra_obj, dec_obj,radius,start_date,end_date ):\n",
    "    R = Heasarc.query_region(\n",
    "            position = SkyCoord(ra_obj, dec_obj, unit='deg'), \n",
    "            radius = f\"{radius} deg\",\n",
    "            mission = 'intscw',                 \n",
    "            time = start_date + \" .. \" + end_date,\n",
    "            good_isgri = \">1000\",\n",
    "        )        \n",
    "\n",
    "    R.sort('SCW_ID')\n",
    "\n",
    "    return R['SCW_ID'], R['SCW_VER']\n",
    "\n",
    "\n",
    "assert astroquery.__version__ >= '0.4.2.dev6611'\n",
    "\n",
    "# it means it's our fork\n",
    "assert 'isdc' in astroquery.heasarc.Conf.server.cfgtype"
   ]
  },
  {
   "cell_type": "code",
   "execution_count": 11,
   "metadata": {},
   "outputs": [],
   "source": [
    "import numpy as np\n",
    "from astroquery.simbad import Simbad\n",
    "from astropy import coordinates as coord\n",
    "\n",
    "import json\n",
    "\n",
    "import os\n",
    "import shutil\n",
    "import random\n",
    "\n",
    "from astropy.io import fits\n",
    "\n",
    "from scipy import stats\n",
    "result_table = Simbad.query_object(source_name)\n",
    "source_coord = coord.SkyCoord(result_table['RA'][0], result_table['DEC'][0], unit=(\"hourangle\", \"deg\"))\n",
    "ra=source_coord.ra.deg\n",
    "dec=source_coord.dec.deg\n",
    "radius=8.\n",
    "\n",
    "#We hardcode a catalog for the Crab\n",
    "api_cat={\n",
    "    \"cat_frame\": \"fk5\", \n",
    "    \"cat_coord_units\": \"deg\", \n",
    "    \"cat_column_list\": [\n",
    "        [0, 7], \n",
    "        [\"1A 0535+262\", \"Crab\"], \n",
    "        [125.4826889038086, 1358.7255859375], \n",
    "        [84.72280883789062, 83.63166809082031], \n",
    "        [26.312734603881836, 22.016284942626953], \n",
    "        [-32768, -32768], \n",
    "        [2, 2], \n",
    "        [0, 0], \n",
    "        [0.0002800000074785203, 0.0002800000074785203]], \n",
    "    \"cat_column_names\": [\n",
    "        \"meta_ID\", \n",
    "        \"src_names\", \n",
    "        \"significance\", \n",
    "        \"ra\", \n",
    "        \"dec\", \n",
    "        \"NEW_SOURCE\", \n",
    "        \"ISGRI_FLAG\", \n",
    "        \"FLAG\", \n",
    "        \"ERR_RAD\"\n",
    "    ], \n",
    "    \"cat_column_descr\": \n",
    "        [\n",
    "            [\"meta_ID\", \"<i8\"], \n",
    "            [\"src_names\", \"<U11\"], \n",
    "            [\"significance\", \"<f8\"], \n",
    "            [\"ra\", \"<f8\"], \n",
    "            [\"dec\", \"<f8\"], \n",
    "            [\"NEW_SOURCE\", \"<i8\"], \n",
    "            [\"ISGRI_FLAG\", \"<i8\"], \n",
    "            [\"FLAG\", \"<i8\"], \n",
    "            [\"ERR_RAD\", \"<f8\"]\n",
    "        ], \n",
    "    \"cat_lat_name\": \"dec\", \n",
    "    \"cat_lon_name\": \"ra\"\n",
    "}\n",
    "\n"
   ]
  },
  {
   "cell_type": "code",
   "execution_count": 12,
   "metadata": {
    "scrolled": true
   },
   "outputs": [
    {
     "name": "stdout",
     "output_type": "stream",
     "text": [
      "custom platform selection: staging\n"
     ]
    },
    {
     "name": "stderr",
     "output_type": "stream",
     "text": [
      "unable to dig list, instance not a dict by <class 'list'>; object was [{'query_name': 'src_query'}, {'name': 'src_name', 'units': 'str', 'value': 'test'}, {'name': 'RA', 'units': 'deg', 'value': 0.0}, {'name': 'DEC', 'units': 'deg', 'value': 0.0}, {'name': 'T1', 'units': None, 'value': '2001-12-11T00:00:00.000'}, {'name': 'T2', 'units': None, 'value': '2001-12-11T00:00:00.000'}, {'name': 'token', 'units': 'str', 'value': None}]\n",
      "unable to dig list, instance not a dict by <class 'list'>; object was [{'query_name': 'isgri_parameters'}, {'name': 'user_catalog', 'units': 'str', 'value': None}, {'name': 'scw_list', 'units': 'names_list', 'value': []}, {'name': 'selected_catalog', 'units': 'str', 'value': None}, {'name': 'radius', 'units': 'deg', 'value': 5.0}, {'name': 'max_pointings', 'units': None, 'value': 50}, {'name': 'osa_version', 'units': 'str', 'value': None}, {'name': 'integral_data_rights', 'units': 'str', 'value': 'public'}, {'name': 'E1_keV', 'units': 'keV', 'value': 10.0}, {'name': 'E2_keV', 'units': 'keV', 'value': 40.0}]\n",
      "unable to dig list, instance not a dict by <class 'list'>; object was [{'query_name': 'isgri_image_query'}, {'product_name': 'isgri_image'}, {'name': 'detection_threshold', 'units': 'sigma', 'value': 0.0}, {'name': 'image_scale_min', 'units': None, 'value': None}, {'name': 'image_scale_max', 'units': None, 'value': None}]\n",
      "unable to dig list, instance not a dict by <class 'list'>; object was [{'query_name': 'isgri_spectrum_query'}, {'product_name': 'isgri_spectrum'}]\n",
      "unable to dig list, instance not a dict by <class 'list'>; object was [{'query_name': 'isgri_lc_query'}, {'product_name': 'isgri_lc'}, {'name': 'time_bin', 'units': 'sec', 'value': 1000.0}]\n",
      "unable to dig list, instance not a dict by <class 'list'>; object was [{'query_name': 'spectral_fit_query'}, {'product_name': 'spectral_fit'}, {'name': 'xspec_model', 'units': 'str', 'value': 'powerlaw'}, {'name': 'ph_file_name', 'units': 'str', 'value': ''}, {'name': 'arf_file_name', 'units': 'str', 'value': ''}, {'name': 'rmf_file_name', 'units': 'str', 'value': ''}]\n"
     ]
    },
    {
     "name": "stdout",
     "output_type": "stream",
     "text": [
      "selected http://dispatcher.staging.internal.odahub.io\n"
     ]
    }
   ],
   "source": [
    "#Different instances of the platform, the first two are available only internally\n",
    "\n",
    "import oda_api.api\n",
    "\n",
    "import oda_api\n",
    "\n",
    "from pkg_resources import parse_version\n",
    "\n",
    "assert parse_version(oda_api.__version__) > parse_version(\"1.1.0\")\n",
    "\n",
    "\n",
    "def dispatcher(_oda_platform):\n",
    "    disp = oda_api.api.DispatcherAPI(\n",
    "        url = {\n",
    "            'staging' : 'http://dispatcher.staging.internal.odahub.io',\n",
    "            'staging-1-3': 'http://in.internal.odahub.io/staging-1-3/dispatcher',\n",
    "            'staging-1-2': 'http://cdcihn.isdc.unige.ch/staging-1.2/dispatcher',\n",
    "            'production-1-2': 'https://www.astro.unige.ch/cdci/astrooda/dispatch-data',\n",
    "        }[_oda_platform]\n",
    "    )\n",
    "    disp.get_instrument_description(\"isgri\")\n",
    "    return disp\n",
    "\n",
    "if oda_platform == 'auto':\n",
    "    # osa versions with '-' use ic root version, only available on staging-1-3\n",
    "    print('will find appropriate API for OSA version', osa_version)\n",
    "\n",
    "    if '-' in osa_version:\n",
    "        print('osa version has subversion - will use staging-1-3')\n",
    "        disp = dispatcher('staging-1-3')        \n",
    "    else:\n",
    "        try:\n",
    "            disp = dispatcher('staging-1-2')        \n",
    "            print('will use staging-1-2')\n",
    "        except Exception as e:\n",
    "            print('\\033[31mFAILED to access staging-1-2, will proceed to query production: note that it can not access private data!\\033[0m')\n",
    "            print('\\033[31mexception was: ', e,'\\033[0m')\n",
    "            try:\n",
    "                disp = dispatcher('production-1-2')\n",
    "            except:\n",
    "                raise ConnectionError\n",
    "else:\n",
    "    print(\"custom platform selection:\", oda_platform)\n",
    "    disp = dispatcher(oda_platform)\n",
    "\n",
    "    \n",
    "    print(\"selected\", disp.url)"
   ]
  },
  {
   "cell_type": "code",
   "execution_count": 13,
   "metadata": {
    "scrolled": true
   },
   "outputs": [
    {
     "name": "stderr",
     "output_type": "stream",
     "text": [
      "WARNING: InputWarning: Coordinate string is being interpreted as an ICRS coordinate provided in degrees. [astroquery.utils.commons]\n"
     ]
    },
    {
     "name": "stdout",
     "output_type": "stream",
     "text": [
      "2004-01-01 00:00:00.0 - 2004-06-30 23:59:59.0\n",
      "   SCW_ID   \n",
      "------------\n",
      "017000370010\n",
      "017000380010\n",
      "017000380020\n",
      "017000380030\n",
      "017000390010\n",
      "017000400010\n",
      "017000410010\n",
      "017000420010\n",
      "017000690010\n",
      "017000700010\n",
      "         ...\n",
      "017000890010\n",
      "017000900010\n",
      "017000910010\n",
      "017000920010\n",
      "017000930010\n",
      "017000940010\n",
      "017000950010\n",
      "017000960010\n",
      "017700160010\n",
      "017700170010\n",
      "018100050010\n",
      "Length = 39 rows\n",
      "Is complete False\n",
      "2004-07-01 00:00:00.0 - 2004-12-31 23:59:59.0\n",
      "   SCW_ID   \n",
      "------------\n",
      "022500120010\n",
      "022500130010\n",
      "022500140010\n",
      "022900500010\n",
      "023900020010\n",
      "023900020020\n",
      "023900030010\n",
      "023900040010\n",
      "023900050010\n",
      "023900060010\n",
      "         ...\n",
      "023900920010\n",
      "023900930010\n",
      "023900940010\n",
      "023900950010\n",
      "023900960010\n",
      "023900970010\n",
      "023900980010\n",
      "023900990010\n",
      "023901000010\n",
      "024200100010\n",
      "024200110010\n",
      "Length = 101 rows\n"
     ]
    },
    {
     "name": "stderr",
     "output_type": "stream",
     "text": [
      "WARNING: InputWarning: Coordinate string is being interpreted as an ICRS coordinate provided in degrees. [astroquery.utils.commons]\n"
     ]
    },
    {
     "name": "stdout",
     "output_type": "stream",
     "text": [
      "Is complete False\n",
      "2005-01-01 00:00:00.0 - 2005-06-30 23:59:59.0\n",
      "   SCW_ID   \n",
      "------------\n",
      "030000040010\n",
      "030000050010\n",
      "030000060010\n",
      "030000070010\n",
      "030000080010\n",
      "030000090010\n",
      "030000100010\n",
      "030000110010\n",
      "030000120010\n",
      "030000130010\n",
      "         ...\n",
      "030000210010\n",
      "030000220010\n",
      "030000230010\n",
      "030000240010\n",
      "030000250010\n",
      "030000260010\n",
      "030000270010\n",
      "030000280010\n",
      "030100140010\n",
      "030100150010\n",
      "030800040010\n",
      "Length = 28 rows\n"
     ]
    },
    {
     "name": "stderr",
     "output_type": "stream",
     "text": [
      "WARNING: InputWarning: Coordinate string is being interpreted as an ICRS coordinate provided in degrees. [astroquery.utils.commons]\n"
     ]
    },
    {
     "name": "stdout",
     "output_type": "stream",
     "text": [
      "Is complete False\n",
      "2005-07-01 00:00:00.0 - 2005-12-31 23:59:59.0\n",
      "   SCW_ID   \n",
      "------------\n",
      "035200040010\n",
      "035200050010\n",
      "035200060010\n",
      "035200070010\n",
      "035200080010\n",
      "035200090010\n",
      "035200100010\n",
      "035200110010\n",
      "035200120010\n",
      "035200130010\n",
      "         ...\n",
      "036500960010\n",
      "036500970010\n",
      "036500980010\n",
      "036500990010\n",
      "036501000010\n",
      "036501010010\n",
      "036501020010\n",
      "036501030010\n",
      "036501040010\n",
      "036501040020\n",
      "037200190010\n",
      "Length = 86 rows\n"
     ]
    },
    {
     "name": "stderr",
     "output_type": "stream",
     "text": [
      "WARNING: InputWarning: Coordinate string is being interpreted as an ICRS coordinate provided in degrees. [astroquery.utils.commons]\n"
     ]
    },
    {
     "name": "stdout",
     "output_type": "stream",
     "text": [
      "Is complete False\n",
      "2006-01-01 00:00:00.0 - 2006-06-30 23:59:59.0\n",
      "   SCW_ID   \n",
      "------------\n",
      "042000140010\n",
      "042200020010\n",
      "042200030010\n",
      "042200040010\n",
      "042200050010\n",
      "042200060010\n",
      "042200070010\n",
      "042200080010\n",
      "042200090010\n",
      "042200100010\n",
      "         ...\n",
      "042201060010\n",
      "042201070010\n",
      "042201080010\n",
      "042201090010\n",
      "042201100010\n",
      "042201110010\n",
      "042201120010\n",
      "042201120020\n",
      "042201120030\n",
      "042800690010\n",
      "042800700010\n",
      "Length = 114 rows\n"
     ]
    },
    {
     "name": "stderr",
     "output_type": "stream",
     "text": [
      "WARNING: InputWarning: Coordinate string is being interpreted as an ICRS coordinate provided in degrees. [astroquery.utils.commons]\n"
     ]
    },
    {
     "name": "stdout",
     "output_type": "stream",
     "text": [
      "Is complete False\n",
      "2006-07-01 00:00:00.0 - 2006-12-31 23:59:59.0\n",
      "   SCW_ID   \n",
      "------------\n",
      "046800040010\n",
      "046800050010\n",
      "048300410010\n",
      "048300410020\n",
      "048300410030\n",
      "048300420010\n",
      "048300420020\n",
      "048300420030\n",
      "048300430010\n",
      "048300430020\n",
      "         ...\n",
      "048300580010\n",
      "048300590010\n",
      "048300600010\n",
      "048300610010\n",
      "048300620010\n",
      "048300630010\n",
      "048300640010\n",
      "048300650010\n",
      "048300660010\n",
      "048300670010\n",
      "048300680010\n",
      "Length = 34 rows\n"
     ]
    },
    {
     "name": "stderr",
     "output_type": "stream",
     "text": [
      "WARNING: InputWarning: Coordinate string is being interpreted as an ICRS coordinate provided in degrees. [astroquery.utils.commons]\n"
     ]
    },
    {
     "name": "stdout",
     "output_type": "stream",
     "text": [
      "Is complete False\n",
      "complete 0 / 6\n",
      "not done\n",
      "2004-01-01 00:00:00.0 - 2004-06-30 23:59:59.0\n",
      "   SCW_ID   \n",
      "------------\n",
      "017000370010\n",
      "017000380010\n",
      "017000380020\n",
      "017000380030\n",
      "017000390010\n",
      "017000400010\n",
      "017000410010\n",
      "017000420010\n",
      "017000690010\n",
      "017000700010\n",
      "         ...\n",
      "017000890010\n",
      "017000900010\n",
      "017000910010\n",
      "017000920010\n",
      "017000930010\n",
      "017000940010\n",
      "017000950010\n",
      "017000960010\n",
      "017700160010\n",
      "017700170010\n",
      "018100050010\n",
      "Length = 39 rows\n"
     ]
    },
    {
     "name": "stderr",
     "output_type": "stream",
     "text": [
      "WARNING: InputWarning: Coordinate string is being interpreted as an ICRS coordinate provided in degrees. [astroquery.utils.commons]\n"
     ]
    },
    {
     "name": "stdout",
     "output_type": "stream",
     "text": [
      "Is complete False\n",
      "2004-07-01 00:00:00.0 - 2004-12-31 23:59:59.0\n",
      "   SCW_ID   \n",
      "------------\n",
      "022500120010\n",
      "022500130010\n",
      "022500140010\n",
      "022900500010\n",
      "023900020010\n",
      "023900020020\n",
      "023900030010\n",
      "023900040010\n",
      "023900050010\n",
      "023900060010\n",
      "         ...\n",
      "023900920010\n",
      "023900930010\n",
      "023900940010\n",
      "023900950010\n",
      "023900960010\n",
      "023900970010\n",
      "023900980010\n",
      "023900990010\n",
      "023901000010\n",
      "024200100010\n",
      "024200110010\n",
      "Length = 101 rows\n"
     ]
    },
    {
     "name": "stderr",
     "output_type": "stream",
     "text": [
      "WARNING: InputWarning: Coordinate string is being interpreted as an ICRS coordinate provided in degrees. [astroquery.utils.commons]\n"
     ]
    },
    {
     "name": "stdout",
     "output_type": "stream",
     "text": [
      "Is complete False\n",
      "2005-01-01 00:00:00.0 - 2005-06-30 23:59:59.0\n",
      "   SCW_ID   \n",
      "------------\n",
      "030000040010\n",
      "030000050010\n",
      "030000060010\n",
      "030000070010\n",
      "030000080010\n",
      "030000090010\n",
      "030000100010\n",
      "030000110010\n",
      "030000120010\n",
      "030000130010\n",
      "         ...\n",
      "030000210010\n",
      "030000220010\n",
      "030000230010\n",
      "030000240010\n",
      "030000250010\n",
      "030000260010\n",
      "030000270010\n",
      "030000280010\n",
      "030100140010\n",
      "030100150010\n",
      "030800040010\n",
      "Length = 28 rows\n"
     ]
    },
    {
     "name": "stderr",
     "output_type": "stream",
     "text": [
      "WARNING: InputWarning: Coordinate string is being interpreted as an ICRS coordinate provided in degrees. [astroquery.utils.commons]\n"
     ]
    },
    {
     "name": "stdout",
     "output_type": "stream",
     "text": [
      "Is complete False\n",
      "2005-07-01 00:00:00.0 - 2005-12-31 23:59:59.0\n",
      "   SCW_ID   \n",
      "------------\n",
      "035200040010\n",
      "035200050010\n",
      "035200060010\n",
      "035200070010\n",
      "035200080010\n",
      "035200090010\n",
      "035200100010\n",
      "035200110010\n",
      "035200120010\n",
      "035200130010\n",
      "         ...\n",
      "036500960010\n",
      "036500970010\n",
      "036500980010\n",
      "036500990010\n",
      "036501000010\n",
      "036501010010\n",
      "036501020010\n",
      "036501030010\n",
      "036501040010\n",
      "036501040020\n",
      "037200190010\n",
      "Length = 86 rows\n"
     ]
    },
    {
     "name": "stderr",
     "output_type": "stream",
     "text": [
      "WARNING: InputWarning: Coordinate string is being interpreted as an ICRS coordinate provided in degrees. [astroquery.utils.commons]\n"
     ]
    },
    {
     "name": "stdout",
     "output_type": "stream",
     "text": [
      "Is complete False\n",
      "2006-01-01 00:00:00.0 - 2006-06-30 23:59:59.0\n",
      "   SCW_ID   \n",
      "------------\n",
      "042000140010\n",
      "042200020010\n",
      "042200030010\n",
      "042200040010\n",
      "042200050010\n",
      "042200060010\n",
      "042200070010\n",
      "042200080010\n",
      "042200090010\n",
      "042200100010\n",
      "         ...\n",
      "042201060010\n",
      "042201070010\n",
      "042201080010\n",
      "042201090010\n",
      "042201100010\n",
      "042201110010\n",
      "042201120010\n",
      "042201120020\n",
      "042201120030\n",
      "042800690010\n",
      "042800700010\n",
      "Length = 114 rows\n"
     ]
    },
    {
     "name": "stderr",
     "output_type": "stream",
     "text": [
      "WARNING: InputWarning: Coordinate string is being interpreted as an ICRS coordinate provided in degrees. [astroquery.utils.commons]\n"
     ]
    },
    {
     "name": "stdout",
     "output_type": "stream",
     "text": [
      "Is complete False\n",
      "2006-07-01 00:00:00.0 - 2006-12-31 23:59:59.0\n",
      "   SCW_ID   \n",
      "------------\n",
      "046800040010\n",
      "046800050010\n",
      "048300410010\n",
      "048300410020\n",
      "048300410030\n",
      "048300420010\n",
      "048300420020\n",
      "048300420030\n",
      "048300430010\n",
      "048300430020\n",
      "         ...\n",
      "048300580010\n",
      "048300590010\n",
      "048300600010\n",
      "048300610010\n",
      "048300620010\n",
      "048300630010\n",
      "048300640010\n",
      "048300650010\n",
      "048300660010\n",
      "048300670010\n",
      "048300680010\n",
      "Length = 34 rows\n"
     ]
    },
    {
     "name": "stderr",
     "output_type": "stream",
     "text": [
      "WARNING: InputWarning: Coordinate string is being interpreted as an ICRS coordinate provided in degrees. [astroquery.utils.commons]\n"
     ]
    },
    {
     "name": "stdout",
     "output_type": "stream",
     "text": [
      "Is complete False\n",
      "complete 0 / 6\n",
      "not done\n",
      "2004-01-01 00:00:00.0 - 2004-06-30 23:59:59.0\n",
      "   SCW_ID   \n",
      "------------\n",
      "017000370010\n",
      "017000380010\n",
      "017000380020\n",
      "017000380030\n",
      "017000390010\n",
      "017000400010\n",
      "017000410010\n",
      "017000420010\n",
      "017000690010\n",
      "017000700010\n",
      "         ...\n",
      "017000890010\n",
      "017000900010\n",
      "017000910010\n",
      "017000920010\n",
      "017000930010\n",
      "017000940010\n",
      "017000950010\n",
      "017000960010\n",
      "017700160010\n",
      "017700170010\n",
      "018100050010\n",
      "Length = 39 rows\n"
     ]
    },
    {
     "name": "stderr",
     "output_type": "stream",
     "text": [
      "WARNING: InputWarning: Coordinate string is being interpreted as an ICRS coordinate provided in degrees. [astroquery.utils.commons]\n"
     ]
    },
    {
     "name": "stdout",
     "output_type": "stream",
     "text": [
      "Is complete False\n",
      "2004-07-01 00:00:00.0 - 2004-12-31 23:59:59.0\n",
      "   SCW_ID   \n",
      "------------\n",
      "022500120010\n",
      "022500130010\n",
      "022500140010\n",
      "022900500010\n",
      "023900020010\n",
      "023900020020\n",
      "023900030010\n",
      "023900040010\n",
      "023900050010\n",
      "023900060010\n",
      "         ...\n",
      "023900920010\n",
      "023900930010\n",
      "023900940010\n",
      "023900950010\n",
      "023900960010\n",
      "023900970010\n",
      "023900980010\n",
      "023900990010\n",
      "023901000010\n",
      "024200100010\n",
      "024200110010\n",
      "Length = 101 rows\n"
     ]
    },
    {
     "name": "stderr",
     "output_type": "stream",
     "text": [
      "WARNING: InputWarning: Coordinate string is being interpreted as an ICRS coordinate provided in degrees. [astroquery.utils.commons]\n"
     ]
    },
    {
     "name": "stdout",
     "output_type": "stream",
     "text": [
      "Is complete False\n",
      "2005-01-01 00:00:00.0 - 2005-06-30 23:59:59.0\n",
      "   SCW_ID   \n",
      "------------\n",
      "030000040010\n",
      "030000050010\n",
      "030000060010\n",
      "030000070010\n",
      "030000080010\n",
      "030000090010\n",
      "030000100010\n",
      "030000110010\n",
      "030000120010\n",
      "030000130010\n",
      "         ...\n",
      "030000210010\n",
      "030000220010\n",
      "030000230010\n",
      "030000240010\n",
      "030000250010\n",
      "030000260010\n",
      "030000270010\n",
      "030000280010\n",
      "030100140010\n",
      "030100150010\n",
      "030800040010\n",
      "Length = 28 rows\n"
     ]
    },
    {
     "name": "stderr",
     "output_type": "stream",
     "text": [
      "WARNING: InputWarning: Coordinate string is being interpreted as an ICRS coordinate provided in degrees. [astroquery.utils.commons]\n"
     ]
    },
    {
     "name": "stdout",
     "output_type": "stream",
     "text": [
      "Is complete False\n",
      "2005-07-01 00:00:00.0 - 2005-12-31 23:59:59.0\n",
      "   SCW_ID   \n",
      "------------\n",
      "035200040010\n",
      "035200050010\n",
      "035200060010\n",
      "035200070010\n",
      "035200080010\n",
      "035200090010\n",
      "035200100010\n",
      "035200110010\n",
      "035200120010\n",
      "035200130010\n",
      "         ...\n",
      "036500960010\n",
      "036500970010\n",
      "036500980010\n",
      "036500990010\n",
      "036501000010\n",
      "036501010010\n",
      "036501020010\n",
      "036501030010\n",
      "036501040010\n",
      "036501040020\n",
      "037200190010\n",
      "Length = 86 rows\n"
     ]
    },
    {
     "name": "stderr",
     "output_type": "stream",
     "text": [
      "WARNING: InputWarning: Coordinate string is being interpreted as an ICRS coordinate provided in degrees. [astroquery.utils.commons]\n"
     ]
    },
    {
     "name": "stdout",
     "output_type": "stream",
     "text": [
      "Is complete False\n",
      "2006-01-01 00:00:00.0 - 2006-06-30 23:59:59.0\n",
      "   SCW_ID   \n",
      "------------\n",
      "042000140010\n",
      "042200020010\n",
      "042200030010\n",
      "042200040010\n",
      "042200050010\n",
      "042200060010\n",
      "042200070010\n",
      "042200080010\n",
      "042200090010\n",
      "042200100010\n",
      "         ...\n",
      "042201060010\n",
      "042201070010\n",
      "042201080010\n",
      "042201090010\n",
      "042201100010\n",
      "042201110010\n",
      "042201120010\n",
      "042201120020\n",
      "042201120030\n",
      "042800690010\n",
      "042800700010\n",
      "Length = 114 rows\n"
     ]
    },
    {
     "name": "stderr",
     "output_type": "stream",
     "text": [
      "WARNING: InputWarning: Coordinate string is being interpreted as an ICRS coordinate provided in degrees. [astroquery.utils.commons]\n"
     ]
    },
    {
     "name": "stdout",
     "output_type": "stream",
     "text": [
      "Is complete False\n",
      "2006-07-01 00:00:00.0 - 2006-12-31 23:59:59.0\n",
      "   SCW_ID   \n",
      "------------\n",
      "046800040010\n",
      "046800050010\n",
      "048300410010\n",
      "048300410020\n",
      "048300410030\n",
      "048300420010\n",
      "048300420020\n",
      "048300420030\n",
      "048300430010\n",
      "048300430020\n",
      "         ...\n",
      "048300580010\n",
      "048300590010\n",
      "048300600010\n",
      "048300610010\n",
      "048300620010\n",
      "048300630010\n",
      "048300640010\n",
      "048300650010\n",
      "048300660010\n",
      "048300670010\n",
      "048300680010\n",
      "Length = 34 rows\n"
     ]
    },
    {
     "name": "stderr",
     "output_type": "stream",
     "text": [
      "WARNING: InputWarning: Coordinate string is being interpreted as an ICRS coordinate provided in degrees. [astroquery.utils.commons]\n"
     ]
    },
    {
     "name": "stdout",
     "output_type": "stream",
     "text": [
      "Is complete False\n",
      "complete 0 / 6\n",
      "not done\n",
      "2004-01-01 00:00:00.0 - 2004-06-30 23:59:59.0\n",
      "   SCW_ID   \n",
      "------------\n",
      "017000370010\n",
      "017000380010\n",
      "017000380020\n",
      "017000380030\n",
      "017000390010\n",
      "017000400010\n",
      "017000410010\n",
      "017000420010\n",
      "017000690010\n",
      "017000700010\n",
      "         ...\n",
      "017000890010\n",
      "017000900010\n",
      "017000910010\n",
      "017000920010\n",
      "017000930010\n",
      "017000940010\n",
      "017000950010\n",
      "017000960010\n",
      "017700160010\n",
      "017700170010\n",
      "018100050010\n",
      "Length = 39 rows\n"
     ]
    },
    {
     "name": "stderr",
     "output_type": "stream",
     "text": [
      "WARNING: InputWarning: Coordinate string is being interpreted as an ICRS coordinate provided in degrees. [astroquery.utils.commons]\n"
     ]
    },
    {
     "name": "stdout",
     "output_type": "stream",
     "text": [
      "Is complete False\n",
      "2004-07-01 00:00:00.0 - 2004-12-31 23:59:59.0\n",
      "   SCW_ID   \n",
      "------------\n",
      "022500120010\n",
      "022500130010\n",
      "022500140010\n",
      "022900500010\n",
      "023900020010\n",
      "023900020020\n",
      "023900030010\n",
      "023900040010\n",
      "023900050010\n",
      "023900060010\n",
      "         ...\n",
      "023900920010\n",
      "023900930010\n",
      "023900940010\n",
      "023900950010\n",
      "023900960010\n",
      "023900970010\n",
      "023900980010\n",
      "023900990010\n",
      "023901000010\n",
      "024200100010\n",
      "024200110010\n",
      "Length = 101 rows\n"
     ]
    },
    {
     "name": "stderr",
     "output_type": "stream",
     "text": [
      "WARNING: InputWarning: Coordinate string is being interpreted as an ICRS coordinate provided in degrees. [astroquery.utils.commons]\n"
     ]
    },
    {
     "name": "stdout",
     "output_type": "stream",
     "text": [
      "Is complete False\n",
      "2005-01-01 00:00:00.0 - 2005-06-30 23:59:59.0\n",
      "   SCW_ID   \n",
      "------------\n",
      "030000040010\n",
      "030000050010\n",
      "030000060010\n",
      "030000070010\n",
      "030000080010\n",
      "030000090010\n",
      "030000100010\n",
      "030000110010\n",
      "030000120010\n",
      "030000130010\n",
      "         ...\n",
      "030000210010\n",
      "030000220010\n",
      "030000230010\n",
      "030000240010\n",
      "030000250010\n",
      "030000260010\n",
      "030000270010\n",
      "030000280010\n",
      "030100140010\n",
      "030100150010\n",
      "030800040010\n",
      "Length = 28 rows\n"
     ]
    },
    {
     "name": "stderr",
     "output_type": "stream",
     "text": [
      "WARNING: InputWarning: Coordinate string is being interpreted as an ICRS coordinate provided in degrees. [astroquery.utils.commons]\n"
     ]
    },
    {
     "name": "stdout",
     "output_type": "stream",
     "text": [
      "Is complete False\n",
      "2005-07-01 00:00:00.0 - 2005-12-31 23:59:59.0\n",
      "   SCW_ID   \n",
      "------------\n",
      "035200040010\n",
      "035200050010\n",
      "035200060010\n",
      "035200070010\n",
      "035200080010\n",
      "035200090010\n",
      "035200100010\n",
      "035200110010\n",
      "035200120010\n",
      "035200130010\n",
      "         ...\n",
      "036500960010\n",
      "036500970010\n",
      "036500980010\n",
      "036500990010\n",
      "036501000010\n",
      "036501010010\n",
      "036501020010\n",
      "036501030010\n",
      "036501040010\n",
      "036501040020\n",
      "037200190010\n",
      "Length = 86 rows\n"
     ]
    },
    {
     "name": "stderr",
     "output_type": "stream",
     "text": [
      "WARNING: InputWarning: Coordinate string is being interpreted as an ICRS coordinate provided in degrees. [astroquery.utils.commons]\n"
     ]
    },
    {
     "name": "stdout",
     "output_type": "stream",
     "text": [
      "Is complete False\n",
      "2006-01-01 00:00:00.0 - 2006-06-30 23:59:59.0\n",
      "   SCW_ID   \n",
      "------------\n",
      "042000140010\n",
      "042200020010\n",
      "042200030010\n",
      "042200040010\n",
      "042200050010\n",
      "042200060010\n",
      "042200070010\n",
      "042200080010\n",
      "042200090010\n",
      "042200100010\n",
      "         ...\n",
      "042201060010\n",
      "042201070010\n",
      "042201080010\n",
      "042201090010\n",
      "042201100010\n",
      "042201110010\n",
      "042201120010\n",
      "042201120020\n",
      "042201120030\n",
      "042800690010\n",
      "042800700010\n",
      "Length = 114 rows\n"
     ]
    },
    {
     "name": "stderr",
     "output_type": "stream",
     "text": [
      "WARNING: InputWarning: Coordinate string is being interpreted as an ICRS coordinate provided in degrees. [astroquery.utils.commons]\n"
     ]
    },
    {
     "name": "stdout",
     "output_type": "stream",
     "text": [
      "Is complete False\n",
      "2006-07-01 00:00:00.0 - 2006-12-31 23:59:59.0\n",
      "   SCW_ID   \n",
      "------------\n",
      "046800040010\n",
      "046800050010\n",
      "048300410010\n",
      "048300410020\n",
      "048300410030\n",
      "048300420010\n",
      "048300420020\n",
      "048300420030\n",
      "048300430010\n",
      "048300430020\n",
      "         ...\n",
      "048300580010\n",
      "048300590010\n",
      "048300600010\n",
      "048300610010\n",
      "048300620010\n",
      "048300630010\n",
      "048300640010\n",
      "048300650010\n",
      "048300660010\n",
      "048300670010\n",
      "048300680010\n",
      "Length = 34 rows\n"
     ]
    },
    {
     "name": "stderr",
     "output_type": "stream",
     "text": [
      "WARNING: InputWarning: Coordinate string is being interpreted as an ICRS coordinate provided in degrees. [astroquery.utils.commons]\n"
     ]
    },
    {
     "name": "stdout",
     "output_type": "stream",
     "text": [
      "Is complete False\n",
      "complete 0 / 6\n",
      "not done\n",
      "2004-01-01 00:00:00.0 - 2004-06-30 23:59:59.0\n",
      "   SCW_ID   \n",
      "------------\n",
      "017000370010\n",
      "017000380010\n",
      "017000380020\n",
      "017000380030\n",
      "017000390010\n",
      "017000400010\n",
      "017000410010\n",
      "017000420010\n",
      "017000690010\n",
      "017000700010\n",
      "         ...\n",
      "017000890010\n",
      "017000900010\n",
      "017000910010\n",
      "017000920010\n",
      "017000930010\n",
      "017000940010\n",
      "017000950010\n",
      "017000960010\n",
      "017700160010\n",
      "017700170010\n",
      "018100050010\n",
      "Length = 39 rows\n"
     ]
    },
    {
     "name": "stderr",
     "output_type": "stream",
     "text": [
      "WARNING: InputWarning: Coordinate string is being interpreted as an ICRS coordinate provided in degrees. [astroquery.utils.commons]\n"
     ]
    },
    {
     "name": "stdout",
     "output_type": "stream",
     "text": [
      "Is complete False\n",
      "2004-07-01 00:00:00.0 - 2004-12-31 23:59:59.0\n",
      "   SCW_ID   \n",
      "------------\n",
      "022500120010\n",
      "022500130010\n",
      "022500140010\n",
      "022900500010\n",
      "023900020010\n",
      "023900020020\n",
      "023900030010\n",
      "023900040010\n",
      "023900050010\n",
      "023900060010\n",
      "         ...\n",
      "023900920010\n",
      "023900930010\n",
      "023900940010\n",
      "023900950010\n",
      "023900960010\n",
      "023900970010\n",
      "023900980010\n",
      "023900990010\n",
      "023901000010\n",
      "024200100010\n",
      "024200110010\n",
      "Length = 101 rows\n"
     ]
    },
    {
     "name": "stderr",
     "output_type": "stream",
     "text": [
      "WARNING: InputWarning: Coordinate string is being interpreted as an ICRS coordinate provided in degrees. [astroquery.utils.commons]\n"
     ]
    },
    {
     "name": "stdout",
     "output_type": "stream",
     "text": [
      "Is complete False\n",
      "2005-01-01 00:00:00.0 - 2005-06-30 23:59:59.0\n",
      "   SCW_ID   \n",
      "------------\n",
      "030000040010\n",
      "030000050010\n",
      "030000060010\n",
      "030000070010\n",
      "030000080010\n",
      "030000090010\n",
      "030000100010\n",
      "030000110010\n",
      "030000120010\n",
      "030000130010\n",
      "         ...\n",
      "030000210010\n",
      "030000220010\n",
      "030000230010\n",
      "030000240010\n",
      "030000250010\n",
      "030000260010\n",
      "030000270010\n",
      "030000280010\n",
      "030100140010\n",
      "030100150010\n",
      "030800040010\n",
      "Length = 28 rows\n"
     ]
    },
    {
     "name": "stderr",
     "output_type": "stream",
     "text": [
      "WARNING: InputWarning: Coordinate string is being interpreted as an ICRS coordinate provided in degrees. [astroquery.utils.commons]\n"
     ]
    },
    {
     "name": "stdout",
     "output_type": "stream",
     "text": [
      "Is complete False\n",
      "2005-07-01 00:00:00.0 - 2005-12-31 23:59:59.0\n",
      "   SCW_ID   \n",
      "------------\n",
      "035200040010\n",
      "035200050010\n",
      "035200060010\n",
      "035200070010\n",
      "035200080010\n",
      "035200090010\n",
      "035200100010\n",
      "035200110010\n",
      "035200120010\n",
      "035200130010\n",
      "         ...\n",
      "036500960010\n",
      "036500970010\n",
      "036500980010\n",
      "036500990010\n",
      "036501000010\n",
      "036501010010\n",
      "036501020010\n",
      "036501030010\n",
      "036501040010\n",
      "036501040020\n",
      "037200190010\n",
      "Length = 86 rows\n"
     ]
    },
    {
     "name": "stderr",
     "output_type": "stream",
     "text": [
      "WARNING: InputWarning: Coordinate string is being interpreted as an ICRS coordinate provided in degrees. [astroquery.utils.commons]\n"
     ]
    },
    {
     "name": "stdout",
     "output_type": "stream",
     "text": [
      "Is complete False\n",
      "2006-01-01 00:00:00.0 - 2006-06-30 23:59:59.0\n",
      "   SCW_ID   \n",
      "------------\n",
      "042000140010\n",
      "042200020010\n",
      "042200030010\n",
      "042200040010\n",
      "042200050010\n",
      "042200060010\n",
      "042200070010\n",
      "042200080010\n",
      "042200090010\n",
      "042200100010\n",
      "         ...\n",
      "042201060010\n",
      "042201070010\n",
      "042201080010\n",
      "042201090010\n",
      "042201100010\n",
      "042201110010\n",
      "042201120010\n",
      "042201120020\n",
      "042201120030\n",
      "042800690010\n",
      "042800700010\n",
      "Length = 114 rows\n"
     ]
    },
    {
     "name": "stderr",
     "output_type": "stream",
     "text": [
      "WARNING: InputWarning: Coordinate string is being interpreted as an ICRS coordinate provided in degrees. [astroquery.utils.commons]\n"
     ]
    },
    {
     "name": "stdout",
     "output_type": "stream",
     "text": [
      "Is complete False\n",
      "2006-07-01 00:00:00.0 - 2006-12-31 23:59:59.0\n",
      "   SCW_ID   \n",
      "------------\n",
      "046800040010\n",
      "046800050010\n",
      "048300410010\n",
      "048300410020\n",
      "048300410030\n",
      "048300420010\n",
      "048300420020\n",
      "048300420030\n",
      "048300430010\n",
      "048300430020\n",
      "         ...\n",
      "048300580010\n",
      "048300590010\n",
      "048300600010\n",
      "048300610010\n",
      "048300620010\n",
      "048300630010\n",
      "048300640010\n",
      "048300650010\n",
      "048300660010\n",
      "048300670010\n",
      "048300680010\n",
      "Length = 34 rows\n"
     ]
    },
    {
     "name": "stderr",
     "output_type": "stream",
     "text": [
      "WARNING: InputWarning: Coordinate string is being interpreted as an ICRS coordinate provided in degrees. [astroquery.utils.commons]\n"
     ]
    },
    {
     "name": "stdout",
     "output_type": "stream",
     "text": [
      "Is complete False\n",
      "complete 0 / 6\n",
      "not done\n",
      "2004-01-01 00:00:00.0 - 2004-06-30 23:59:59.0\n",
      "   SCW_ID   \n",
      "------------\n",
      "017000370010\n",
      "017000380010\n",
      "017000380020\n",
      "017000380030\n",
      "017000390010\n",
      "017000400010\n",
      "017000410010\n",
      "017000420010\n",
      "017000690010\n",
      "017000700010\n",
      "         ...\n",
      "017000890010\n",
      "017000900010\n",
      "017000910010\n",
      "017000920010\n",
      "017000930010\n",
      "017000940010\n",
      "017000950010\n",
      "017000960010\n",
      "017700160010\n",
      "017700170010\n",
      "018100050010\n",
      "Length = 39 rows\n"
     ]
    },
    {
     "name": "stderr",
     "output_type": "stream",
     "text": [
      "WARNING: InputWarning: Coordinate string is being interpreted as an ICRS coordinate provided in degrees. [astroquery.utils.commons]\n"
     ]
    },
    {
     "name": "stdout",
     "output_type": "stream",
     "text": [
      "Is complete True\n",
      "3 4 5\n",
      "2004-07-01 00:00:00.0 - 2004-12-31 23:59:59.0\n"
     ]
    },
    {
     "name": "stderr",
     "output_type": "stream",
     "text": [
      "WARNING: InputWarning: Coordinate string is being interpreted as an ICRS coordinate provided in degrees. [astroquery.utils.commons]\n"
     ]
    },
    {
     "name": "stdout",
     "output_type": "stream",
     "text": [
      "   SCW_ID   \n",
      "------------\n",
      "022500120010\n",
      "022500130010\n",
      "022500140010\n",
      "022900500010\n",
      "023900020010\n",
      "023900020020\n",
      "023900030010\n",
      "023900040010\n",
      "023900050010\n",
      "023900060010\n",
      "         ...\n",
      "023900920010\n",
      "023900930010\n",
      "023900940010\n",
      "023900950010\n",
      "023900960010\n",
      "023900970010\n",
      "023900980010\n",
      "023900990010\n",
      "023901000010\n",
      "024200100010\n",
      "024200110010\n",
      "Length = 101 rows\n",
      "Is complete True\n",
      "3 4 5\n",
      "2005-01-01 00:00:00.0 - 2005-06-30 23:59:59.0\n"
     ]
    },
    {
     "name": "stderr",
     "output_type": "stream",
     "text": [
      "WARNING: InputWarning: Coordinate string is being interpreted as an ICRS coordinate provided in degrees. [astroquery.utils.commons]\n"
     ]
    },
    {
     "name": "stdout",
     "output_type": "stream",
     "text": [
      "   SCW_ID   \n",
      "------------\n",
      "030000040010\n",
      "030000050010\n",
      "030000060010\n",
      "030000070010\n",
      "030000080010\n",
      "030000090010\n",
      "030000100010\n",
      "030000110010\n",
      "030000120010\n",
      "030000130010\n",
      "         ...\n",
      "030000210010\n",
      "030000220010\n",
      "030000230010\n",
      "030000240010\n",
      "030000250010\n",
      "030000260010\n",
      "030000270010\n",
      "030000280010\n",
      "030100140010\n",
      "030100150010\n",
      "030800040010\n",
      "Length = 28 rows\n",
      "Is complete True\n",
      "3 4 5\n",
      "2005-07-01 00:00:00.0 - 2005-12-31 23:59:59.0\n"
     ]
    },
    {
     "name": "stderr",
     "output_type": "stream",
     "text": [
      "WARNING: InputWarning: Coordinate string is being interpreted as an ICRS coordinate provided in degrees. [astroquery.utils.commons]\n"
     ]
    },
    {
     "name": "stdout",
     "output_type": "stream",
     "text": [
      "   SCW_ID   \n",
      "------------\n",
      "035200040010\n",
      "035200050010\n",
      "035200060010\n",
      "035200070010\n",
      "035200080010\n",
      "035200090010\n",
      "035200100010\n",
      "035200110010\n",
      "035200120010\n",
      "035200130010\n",
      "         ...\n",
      "036500960010\n",
      "036500970010\n",
      "036500980010\n",
      "036500990010\n",
      "036501000010\n",
      "036501010010\n",
      "036501020010\n",
      "036501030010\n",
      "036501040010\n",
      "036501040020\n",
      "037200190010\n",
      "Length = 86 rows\n",
      "Is complete True\n",
      "3 4 5\n",
      "2006-01-01 00:00:00.0 - 2006-06-30 23:59:59.0\n"
     ]
    },
    {
     "name": "stderr",
     "output_type": "stream",
     "text": [
      "WARNING: InputWarning: Coordinate string is being interpreted as an ICRS coordinate provided in degrees. [astroquery.utils.commons]\n"
     ]
    },
    {
     "name": "stdout",
     "output_type": "stream",
     "text": [
      "   SCW_ID   \n",
      "------------\n",
      "042000140010\n",
      "042200020010\n",
      "042200030010\n",
      "042200040010\n",
      "042200050010\n",
      "042200060010\n",
      "042200070010\n",
      "042200080010\n",
      "042200090010\n",
      "042200100010\n",
      "         ...\n",
      "042201060010\n",
      "042201070010\n",
      "042201080010\n",
      "042201090010\n",
      "042201100010\n",
      "042201110010\n",
      "042201120010\n",
      "042201120020\n",
      "042201120030\n",
      "042800690010\n",
      "042800700010\n",
      "Length = 114 rows\n",
      "Is complete True\n",
      "3 4 5\n",
      "2006-07-01 00:00:00.0 - 2006-12-31 23:59:59.0\n"
     ]
    },
    {
     "name": "stderr",
     "output_type": "stream",
     "text": [
      "WARNING: InputWarning: Coordinate string is being interpreted as an ICRS coordinate provided in degrees. [astroquery.utils.commons]\n"
     ]
    },
    {
     "name": "stdout",
     "output_type": "stream",
     "text": [
      "   SCW_ID   \n",
      "------------\n",
      "046800040010\n",
      "046800050010\n",
      "048300410010\n",
      "048300410020\n",
      "048300410030\n",
      "048300420010\n",
      "048300420020\n",
      "048300420030\n",
      "048300430010\n",
      "048300430020\n",
      "         ...\n",
      "048300580010\n",
      "048300590010\n",
      "048300600010\n",
      "048300610010\n",
      "048300620010\n",
      "048300630010\n",
      "048300640010\n",
      "048300650010\n",
      "048300660010\n",
      "048300670010\n",
      "048300680010\n",
      "Length = 34 rows\n",
      "Is complete True\n",
      "3 4 5\n",
      "complete 6 / 6\n",
      "done!\n"
     ]
    }
   ],
   "source": [
    "#Here, we collect and save spectra for each year and semester\n",
    "\n",
    "spectrum_results=[]\n",
    "\n",
    "disp_by_ys = {}\n",
    "data_by_ys = {}\n",
    "\n",
    "par_dict = {'instrument':'isgri',\n",
    "          'product': 'isgri_spectrum',\n",
    "          'osa_version' : osa_version,\n",
    "          'product_type': 'Real',         \n",
    "          'selected_catalog' : json.dumps(api_cat)}\n",
    "\n",
    "if token != '':\n",
    "    par_dict.update({'token': token})\n",
    "\n",
    "while True:\n",
    "    spectrum_results=[]\n",
    "\n",
    "    for year in range(start_year, end_year+1): \n",
    "        for semester in [1,2]:\n",
    "            if semester ==1:\n",
    "                T1_utc='%4d-01-01 00:00:00.0'%year\n",
    "                T2_utc='%4d-06-30 23:59:59.0'%year # there are 30 days in June!\n",
    "            else:\n",
    "                T1_utc='%4d-07-01 00:00:00.0'%year\n",
    "                T2_utc='%4d-12-31 23:59:59.0'%year \n",
    "\n",
    "            print(T1_utc,'-',T2_utc)\n",
    "\n",
    "            scwlist, version = get_scw_list(ra, dec,radius, T1_utc, T2_utc)\n",
    "            \n",
    "            print(scwlist)\n",
    "            \n",
    "            if len(scwlist) == 0:\n",
    "                raise Exception('No science windows in %d semester %d'%(year,semester))\n",
    "\n",
    "            scw_pick = [(s+\".\"+v).strip() for s,v in zip(scwlist,version)]\n",
    "                 \n",
    "            if nscw >0 and len(scw_pick)>=nscw:\n",
    "                random.seed(0)\n",
    "                scw_pick = random.sample(scw_pick, nscw)\n",
    "            \n",
    "            scw_list_str = \",\".join(sorted(scw_pick))\n",
    "            \n",
    "            #print(\"We analyze these scws: \", scw_list_str)\n",
    "            \n",
    "            if '-' not in osa_version:\n",
    "                if year >= 2016:\n",
    "                    osa_version='OSA11.0'\n",
    "                else:\n",
    "                    osa_version='OSA10.2'\n",
    "                    \n",
    "            ys = (year, semester)\n",
    "\n",
    "            if ys not in disp_by_ys:\n",
    "                disp_by_ys[ys] = oda_api.api.DispatcherAPI(url=disp.url, wait=False)\n",
    "            \n",
    "            _disp = disp_by_ys[ys]\n",
    "\n",
    "            data = data_by_ys.get(ys, None)\n",
    "            \n",
    "            par_dict.update({'scw_list': scw_list_str})\n",
    "            \n",
    "            if data is None and not _disp.is_failed:\n",
    "                data = _disp.get_product(**par_dict)\n",
    "                \n",
    "                data_by_ys[ys] = data\n",
    "\n",
    "#                 if not _disp.is_complete:\n",
    "#                     continue\n",
    "\n",
    "                if not _disp.is_submitted:\n",
    "                    data = _disp.get_product(**par_dict)\n",
    "                else:\n",
    "                    _disp.poll()\n",
    "\n",
    "                \n",
    "                print(\"Is complete\", _disp.is_complete)\n",
    "                if not _disp.is_complete:\n",
    "                    continue\n",
    "                else:\n",
    "                    data = _disp.get_product(**par_dict)\n",
    "\n",
    "            # This part saves the spectra in fits files and updates some keywords\n",
    "            \n",
    "            for ID,s in enumerate(data._p_list):\n",
    "                if (s.meta_data['src_name']==source_name):\n",
    "                    if(s.meta_data['product']=='isgri_spectrum'):\n",
    "                        ID_spec=ID\n",
    "                    if(s.meta_data['product']=='isgri_arf'):\n",
    "                        ID_arf=ID\n",
    "                    if(s.meta_data['product']=='isgri_rmf'):\n",
    "                        ID_rmf=ID\n",
    "\n",
    "            print(ID_spec, ID_arf, ID_rmf)\n",
    "\n",
    "            spec=data._p_list[ID_spec].data_unit[1].data\n",
    "            arf=data._p_list[ID_arf].data_unit[1].data\n",
    "            rmf=data._p_list[ID_rmf].data_unit[2].data\n",
    "            expos=data._p_list[0].data_unit[1].header['EXPOSURE']\n",
    "            name=source_name+'_'+str(year)+'_%d'%semester\n",
    "            specname=name+'_spectrum.fits'\n",
    "            arfname=name+'_arf.fits.gz'\n",
    "            rmfname=name+'_rmf.fits.gz'\n",
    "            data._p_list[ID_spec].write_fits_file(specname)\n",
    "            data._p_list[ID_arf].write_fits_file(arfname)\n",
    "            data._p_list[ID_rmf].write_fits_file(rmfname)\n",
    "            hdul = fits.open(specname, mode='update')\n",
    "            hdul[1].header.set('EXPOSURE', expos)\n",
    "            hdul[1].header['RESPFILE']=rmfname\n",
    "            hdul[1].header['ANCRFILE']=arfname\n",
    "            hdul[1].data['SYS_ERR']=systematic_fraction\n",
    "\n",
    "            hdul.close()\n",
    "\n",
    "\n",
    "            spectrum_results.append(data)\n",
    "        \n",
    "    n_complete = len([ year for year, _disp in disp_by_ys.items() if _disp.is_complete ])\n",
    "    print(f\"complete {n_complete} / {len(disp_by_ys)}\")\n",
    "    if n_complete == len(disp_by_ys):\n",
    "        print(\"done!\")\n",
    "        break\n",
    "    print(\"not done\")\n"
   ]
  },
  {
   "cell_type": "markdown",
   "metadata": {},
   "source": [
    "## If xspec is available, we make a fit of each spectrum"
   ]
  },
  {
   "cell_type": "code",
   "execution_count": 14,
   "metadata": {},
   "outputs": [
    {
     "name": "stdout",
     "output_type": "stream",
     "text": [
      "7\n",
      "ISGRI ignore: **-20.00,500.-**\n",
      "lg10Flux -7.83 False False\n",
      "PhoIndx1 2.07 False False\n",
      "PhoIndx2 2.26 False False\n"
     ]
    },
    {
     "data": {
      "image/png": "[encoded data removed]",
      "text/plain": [
       "<IPython.core.display.Image object>"
      ]
     },
     "metadata": {},
     "output_type": "display_data"
    },
    {
     "name": "stdout",
     "output_type": "stream",
     "text": [
      "7\n",
      "ISGRI ignore: **-20.00,500.-**\n",
      "lg10Flux -7.83 False False\n",
      "PhoIndx1 2.07 False False\n",
      "PhoIndx2 2.28 False False\n"
     ]
    },
    {
     "data": {
      "image/png": "[encoded data removed]",
      "text/plain": [
       "<IPython.core.display.Image object>"
      ]
     },
     "metadata": {},
     "output_type": "display_data"
    },
    {
     "name": "stdout",
     "output_type": "stream",
     "text": [
      "7\n",
      "ISGRI ignore: **-20.00,500.-**\n",
      "lg10Flux -7.83 False False\n",
      "PhoIndx1 2.21 False False\n",
      "PhoIndx2 2.55 False False\n"
     ]
    },
    {
     "data": {
      "image/png": "[encoded data removed]",
      "text/plain": [
       "<IPython.core.display.Image object>"
      ]
     },
     "metadata": {},
     "output_type": "display_data"
    },
    {
     "name": "stdout",
     "output_type": "stream",
     "text": [
      "7\n",
      "ISGRI ignore: **-20.00,500.-**\n",
      "lg10Flux -7.82 False False\n",
      "PhoIndx1 2.19 False False\n",
      "PhoIndx2 2.45 False False\n"
     ]
    },
    {
     "data": {
      "image/png": "[encoded data removed]",
      "text/plain": [
       "<IPython.core.display.Image object>"
      ]
     },
     "metadata": {},
     "output_type": "display_data"
    },
    {
     "name": "stdout",
     "output_type": "stream",
     "text": [
      "7\n",
      "ISGRI ignore: **-20.00,500.-**\n",
      "lg10Flux -7.83 False False\n",
      "PhoIndx1 2.08 False False\n",
      "PhoIndx2 2.22 False False\n"
     ]
    },
    {
     "data": {
      "image/png": "[encoded data removed]",
      "text/plain": [
       "<IPython.core.display.Image object>"
      ]
     },
     "metadata": {},
     "output_type": "display_data"
    },
    {
     "name": "stdout",
     "output_type": "stream",
     "text": [
      "7\n",
      "ISGRI ignore: **-20.00,500.-**\n",
      "lg10Flux -7.82 False False\n",
      "PhoIndx1 2.07 False False\n",
      "PhoIndx2 2.26 False False\n"
     ]
    },
    {
     "data": {
      "image/png": "[encoded data removed]",
      "text/plain": [
       "<IPython.core.display.Image object>"
      ]
     },
     "metadata": {},
     "output_type": "display_data"
    }
   ],
   "source": [
    "try:\n",
    "\n",
    "    import xspec\n",
    "    import shutil\n",
    "    from IPython.display import Image\n",
    "    from IPython.display import display \n",
    "\n",
    "    xspec.Fit.statMethod = \"chi\"\n",
    "\n",
    "    #init dictionaries\n",
    "    fit_by_lt={}\n",
    "\n",
    "    model='cflux*bknpow'\n",
    "\n",
    "    xspec.AllModels.systematic=0.0\n",
    "    low_energies=[20]\n",
    "    freeze_pow_ebreak=1\n",
    "\n",
    "    for year in range(start_year,end_year+1):\n",
    "\n",
    "        for semester in [1,2]:\n",
    "\n",
    "            for c_emin in low_energies: #np.linspace(17,40,5):    \n",
    "                xspec.AllData.clear()\n",
    "\n",
    "                m1=xspec.Model(model)\n",
    "\n",
    "                specname=source_name+'_'+str(year)+'_%d'%semester+'_spectrum.fits'\n",
    "\n",
    "                xspec.AllData(specname)\n",
    "\n",
    "                s = xspec.AllData(1)\n",
    "\n",
    "                isgri = xspec.AllModels(1)\n",
    "\n",
    "                print(m1.nParameters)\n",
    "\n",
    "                xspec.AllData.ignore('bad')\n",
    "                xspec.AllData.ignore('500.0-**')\n",
    "\n",
    "                ig=\"**-%.2f,500.-**\"%c_emin\n",
    "                print(\"ISGRI ignore: \"+ ig)\n",
    "                s.ignore(ig)\n",
    "\n",
    "                #Key for output\n",
    "                lt_key='%d_%d_%.10lg'%(year,semester, c_emin)\n",
    "\n",
    "                isgri.cflux.lg10Flux=-8            \n",
    "\n",
    "                isgri.cflux.Emin=20.\n",
    "                isgri.cflux.Emax=80.\n",
    "\n",
    "                isgri.bknpower.norm = \"1,-1\"\n",
    "                isgri.bknpower.PhoIndx1 = \"2.0,.01,1.,1.,3.,3.\"\n",
    "                isgri.bknpower.PhoIndx2 = \"2.2,.01,1.,1.,3.,3.\"\n",
    "                isgri.bknpower.BreakE = \"100,-1,20,20,300,300\"\n",
    "\n",
    "                xspec.Fit.perform()\n",
    "                isgri.bknpower.BreakE.frozen = freeze_pow_ebreak  > 0\n",
    "\n",
    "                xspec.Fit.perform()\n",
    "\n",
    "                max_chi=np.ceil(xspec.Fit.statistic / xspec.Fit.dof)\n",
    "\n",
    "                xspec.Fit.error(\"1.0 max %.1f 1-%d\"%(max_chi,m1.nParameters))\n",
    "\n",
    "\n",
    "                fit_by_lt[lt_key]=dict(\n",
    "                        emin=c_emin,\n",
    "                        year=year,\n",
    "                        semester=semester,\n",
    "                        chi2_red=xspec.Fit.statistic/xspec.Fit.dof,                                \n",
    "                        chi2=xspec.Fit.statistic,\n",
    "                        ndof=xspec.Fit.dof,                                    \n",
    "                    )\n",
    "\n",
    "                for i in range(1,m1.nParameters+1): \n",
    "                    if (not isgri(i).frozen) and (not bool(isgri(i).link)):\n",
    "                        #use the name plus position because there could be parameters with same name from multiple \n",
    "                        #model components (e.g., several gaussians)\n",
    "                        print(isgri(i).name, \"%.2f\"%(isgri(i).values[0]), isgri(i).frozen,bool(isgri(i).link) )\n",
    "                        fit_by_lt[lt_key][isgri(i).name+\"_%02d\"%(i)]=[ isgri(i).values[0], isgri(i).error[0], isgri(i).error[1] ]\n",
    "\n",
    "\n",
    "\n",
    "                xspec.Plot.device=\"/png\"\n",
    "                #xspec.Plot.addCommand(\"setplot en\")\n",
    "                xspec.Plot.xAxis=\"keV\"\n",
    "                xspec.Plot(\"ldata del\")\n",
    "                xspec.Plot.device=\"/png\"\n",
    "\n",
    "                fn=\"fit_%s.png\"%lt_key\n",
    "                fit_by_lt[lt_key]['plot_fname'] = fn\n",
    "\n",
    "                shutil.move(\"pgplot.png_2\", fn)\n",
    "\n",
    "                _=display(Image(filename=fn,format=\"png\"))\n",
    "\n",
    "except ImportError:\n",
    "    print(\"no problem!\")"
   ]
  }
 ],
 "metadata": {
  "celltoolbar": "Tags",
  "kernelspec": {
   "display_name": "Python 3",
   "language": "python",
   "name": "python3"
  },
  "language_info": {
   "codemirror_mode": {
    "name": "ipython",
    "version": 3
   },
   "file_extension": ".py",
   "mimetype": "text/x-python",
   "name": "python",
   "nbconvert_exporter": "python",
   "pygments_lexer": "ipython3",
   "version": "3.8.5"
  }
 },
 "nbformat": 4,
 "nbformat_minor": 2
}
