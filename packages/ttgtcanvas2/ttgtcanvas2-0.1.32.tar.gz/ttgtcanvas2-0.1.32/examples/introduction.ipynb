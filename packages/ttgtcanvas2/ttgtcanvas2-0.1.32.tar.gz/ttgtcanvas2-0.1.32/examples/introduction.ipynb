{
 "cells": [
  {
   "cell_type": "markdown",
   "metadata": {},
   "source": [
    "# Introduction"
   ]
  },
  {
   "cell_type": "code",
   "execution_count": 1,
   "metadata": {},
   "outputs": [],
   "source": [
    "%load_ext autoreload\n",
    "\n",
    "%autoreload 1"
   ]
  },
  {
   "cell_type": "code",
   "execution_count": 2,
   "metadata": {},
   "outputs": [],
   "source": [
    "from worlds.levels import get_robo"
   ]
  },
  {
   "cell_type": "code",
   "execution_count": 3,
   "metadata": {},
   "outputs": [
    {
     "data": {
      "application/vnd.jupyter.widget-view+json": {
       "model_id": "4e2337cf2fce43f9880f59d683d91bde",
       "version_major": 2,
       "version_minor": 0
      },
      "text/plain": [
       "Maze()"
      ]
     },
     "metadata": {},
     "output_type": "display_data"
    },
    {
     "data": {
      "text/html": [
       "<text style=color:red>✗ Expected: Final Position: 7,1</text>"
      ],
      "text/plain": [
       "<IPython.core.display.HTML object>"
      ]
     },
     "metadata": {},
     "output_type": "display_data"
    },
    {
     "data": {
      "text/html": [
       "<text style=color:red>✗ Expected: Hi</text>"
      ],
      "text/plain": [
       "<IPython.core.display.HTML object>"
      ]
     },
     "metadata": {},
     "output_type": "display_data"
    },
    {
     "data": {
      "text/html": [
       "<text style=color:red>✗ Expected: bye</text>"
      ],
      "text/plain": [
       "<IPython.core.display.HTML object>"
      ]
     },
     "metadata": {},
     "output_type": "display_data"
    },
    {
     "data": {
      "text/html": [
       "<text style=color:blue>💬 Expected: 2 Flags</text>"
      ],
      "text/plain": [
       "<IPython.core.display.HTML object>"
      ]
     },
     "metadata": {},
     "output_type": "display_data"
    }
   ],
   "source": [
    "bot = get_robo('test')\n",
    "bot.move(3)\n",
    "bot.check()"
   ]
  },
  {
   "cell_type": "code",
   "execution_count": 4,
   "metadata": {},
   "outputs": [
    {
     "data": {
      "text/plain": [
       "2"
      ]
     },
     "execution_count": 4,
     "metadata": {},
     "output_type": "execute_result"
    }
   ],
   "source": [
    "bot.flag_count"
   ]
  },
  {
   "cell_type": "code",
   "execution_count": 5,
   "metadata": {},
   "outputs": [],
   "source": [
    "DEFAULT_ASSET_URL=\"https://totogoto.com/assets/python_project/images/\"\n",
    "DEFAULT_OBJECTS = [\n",
    "    \"1\",\n",
    "    \"2\",\n",
    "    \"3\",\n",
    "    \"4\",\n",
    "    \"5\",\n",
    "    \"apple_goal\",\n",
    "    \"apple\",\n",
    "    \"around3_sol\",\n",
    "    \"banana_goal\",\n",
    "    \"banana\",\n",
    "    \"beeper_goal\",\n",
    "    \"box_goal\",\n",
    "    \"box\",\n",
    "    \"bricks\",\n",
    "    \"bridge\",\n",
    "    \"carrot_goal\",\n",
    "    \"carrot\",\n",
    "    \"daisy_goal\",\n",
    "    \"daisy\",\n",
    "    \"dandelion_goal\",\n",
    "    \"dandelion\",\n",
    "    \"desert\",\n",
    "    \"east_goal\",\n",
    "    \"east_grid\",\n",
    "    \"east\",\n",
    "    \"external_link\",\n",
    "    \"favicon\",\n",
    "    \"fence_double\",\n",
    "    \"fence_left\",\n",
    "    \"fence_right\",\n",
    "    \"fence_vertical\",\n",
    "    \"fire1\",\n",
    "    \"fire2\",\n",
    "    \"fire\",\n",
    "    \"flame1\",\n",
    "    \"flame2\",\n",
    "    \"flame3\",\n",
    "    \"flame4\",\n",
    "    \"flame5\",\n",
    "    \"flame6\",\n",
    "    \"fromage\",\n",
    "    \"grass_bottom_left\",\n",
    "    \"grass_bottom_right\",\n",
    "    \"grass\",\n",
    "    \"grass_top_left\",\n",
    "    \"grass_top_right\",\n",
    "    \"gravel\",\n",
    "    \"green_home_tile\",\n",
    "    \"highlight\",\n",
    "    \"house\",\n",
    "    \"hurdles\",\n",
    "    \"ice\",\n",
    "    \"leaf_goal\",\n",
    "    \"leaf\",\n",
    "    \"logs\",\n",
    "    \"magnifying_no\",\n",
    "    \"magnifying_yes\",\n",
    "    \"mailto\",\n",
    "    \"mort\",\n",
    "    \"mud\",\n",
    "    \"north\",\n",
    "    \"not_ok\",\n",
    "    \"ok\",\n",
    "    \"open_program\",\n",
    "    \"orange_goal\",\n",
    "    \"orange\",\n",
    "    \"ouch\",\n",
    "    \"pale_grass\",\n",
    "    \"pause\",\n",
    "    \"plain_e\",\n",
    "    \"plain_n\",\n",
    "    \"plain_s\",\n",
    "    \"plain_w\",\n",
    "    \"play\",\n",
    "    \"poison\",\n",
    "    \"racing_flag\",\n",
    "    \"rat_e\",\n",
    "    \"rat_n\",\n",
    "    \"rat_s\",\n",
    "    \"rat_w\",\n",
    "    \"reeborg_judkis\",\n",
    "    \"reload\",\n",
    "    \"resize\",\n",
    "    \"reverse_step\",\n",
    "    \"save_program\",\n",
    "    \"scorpion\",\n",
    "    \"seed\",\n",
    "    \"simple_path\",\n",
    "    \"sp_e\",\n",
    "    \"sp_n\",\n",
    "    \"sp_s\",\n",
    "    \"sp_w\",\n",
    "    \"square_goal\",\n",
    "    \"square\",\n",
    "    \"stalactite2\",\n",
    "    \"stalactite\",\n",
    "    \"star_goal\",\n",
    "    \"star\",\n",
    "    \"step\",\n",
    "    \"stop\",\n",
    "    \"strawberry_goal\",\n",
    "    \"strawberry\",\n",
    "    \"student\",\n",
    "    \"teleport\",\n",
    "    \"tile_colour\",\n",
    "    \"token_goal\",\n",
    "    \"token\",\n",
    "    \"transparent_tile\",\n",
    "    \"triangle_goal\",\n",
    "    \"triangle\",\n",
    "    \"tulip_goal\",\n",
    "    \"tulip\",\n",
    "    \"water2\",\n",
    "    \"water3\",\n",
    "    \"water4\",\n",
    "    \"water5\",\n",
    "    \"water6\",\n",
    "    \"water_bucket\",\n",
    "    \"water\",\n",
    "    \"east_arrow\",\n",
    "    \"north_arrow\",\n",
    "    \"west_arrow\",\n",
    "    \"south_arrow\",\n",
    "    \"envelope\",\n",
    "    \"envelope-30\",\n",
    "    \"envelope-sprite\",\n",
    "    \"speech_bubble\",\n",
    "    \"robot-yellow\"\n",
    "]\n",
    "\n",
    "\n",
    "DEFAULT_TILE_MAP = {tile: \"{}{}.png\".format(DEFAULT_ASSET_URL, tile) for tile in DEFAULT_OBJECTS }\n"
   ]
  },
  {
   "cell_type": "code",
   "execution_count": 6,
   "metadata": {},
   "outputs": [
    {
     "data": {
      "text/plain": [
       "{'1': 'https://totogoto.com/assets/python_project/images/1.png',\n",
       " '2': 'https://totogoto.com/assets/python_project/images/2.png',\n",
       " '3': 'https://totogoto.com/assets/python_project/images/3.png',\n",
       " '4': 'https://totogoto.com/assets/python_project/images/4.png',\n",
       " '5': 'https://totogoto.com/assets/python_project/images/5.png',\n",
       " 'apple_goal': 'https://totogoto.com/assets/python_project/images/apple_goal.png',\n",
       " 'apple': 'https://totogoto.com/assets/python_project/images/apple.png',\n",
       " 'around3_sol': 'https://totogoto.com/assets/python_project/images/around3_sol.png',\n",
       " 'banana_goal': 'https://totogoto.com/assets/python_project/images/banana_goal.png',\n",
       " 'banana': 'https://totogoto.com/assets/python_project/images/banana.png',\n",
       " 'beeper_goal': 'https://totogoto.com/assets/python_project/images/beeper_goal.png',\n",
       " 'box_goal': 'https://totogoto.com/assets/python_project/images/box_goal.png',\n",
       " 'box': 'https://totogoto.com/assets/python_project/images/box.png',\n",
       " 'bricks': 'https://totogoto.com/assets/python_project/images/bricks.png',\n",
       " 'bridge': 'https://totogoto.com/assets/python_project/images/bridge.png',\n",
       " 'carrot_goal': 'https://totogoto.com/assets/python_project/images/carrot_goal.png',\n",
       " 'carrot': 'https://totogoto.com/assets/python_project/images/carrot.png',\n",
       " 'daisy_goal': 'https://totogoto.com/assets/python_project/images/daisy_goal.png',\n",
       " 'daisy': 'https://totogoto.com/assets/python_project/images/daisy.png',\n",
       " 'dandelion_goal': 'https://totogoto.com/assets/python_project/images/dandelion_goal.png',\n",
       " 'dandelion': 'https://totogoto.com/assets/python_project/images/dandelion.png',\n",
       " 'desert': 'https://totogoto.com/assets/python_project/images/desert.png',\n",
       " 'east_goal': 'https://totogoto.com/assets/python_project/images/east_goal.png',\n",
       " 'east_grid': 'https://totogoto.com/assets/python_project/images/east_grid.png',\n",
       " 'east': 'https://totogoto.com/assets/python_project/images/east.png',\n",
       " 'external_link': 'https://totogoto.com/assets/python_project/images/external_link.png',\n",
       " 'favicon': 'https://totogoto.com/assets/python_project/images/favicon.png',\n",
       " 'fence_double': 'https://totogoto.com/assets/python_project/images/fence_double.png',\n",
       " 'fence_left': 'https://totogoto.com/assets/python_project/images/fence_left.png',\n",
       " 'fence_right': 'https://totogoto.com/assets/python_project/images/fence_right.png',\n",
       " 'fence_vertical': 'https://totogoto.com/assets/python_project/images/fence_vertical.png',\n",
       " 'fire1': 'https://totogoto.com/assets/python_project/images/fire1.png',\n",
       " 'fire2': 'https://totogoto.com/assets/python_project/images/fire2.png',\n",
       " 'fire': 'https://totogoto.com/assets/python_project/images/fire.png',\n",
       " 'flame1': 'https://totogoto.com/assets/python_project/images/flame1.png',\n",
       " 'flame2': 'https://totogoto.com/assets/python_project/images/flame2.png',\n",
       " 'flame3': 'https://totogoto.com/assets/python_project/images/flame3.png',\n",
       " 'flame4': 'https://totogoto.com/assets/python_project/images/flame4.png',\n",
       " 'flame5': 'https://totogoto.com/assets/python_project/images/flame5.png',\n",
       " 'flame6': 'https://totogoto.com/assets/python_project/images/flame6.png',\n",
       " 'fromage': 'https://totogoto.com/assets/python_project/images/fromage.png',\n",
       " 'grass_bottom_left': 'https://totogoto.com/assets/python_project/images/grass_bottom_left.png',\n",
       " 'grass_bottom_right': 'https://totogoto.com/assets/python_project/images/grass_bottom_right.png',\n",
       " 'grass': 'https://totogoto.com/assets/python_project/images/grass.png',\n",
       " 'grass_top_left': 'https://totogoto.com/assets/python_project/images/grass_top_left.png',\n",
       " 'grass_top_right': 'https://totogoto.com/assets/python_project/images/grass_top_right.png',\n",
       " 'gravel': 'https://totogoto.com/assets/python_project/images/gravel.png',\n",
       " 'green_home_tile': 'https://totogoto.com/assets/python_project/images/green_home_tile.png',\n",
       " 'highlight': 'https://totogoto.com/assets/python_project/images/highlight.png',\n",
       " 'house': 'https://totogoto.com/assets/python_project/images/house.png',\n",
       " 'hurdles': 'https://totogoto.com/assets/python_project/images/hurdles.png',\n",
       " 'ice': 'https://totogoto.com/assets/python_project/images/ice.png',\n",
       " 'leaf_goal': 'https://totogoto.com/assets/python_project/images/leaf_goal.png',\n",
       " 'leaf': 'https://totogoto.com/assets/python_project/images/leaf.png',\n",
       " 'logs': 'https://totogoto.com/assets/python_project/images/logs.png',\n",
       " 'magnifying_no': 'https://totogoto.com/assets/python_project/images/magnifying_no.png',\n",
       " 'magnifying_yes': 'https://totogoto.com/assets/python_project/images/magnifying_yes.png',\n",
       " 'mailto': 'https://totogoto.com/assets/python_project/images/mailto.png',\n",
       " 'mort': 'https://totogoto.com/assets/python_project/images/mort.png',\n",
       " 'mud': 'https://totogoto.com/assets/python_project/images/mud.png',\n",
       " 'north': 'https://totogoto.com/assets/python_project/images/north.png',\n",
       " 'not_ok': 'https://totogoto.com/assets/python_project/images/not_ok.png',\n",
       " 'ok': 'https://totogoto.com/assets/python_project/images/ok.png',\n",
       " 'open_program': 'https://totogoto.com/assets/python_project/images/open_program.png',\n",
       " 'orange_goal': 'https://totogoto.com/assets/python_project/images/orange_goal.png',\n",
       " 'orange': 'https://totogoto.com/assets/python_project/images/orange.png',\n",
       " 'ouch': 'https://totogoto.com/assets/python_project/images/ouch.png',\n",
       " 'pale_grass': 'https://totogoto.com/assets/python_project/images/pale_grass.png',\n",
       " 'pause': 'https://totogoto.com/assets/python_project/images/pause.png',\n",
       " 'plain_e': 'https://totogoto.com/assets/python_project/images/plain_e.png',\n",
       " 'plain_n': 'https://totogoto.com/assets/python_project/images/plain_n.png',\n",
       " 'plain_s': 'https://totogoto.com/assets/python_project/images/plain_s.png',\n",
       " 'plain_w': 'https://totogoto.com/assets/python_project/images/plain_w.png',\n",
       " 'play': 'https://totogoto.com/assets/python_project/images/play.png',\n",
       " 'poison': 'https://totogoto.com/assets/python_project/images/poison.png',\n",
       " 'racing_flag': 'https://totogoto.com/assets/python_project/images/racing_flag.png',\n",
       " 'rat_e': 'https://totogoto.com/assets/python_project/images/rat_e.png',\n",
       " 'rat_n': 'https://totogoto.com/assets/python_project/images/rat_n.png',\n",
       " 'rat_s': 'https://totogoto.com/assets/python_project/images/rat_s.png',\n",
       " 'rat_w': 'https://totogoto.com/assets/python_project/images/rat_w.png',\n",
       " 'reeborg_judkis': 'https://totogoto.com/assets/python_project/images/reeborg_judkis.png',\n",
       " 'reload': 'https://totogoto.com/assets/python_project/images/reload.png',\n",
       " 'resize': 'https://totogoto.com/assets/python_project/images/resize.png',\n",
       " 'reverse_step': 'https://totogoto.com/assets/python_project/images/reverse_step.png',\n",
       " 'save_program': 'https://totogoto.com/assets/python_project/images/save_program.png',\n",
       " 'scorpion': 'https://totogoto.com/assets/python_project/images/scorpion.png',\n",
       " 'seed': 'https://totogoto.com/assets/python_project/images/seed.png',\n",
       " 'simple_path': 'https://totogoto.com/assets/python_project/images/simple_path.png',\n",
       " 'sp_e': 'https://totogoto.com/assets/python_project/images/sp_e.png',\n",
       " 'sp_n': 'https://totogoto.com/assets/python_project/images/sp_n.png',\n",
       " 'sp_s': 'https://totogoto.com/assets/python_project/images/sp_s.png',\n",
       " 'sp_w': 'https://totogoto.com/assets/python_project/images/sp_w.png',\n",
       " 'square_goal': 'https://totogoto.com/assets/python_project/images/square_goal.png',\n",
       " 'square': 'https://totogoto.com/assets/python_project/images/square.png',\n",
       " 'stalactite2': 'https://totogoto.com/assets/python_project/images/stalactite2.png',\n",
       " 'stalactite': 'https://totogoto.com/assets/python_project/images/stalactite.png',\n",
       " 'star_goal': 'https://totogoto.com/assets/python_project/images/star_goal.png',\n",
       " 'star': 'https://totogoto.com/assets/python_project/images/star.png',\n",
       " 'step': 'https://totogoto.com/assets/python_project/images/step.png',\n",
       " 'stop': 'https://totogoto.com/assets/python_project/images/stop.png',\n",
       " 'strawberry_goal': 'https://totogoto.com/assets/python_project/images/strawberry_goal.png',\n",
       " 'strawberry': 'https://totogoto.com/assets/python_project/images/strawberry.png',\n",
       " 'student': 'https://totogoto.com/assets/python_project/images/student.png',\n",
       " 'teleport': 'https://totogoto.com/assets/python_project/images/teleport.png',\n",
       " 'tile_colour': 'https://totogoto.com/assets/python_project/images/tile_colour.png',\n",
       " 'token_goal': 'https://totogoto.com/assets/python_project/images/token_goal.png',\n",
       " 'token': 'https://totogoto.com/assets/python_project/images/token.png',\n",
       " 'transparent_tile': 'https://totogoto.com/assets/python_project/images/transparent_tile.png',\n",
       " 'triangle_goal': 'https://totogoto.com/assets/python_project/images/triangle_goal.png',\n",
       " 'triangle': 'https://totogoto.com/assets/python_project/images/triangle.png',\n",
       " 'tulip_goal': 'https://totogoto.com/assets/python_project/images/tulip_goal.png',\n",
       " 'tulip': 'https://totogoto.com/assets/python_project/images/tulip.png',\n",
       " 'water2': 'https://totogoto.com/assets/python_project/images/water2.png',\n",
       " 'water3': 'https://totogoto.com/assets/python_project/images/water3.png',\n",
       " 'water4': 'https://totogoto.com/assets/python_project/images/water4.png',\n",
       " 'water5': 'https://totogoto.com/assets/python_project/images/water5.png',\n",
       " 'water6': 'https://totogoto.com/assets/python_project/images/water6.png',\n",
       " 'water_bucket': 'https://totogoto.com/assets/python_project/images/water_bucket.png',\n",
       " 'water': 'https://totogoto.com/assets/python_project/images/water.png',\n",
       " 'east_arrow': 'https://totogoto.com/assets/python_project/images/east_arrow.png',\n",
       " 'north_arrow': 'https://totogoto.com/assets/python_project/images/north_arrow.png',\n",
       " 'west_arrow': 'https://totogoto.com/assets/python_project/images/west_arrow.png',\n",
       " 'south_arrow': 'https://totogoto.com/assets/python_project/images/south_arrow.png',\n",
       " 'envelope': 'https://totogoto.com/assets/python_project/images/envelope.png',\n",
       " 'envelope-30': 'https://totogoto.com/assets/python_project/images/envelope-30.png',\n",
       " 'envelope-sprite': 'https://totogoto.com/assets/python_project/images/envelope-sprite.png',\n",
       " 'speech_bubble': 'https://totogoto.com/assets/python_project/images/speech_bubble.png',\n",
       " 'robot-yellow': 'https://totogoto.com/assets/python_project/images/robot-yellow.png'}"
      ]
     },
     "execution_count": 6,
     "metadata": {},
     "output_type": "execute_result"
    }
   ],
   "source": [
    "DEFAULT_TILE_MAP"
   ]
  },
  {
   "cell_type": "code",
   "execution_count": null,
   "metadata": {},
   "outputs": [],
   "source": []
  }
 ],
 "metadata": {
  "kernelspec": {
   "display_name": "Python 3",
   "language": "python",
   "name": "python3"
  },
  "language_info": {
   "codemirror_mode": {
    "name": "ipython",
    "version": 3
   },
   "file_extension": ".py",
   "mimetype": "text/x-python",
   "name": "python",
   "nbconvert_exporter": "python",
   "pygments_lexer": "ipython3",
   "version": "3.8.8"
  }
 },
 "nbformat": 4,
 "nbformat_minor": 4
}
