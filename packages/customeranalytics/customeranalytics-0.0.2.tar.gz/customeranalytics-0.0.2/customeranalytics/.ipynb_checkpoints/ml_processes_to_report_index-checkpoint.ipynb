{
 "cells": [
  {
   "cell_type": "code",
   "execution_count": 2,
   "metadata": {},
   "outputs": [
    {
     "data": {
      "text/html": [
       "<style>.container { width:90% !important; }</style>"
      ],
      "text/plain": [
       "<IPython.core.display.HTML object>"
      ]
     },
     "metadata": {},
     "output_type": "display_data"
    }
   ],
   "source": [
    "from IPython.display import display, HTML\n",
    "display(HTML('<style>.container { width:90% !important; }</style>'))\n",
    "from elasticsearch import Elasticsearch \n",
    "from elasticsearch import helpers\n",
    "from sklearn.cluster import KMeans\n",
    "import requests\n",
    "from urllib.parse import urljoin\n",
    "from time import gmtime, strftime\n",
    "from itertools import product\n",
    "import warnings\n",
    "from scipy import stats\n",
    "import plotly.graph_objs as go\n",
    "import plotly.offline as offline\n",
    "import pandas as pd\n",
    "import numpy as np\n",
    "import datetime"
   ]
  },
  {
   "cell_type": "code",
   "execution_count": 3,
   "metadata": {},
   "outputs": [],
   "source": [
    "es=Elasticsearch([{'host':'localhost','port':9200}], timeout=300, max_retries=10)"
   ]
  },
  {
   "cell_type": "code",
   "execution_count": 4,
   "metadata": {},
   "outputs": [
    {
     "name": "stderr",
     "output_type": "stream",
     "text": [
      "/Users/caglanakpinar/opt/anaconda3/lib/python3.8/site-packages/plotly/graph_objs/_deprecations.py:143: DeprecationWarning:\n",
      "\n",
      "plotly.graph_objs.Annotation is deprecated.\n",
      "Please replace it with one of the following more specific types\n",
      "  - plotly.graph_objs.layout.Annotation\n",
      "  - plotly.graph_objs.layout.scene.Annotation\n",
      "\n",
      "\n"
     ]
    },
    {
     "name": "stdout",
     "output_type": "stream",
     "text": [
      "[Errno 20] Not a directory: '/Users/caglanakpinar/Desktop/temp_customer_analytics_folder/build_in_reports/.DS_Store'\n"
     ]
    }
   ],
   "source": [
    "from data_storage_configurations.reports import Reports"
   ]
  },
  {
   "cell_type": "code",
   "execution_count": 5,
   "metadata": {},
   "outputs": [],
   "source": [
    "create_build_in_reports = Reports()"
   ]
  },
  {
   "cell_type": "code",
   "execution_count": 6,
   "metadata": {
    "scrolled": true
   },
   "outputs": [
    {
     "name": "stdout",
     "output_type": "stream",
     "text": [
      "folder already exists\n",
      "folder already exists\n",
      "index : main || report :  weekly_funnel\n",
      "index : main || report :  daily_clv\n",
      "index : main || report :  daily_funnel\n",
      "index : main || report :  daily_funnel_downloads\n",
      "index : main || report :  weekly_average_payment_amount\n",
      "index : main || report :  product_usage_before_after_orders_reject\n",
      "index : main || report :  recency_clusters\n",
      "index : main || report :  weekly_cohort_from_2_to_3\n",
      "index : main || report :  daily_dimension_values\n",
      "index : main || report :  daily_cohort_from_3_to_4\n",
      "index : main || report :  promotion_comparison\n",
      "index : main || report :  promotion_usage_before_after_orders_reject\n",
      "index : main || report :  most_ordered_products\n",
      "index : main || report :  daily_organic_orders\n",
      "index : main || report :  monetary_clusters\n",
      "index : main || report :  frequency_recency\n",
      "index : main || report :  segments_change_monthly_before_after_amount\n",
      "index : main || report :  daily_promotion_revenue\n",
      "index : main || report :  daily_cohort_from_2_to_3\n",
      "index : main || report :  weekly_cohort_from_3_to_4\n",
      "index : main || report :  product_usage_before_after_orders_accept\n",
      "index : main || report :  client_feature_predicted\n",
      "index : main || report :  frequency_clusters\n",
      "index : main || report :  monthly_orders\n",
      "index : main || report :  daily_products_of_sales\n",
      "index : main || report :  hourly_funnel\n",
      "index : main || report :  weekly_average_order_per_user\n",
      "index : main || report :  daily_inorganic_ratio\n",
      "index : main || report :  daily_cohort_downloads\n",
      "index : main || report :  hourly_inorganic_ratio\n",
      "index : main || report :  promotion_number_of_customer\n",
      "index : main || report :  inorganic_orders_per_promotion_per_day\n",
      "index : main || report :  promotion_usage_before_after_orders_accept\n",
      "index : main || report :  recency_monetary\n",
      "index : main || report :  segments_change_monthly_before_after_orders\n",
      "index : main || report :  customer_journey\n",
      "index : main || report :  purchase_amount_distribution\n",
      "index : main || report :  dfunnel_anomaly\n",
      "index : main || report :  dcohort_anomaly_2\n",
      "index : main || report :  dimension_kpis\n",
      "index : main || report :  segments_change_weekly_before_after_orders\n",
      "index : main || report :  user_counts_per_order_seq\n",
      "index : main || report :  daily_cohort_from_1_to_2\n",
      "index : main || report :  hourly_organic_orders\n",
      "index : main || report :  weekly_cohort_downloads\n",
      "index : main || report :  hourly_funnel_downloads\n",
      "index : main || report :  product_usage_before_after_amount_accept\n",
      "index : main || report :  client_kpis\n",
      "index : main || report :  dorders_anomaly\n",
      "index : main || report :  churn\n",
      "index : main || report :  monthly_funnel_downloads\n",
      "index : main || report :  most_combined_products\n",
      "index : main || report :  avg_order_count_per_promo_per_cust\n",
      "index : main || report :  dcohort_anomaly\n",
      "index : main || report :  weekly_cohort_from_1_to_2\n",
      "index : main || report :  segments_change_daily_before_after_orders\n",
      "index : main || report :  rfm\n",
      "index : main || report :  promotion_usage_before_after_amount_accept\n",
      "index : main || report :  monthly_funnel\n",
      "index : main || report :  kpis\n",
      "index : main || report :  churn_weekly\n",
      "index : main || report :  clvsegments_amount\n",
      "index : main || report :  order_and_payment_amount_differences\n",
      "index : main || report :  hourly_orders\n",
      "index : main || report :  clvrfm_anomaly\n",
      "index : main || report :  weekly_funnel_downloads\n",
      "index : main || report :  product_usage_before_after_amount_reject\n",
      "index : main || report :  weekly_average_session_per_user\n",
      "index : main || report :  daily_promotion_discount\n",
      "index : main || report :  product_kpis\n",
      "index : main || report :  segments_change_weekly_before_after_amount\n",
      "index : main || report :  daily_orders\n",
      "index : main || report :  weekly_orders\n",
      "index : main || report :  segmentation\n",
      "index : main || report :  segments_change_daily_before_after_amount\n",
      "index : main || report :  most_ordered_categories\n",
      "index : main || report :  promotion_usage_before_after_amount_reject\n",
      "index : main || report :  monetary_frequency\n",
      "index : main || report :  promotion_kpis\n",
      "folder already exists\n",
      "index : location_1 || report :  weekly_funnel\n",
      "index : location_1 || report :  daily_clv\n",
      "folder already exists\n",
      "index : location_2 || report :  weekly_funnel\n",
      "index : location_2 || report :  daily_clv\n",
      "folder already exists\n",
      "index : location_3 || report :  weekly_funnel\n",
      "index : location_3 || report :  daily_clv\n"
     ]
    }
   ],
   "source": [
    "create_build_in_reports.create_build_in_reports()"
   ]
  },
  {
   "cell_type": "code",
   "execution_count": null,
   "metadata": {
    "scrolled": true
   },
   "outputs": [],
   "source": [
    "create_mls(configs)"
   ]
  },
  {
   "cell_type": "code",
   "execution_count": null,
   "metadata": {},
   "outputs": [],
   "source": [
    "res = []\n",
    "for r in es.search(index='reports', body={\"size\": 100000, \"from\": 0})['hits']['hits']:\n",
    "    try:\n",
    "        res.append({'report_name': r['_source']['report_name'],\n",
    "                    'report_date': r['_source']['report_date'],\n",
    "                    'time_period': r['_source']['report_types'].get('time_period', None),\n",
    "                    'type': r['_source']['report_types'].get('type', None),\n",
    "                    'from': r['_source']['report_types'].get('from', None),\n",
    "                    'to': r['_source']['report_types'].get('to', None),\n",
    "                    'abtest_type': r['_source']['report_types'].get('abtest_type', None),\n",
    "                    'report_types': r['_source']['report_types'],\n",
    "                    'index': r['_source']['index'],\n",
    "                    'data': r['_source']['data']})\n",
    "    except Exception as e:\n",
    "        print(e)"
   ]
  },
  {
   "cell_type": "code",
   "execution_count": null,
   "metadata": {},
   "outputs": [],
   "source": [
    "folder"
   ]
  },
  {
   "cell_type": "code",
   "execution_count": null,
   "metadata": {},
   "outputs": [],
   "source": [
    "folder = \"/Users/mac/Documents/GitHub/customer_analytics/customeranalytics/exploratory_analysis/sample_data/\"\n",
    "pd.DataFrame(list(pd.DataFrame(res).query(\"report_name == 'clv_prediction'\")['data'])[-1]).query(\"client != 'newcomers'\").to_csv(\n",
    "folder + \"sample_data_client_feature_predicted.csv\", index=False)"
   ]
  },
  {
   "cell_type": "code",
   "execution_count": null,
   "metadata": {},
   "outputs": [],
   "source": [
    "pd.DataFrame(list(pd.DataFrame(res).query(\n",
    "            \"report_name == 'rfm''\").sort_values(\n",
    "            'report_date', ascending=False)['data'])[0])[['frequency', 'recency', 'monetary', 'client']]"
   ]
  },
  {
   "cell_type": "code",
   "execution_count": null,
   "metadata": {},
   "outputs": [],
   "source": [
    "list(pd.DataFrame(res).query(\"index == 'location_1' and report_name == 'rfm'\")['data'])[0]"
   ]
  },
  {
   "cell_type": "code",
   "execution_count": null,
   "metadata": {},
   "outputs": [],
   "source": [
    "data = query_mls(configs, {\"start_date\": \"2021-02-06\"}, \"segmentation\")\n",
    "rfm = query_exploratory_analysis({\"date\": None,\n",
    "           \"funnel\": {\"actions\": [\"download\", \"signup\"], \n",
    "                      \"purchase_actions\": [\"has_basket\", \"order_screen\"], \n",
    "                      \"host\": 'localhost', \n",
    "                      \"port\": '9200', \n",
    "                      'download_index': 'downloads', \n",
    "                      'order_index': 'orders'},\n",
    "           \"cohort\": {\"has_download\": True, \"host\": 'localhost', \"port\": '9200'},\n",
    "           \"products\": {\"has_download\": True, \"host\": 'localhost', \"port\": '9200'},\n",
    "           \"rfm\": {\"host\": 'localhost', \"port\": '9200', 'download_index': 'downloads', 'order_index': 'orders'},\n",
    "           \"stats\": {\"host\": 'localhost', \"port\": '9200', 'download_index': 'downloads', 'order_index': 'orders'}\n",
    "          }, queries, \"rfm\")"
   ]
  },
  {
   "cell_type": "code",
   "execution_count": null,
   "metadata": {},
   "outputs": [],
   "source": [
    "pd.merge(data, rfm, on='client', how='inner').iloc[0:2000].to_csv(\"sample_data_rfm.csv\")"
   ]
  },
  {
   "cell_type": "code",
   "execution_count": null,
   "metadata": {},
   "outputs": [],
   "source": [
    "pip install screeninfo"
   ]
  },
  {
   "cell_type": "code",
   "execution_count": null,
   "metadata": {},
   "outputs": [],
   "source": [
    "from screeninfo import get_monitors\n",
    "for m in get_monitors():\n",
    "    print(str(m))"
   ]
  },
  {
   "cell_type": "code",
   "execution_count": null,
   "metadata": {},
   "outputs": [],
   "source": [
    "monitor = get_monitors()[0]\n",
    "monitor[]"
   ]
  },
  {
   "cell_type": "code",
   "execution_count": null,
   "metadata": {},
   "outputs": [],
   "source": [
    "monitor.width"
   ]
  },
  {
   "cell_type": "code",
   "execution_count": null,
   "metadata": {},
   "outputs": [],
   "source": [
    "def get_widths_heights():\n",
    "    monitor = get_monitors()[0]\n",
    "    if moni"
   ]
  },
  {
   "cell_type": "code",
   "execution_count": null,
   "metadata": {},
   "outputs": [],
   "source": [
    "{1: \"a\"}[1]"
   ]
  },
  {
   "cell_type": "code",
   "execution_count": null,
   "metadata": {},
   "outputs": [],
   "source": []
  }
 ],
 "metadata": {
  "kernelspec": {
   "display_name": "Python 3",
   "language": "python",
   "name": "python3"
  },
  "language_info": {
   "codemirror_mode": {
    "name": "ipython",
    "version": 3
   },
   "file_extension": ".py",
   "mimetype": "text/x-python",
   "name": "python",
   "nbconvert_exporter": "python",
   "pygments_lexer": "ipython3",
   "version": "3.8.5"
  }
 },
 "nbformat": 4,
 "nbformat_minor": 4
}
