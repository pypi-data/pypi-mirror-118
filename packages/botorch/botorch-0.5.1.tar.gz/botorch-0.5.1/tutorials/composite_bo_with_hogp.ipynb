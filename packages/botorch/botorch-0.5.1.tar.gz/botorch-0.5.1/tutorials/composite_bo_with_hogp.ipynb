{
 "cells": [
  {
   "cell_type": "markdown",
   "metadata": {},
   "source": [
    "## Composite Bayesian Optimization with the High Order Gaussian Process"
   ]
  },
  {
   "cell_type": "markdown",
   "metadata": {},
   "source": [
    "In this tutorial, we're going to explore composite Bayesian optimization [Astudillo & Frazier, ICML, '19](https://proceedings.mlr.press/v97/astudillo19a.html) with the High Order Gaussian Process (HOGP) model of [Zhe et al, AISTATS, '19](http://proceedings.mlr.press/v89/zhe19a.html). The setup for composite Bayesian optimization is that we have an unknown (black box) function mapping input parameters to several outputs, and a second, known function describing the quality of the functional output. We wish to find input parameters that maximize the output metric function. We wish to find input parameters that maximize the output metric function in a black-box manner. \n",
    "\n",
    "Specifically, this can be described as $\\max_{x \\in \\mathcal{X}} g(f(x)),$ where $f$ is unknown and $g$ is known. As in traditional Bayesian optimization, we are going to construct a Gaussian process surrogate model over the expensive to evaluate function $f(.),$ and will use a HOGP to model this function. "
   ]
  },
  {
   "cell_type": "markdown",
   "metadata": {},
   "source": [
    "### HOGP model description\n",
    "\n",
    "The [High Order Gaussian Process (HOGP) model](https://proceedings.mlr.press/v89/zhe19a.html) is a Gaussian process model designed specifically to operate over tensors or multi-dimensional arrays and exploits structure in the tensor to be able to operate efficiently. Specifically, the HOGP takes as inputs $y \\in \\mathbb{R}^{N \\times d_2 \\times \\cdots \\times d_M}$ and assumes that $\\text{vec}(y) \\sim \\mathcal{N}(0, \\otimes_{i=1}^M K_i + \\sigma^2 I),$ where $K_1 = K_{XX}.$ Each dimension of the tensor has its own kernel function, $K_i,$ as well as a set of $d_i$ latent parameters that can be optimized over.\n",
    "\n",
    "Recently, [Maddox et al, '21](https://arxiv.org/abs/2106.12997) proposed a method for computing posterior samples from the HOGP by exploiting structure in the posterior distribution, thereby enabling its usage in BO settings. While they show that this approach allows to use composite BO on problems with tens or thousands of outputs, for scalability we consider a much smaller example here (that does not require GPU acceleration)."
   ]
  },
  {
   "cell_type": "code",
   "execution_count": 1,
   "metadata": {},
   "outputs": [],
   "source": [
    "import torch\n",
    "import os\n",
    "import logging\n",
    "import numpy as np\n",
    "import math\n",
    "import matplotlib.pyplot as plt\n",
    "import time\n",
    "\n",
    "import gpytorch.settings as gpt_settings\n",
    "\n",
    "from botorch.acquisition import qSimpleRegret, qExpectedImprovement\n",
    "from botorch.acquisition.objective import GenericMCObjective\n",
    "from botorch.models import HigherOrderGP, SingleTaskGP\n",
    "from botorch.models.higher_order_gp import FlattenedStandardize\n",
    "from botorch.models.transforms import Normalize, Standardize\n",
    "from botorch import fit_gpytorch_model\n",
    "from botorch.optim import optimize_acqf\n",
    "from botorch.sampling import IIDNormalSampler\n",
    "from botorch.utils.sampling import draw_sobol_samples\n",
    "\n",
    "from gpytorch.mlls import ExactMarginalLogLikelihood\n",
    "\n",
    "SMOKE_TEST = os.environ.get(\"SMOKE_TEST\")"
   ]
  },
  {
   "cell_type": "code",
   "execution_count": 2,
   "metadata": {},
   "outputs": [],
   "source": [
    "from botorch.optim.fit import fit_gpytorch_torch"
   ]
  },
  {
   "cell_type": "markdown",
   "metadata": {},
   "source": [
    "#### Set Device and dtype"
   ]
  },
  {
   "cell_type": "code",
   "execution_count": 3,
   "metadata": {},
   "outputs": [
    {
     "name": "stdout",
     "output_type": "stream",
     "text": [
      "Using  cuda:0\n"
     ]
    }
   ],
   "source": [
    "device = torch.device(\"cpu\") if not torch.cuda.is_available() else torch.device(\"cuda:0\")\n",
    "dtype = torch.float\n",
    "\n",
    "print(\"Using \", device)"
   ]
  },
  {
   "cell_type": "code",
   "execution_count": 4,
   "metadata": {},
   "outputs": [],
   "source": [
    "models_used = (\n",
    "    \"rnd\",\n",
    "    \"ei\",\n",
    "    \"ei_hogp_cf\",\n",
    ")"
   ]
  },
  {
   "cell_type": "markdown",
   "metadata": {},
   "source": [
    "### Problem Description"
   ]
  },
  {
   "cell_type": "markdown",
   "metadata": {},
   "source": [
    "We use a simple test problem describing the concentration of pollutants after a chemical spill from [Astudillo & Frazier, ICML, '19](https://proceedings.mlr.press/v97/astudillo19a.html) defined over a $3 \\times 4$ grid of values $s,t$ and we wish to optimize the parameters w.r.t. their true values, to estimate the true value of parameters, $x = [M, D, L, \\tau].$ The function is given by \n",
    "$$ f(s,t | M, D, L, \\tau) := \\frac{M}{\\sqrt{4 \\pi D t}}  \\exp\\{-\\frac{s^2}{4Dt}\\} + \\frac{1_{t > \\tau} M}{\\sqrt{4 \\pi D(t - \\tau)}} \\exp\\{- \\frac{(s - L)^2}{4 D (t - \\tau)}\\}, $$\n",
    "with the cheap to evaluate, differentiable function given by $g(y):= \\sum_{(s,t) \\in S \\times T} \\left(c(s, t|x_{\\text{true}}) - y\\right)^2.$ As the objective function itself is going to be implemented in Pytorch, we will be able to differentiate through it, enabling the usage of gradient-based optimization to optimize the objectives with respect to the inputs."
   ]
  },
  {
   "cell_type": "code",
   "execution_count": 5,
   "metadata": {},
   "outputs": [],
   "source": [
    "def env_cfun(s, t, M, D, L, tau):\n",
    "    c1 = M / torch.sqrt(4 * math.pi * D * t)\n",
    "    exp1 = torch.exp(-(s ** 2) / 4 / D / t)\n",
    "    term1 = c1 * exp1\n",
    "    c2 = M / torch.sqrt(4 * math.pi * D * (t - tau))\n",
    "    exp2 = torch.exp(-((s - L) ** 2) / 4 / D / (t - tau))\n",
    "    term2 = c2 * exp2\n",
    "    term2[torch.isnan(term2)] = 0.0\n",
    "    return term1 + term2"
   ]
  },
  {
   "cell_type": "markdown",
   "metadata": {},
   "source": [
    "#### Helper Functions"
   ]
  },
  {
   "cell_type": "markdown",
   "metadata": {},
   "source": [
    "These are helper functions for us to maximize the acquisition function and to get random points."
   ]
  },
  {
   "cell_type": "code",
   "execution_count": 6,
   "metadata": {},
   "outputs": [],
   "source": [
    "def gen_rand_points(bounds, num_samples):\n",
    "    points_nlzd = torch.rand(num_samples, bounds.shape[-1]).to(bounds)\n",
    "    return bounds[0] + (bounds[1] - bounds[0]) * points_nlzd\n",
    "    \n",
    "\n",
    "def optimize_ei(qEI, bounds, **options):\n",
    "    with gpt_settings.fast_computations(covar_root_decomposition=False):\n",
    "        cands_nlzd, _ = optimize_acqf(\n",
    "                qEI, bounds, **options, \n",
    "        )\n",
    "    return cands_nlzd"
   ]
  },
  {
   "cell_type": "markdown",
   "metadata": {},
   "source": [
    "Below is a wrapped function to help us define bounds on the parameter space, we can also vary the size of the grid if we'd like to."
   ]
  },
  {
   "cell_type": "code",
   "execution_count": 7,
   "metadata": {},
   "outputs": [],
   "source": [
    "def prepare_data(s_size=3, t_size=4, device=device, dtype=dtype):\n",
    "    print(\"---- Running the environmental problem with \", s_size, t_size, \" ----\")\n",
    "    # X = [M, D, L, tau]\n",
    "    bounds = torch.tensor(\n",
    "        [[7.0, 0.02, 0.01, 30.010], [13.0, 0.12, 3.00, 30.295]],\n",
    "        device=device,\n",
    "        dtype=dtype,\n",
    "    )\n",
    "\n",
    "    M0 = torch.tensor(10.0, device=device, dtype=dtype)\n",
    "    D0 = torch.tensor(0.07, device=device, dtype=dtype)\n",
    "    L0 = torch.tensor(1.505, device=device, dtype=dtype)\n",
    "    tau0 = torch.tensor(30.1525, device=device, dtype=dtype)\n",
    "\n",
    "    # we can vectorize everything, no need for loops\n",
    "    if s_size == 3:\n",
    "        S = torch.tensor([0.0, 1.0, 2.5], device=device, dtype=dtype)\n",
    "    else:\n",
    "        S = torch.linspace(0.0, 2.5, s_size, device=device, dtype=dtype)\n",
    "    if t_size == 4:\n",
    "        T = torch.tensor([15.0, 30.0, 45.0, 60.0], device=device, dtype=dtype)\n",
    "    else:\n",
    "        T = torch.linspace(15.0, 60.0, t_size, device=device, dtype=dtype)\n",
    "\n",
    "    Sgrid, Tgrid = torch.meshgrid(S, T)\n",
    "\n",
    "    # X = [M, D, L, tau]\n",
    "    def c_batched(X, k=None):\n",
    "        return torch.stack([env_cfun(Sgrid, Tgrid, *x) for x in X])\n",
    "\n",
    "    c_true = env_cfun(Sgrid, Tgrid, M0, D0, L0, tau0)\n",
    "\n",
    "    def neq_sum_quared_diff(samples):\n",
    "        # unsqueeze\n",
    "        if samples.shape[-1] == (s_size * t_size):\n",
    "            samples = samples.unsqueeze(-1).reshape(\n",
    "                *samples.shape[:-1], s_size, t_size\n",
    "            )\n",
    "\n",
    "        sq_diffs = (samples - c_true).pow(2)\n",
    "        return sq_diffs.sum(dim=(-1, -2)).mul(-1.0)\n",
    "\n",
    "    objective = GenericMCObjective(neq_sum_quared_diff)\n",
    "    num_samples = 32\n",
    "\n",
    "    return c_batched, objective, bounds, num_samples"
   ]
  },
  {
   "cell_type": "markdown",
   "metadata": {},
   "source": [
    "In the above, we construct a `GenericMCObjective` instance to codify the objective function (which is minimizing the MSE of the output tensors and the outputs corresponding to the \"true\" parameter values). Note that the objective function is encoded in PyTorch and is differentiable (although it technically doesn't have to be). Ultimately, we backpropagate through the objective with respect to the input parameters (and through the HOGP as well)."
   ]
  },
  {
   "cell_type": "markdown",
   "metadata": {},
   "source": [
    "## BO Loop"
   ]
  },
  {
   "cell_type": "markdown",
   "metadata": {},
   "source": [
    "Finally, we run the BO loop over three trials for $15$ batches each. This loop might take a while.\n",
    "\n",
    "We will be comparing to both random selection and batch expected improvment on the aggregated metric."
   ]
  },
  {
   "cell_type": "code",
   "execution_count": 8,
   "metadata": {},
   "outputs": [],
   "source": [
    "n_init = 30\n",
    "\n",
    "if SMOKE_TEST:\n",
    "    n_batches = 1\n",
    "    batch_size = 2\n",
    "    n_trials = 1\n",
    "else:\n",
    "    n_batches = 15\n",
    "    batch_size = 4\n",
    "    n_trials = 3"
   ]
  },
  {
   "cell_type": "markdown",
   "metadata": {},
   "source": [
    "As a word of caution, we've found that when fitting the HOGP model, using first-order optimizers (e.g. Adam) as is used in `fit_gpytorch_torch` tends to outperform second-order optimizers such as L-BFGS-B due to the large number of free parameters in the HOGP. L-BFGS-B tends to overfit in practice here."
   ]
  },
  {
   "cell_type": "code",
   "execution_count": 9,
   "metadata": {},
   "outputs": [
    {
     "name": "stdout",
     "output_type": "stream",
     "text": [
      "Beginning with trial:  1\n",
      "---- Running the environmental problem with  3 4  ----\n"
     ]
    },
    {
     "name": "stderr",
     "output_type": "stream",
     "text": [
      "I0712 100259.916 <ipython-input-9-289fa74c7767>:22] rnd: -0.277It  1/15, best obs.: , ei: -0.277It  1/15, best obs.: , ei_hogp_cf: -0.277\n",
      "I0712 100313.875 <ipython-input-9-289fa74c7767>:80] Wall time: 13.959815\n",
      "I0712 100313.876 <ipython-input-9-289fa74c7767>:22] rnd: -0.277It  2/15, best obs.: , ei: -0.277It  2/15, best obs.: , ei_hogp_cf: -0.277\n",
      "I0712 100331.374 <ipython-input-9-289fa74c7767>:80] Wall time: 17.497971\n",
      "I0712 100331.375 <ipython-input-9-289fa74c7767>:22] rnd: -0.277It  3/15, best obs.: , ei: -0.277It  3/15, best obs.: , ei_hogp_cf: -0.277\n",
      "I0712 100351.131 <ipython-input-9-289fa74c7767>:80] Wall time: 19.756105\n",
      "I0712 100351.132 <ipython-input-9-289fa74c7767>:22] rnd: -0.277It  4/15, best obs.: , ei: -0.277It  4/15, best obs.: , ei_hogp_cf: -0.277\n",
      "I0712 100423.226 <ipython-input-9-289fa74c7767>:80] Wall time: 32.094512\n",
      "I0712 100423.228 <ipython-input-9-289fa74c7767>:22] rnd: -0.277It  5/15, best obs.: , ei: -0.277It  5/15, best obs.: , ei_hogp_cf: -0.277\n",
      "I0712 100454.340 <ipython-input-9-289fa74c7767>:80] Wall time: 31.112883\n",
      "I0712 100454.342 <ipython-input-9-289fa74c7767>:22] rnd: -0.277It  6/15, best obs.: , ei: -0.277It  6/15, best obs.: , ei_hogp_cf: -0.219\n",
      "I0712 100554.118 <ipython-input-9-289fa74c7767>:80] Wall time: 59.776674\n",
      "I0712 100554.119 <ipython-input-9-289fa74c7767>:22] rnd: -0.277It  7/15, best obs.: , ei: -0.277It  7/15, best obs.: , ei_hogp_cf: -0.137\n",
      "I0712 100649.414 <ipython-input-9-289fa74c7767>:80] Wall time: 55.294851\n",
      "I0712 100649.415 <ipython-input-9-289fa74c7767>:22] rnd: -0.277It  8/15, best obs.: , ei: -0.277It  8/15, best obs.: , ei_hogp_cf: -0.076\n",
      "/mnt/xarfuse/uid-22017/907c0fbc-seed-nspid4026533651_cgpid35640602-ns-4026533648/gpytorch/utils/cholesky.py:44: NumericalWarning:\n",
      "\n",
      "A not p.d., added jitter of 1.0e-04 to the diagonal\n",
      "\n",
      "I0712 100659.421 <ipython-input-9-289fa74c7767>:80] Wall time: 10.006811\n",
      "I0712 100659.423 <ipython-input-9-289fa74c7767>:22] rnd: -0.277It  9/15, best obs.: , ei: -0.277It  9/15, best obs.: , ei_hogp_cf: -0.076\n",
      "I0712 100713.541 <ipython-input-9-289fa74c7767>:80] Wall time: 14.118601\n",
      "I0712 100713.543 <ipython-input-9-289fa74c7767>:22] rnd: -0.277It 10/15, best obs.: , ei: -0.277It 10/15, best obs.: , ei_hogp_cf: -0.076\n",
      "I0712 100725.215 <ipython-input-9-289fa74c7767>:80] Wall time: 11.672525\n",
      "I0712 100725.216 <ipython-input-9-289fa74c7767>:22] rnd: -0.277It 11/15, best obs.: , ei: -0.277It 11/15, best obs.: , ei_hogp_cf: -0.076\n",
      "I0712 100733.256 <ipython-input-9-289fa74c7767>:80] Wall time: 8.040162\n",
      "I0712 100733.257 <ipython-input-9-289fa74c7767>:22] rnd: -0.277It 12/15, best obs.: , ei: -0.277It 12/15, best obs.: , ei_hogp_cf: -0.076\n",
      "I0712 100746.931 <ipython-input-9-289fa74c7767>:80] Wall time: 13.674355\n",
      "I0712 100746.933 <ipython-input-9-289fa74c7767>:22] rnd: -0.277It 13/15, best obs.: , ei: -0.277It 13/15, best obs.: , ei_hogp_cf: -0.076\n",
      "I0712 100835.895 <ipython-input-9-289fa74c7767>:80] Wall time: 48.962623\n",
      "I0712 100835.897 <ipython-input-9-289fa74c7767>:22] rnd: -0.277It 14/15, best obs.: , ei: -0.212It 14/15, best obs.: , ei_hogp_cf: -0.035\n",
      "I0712 100847.778 <ipython-input-9-289fa74c7767>:80] Wall time: 11.881666\n",
      "I0712 100847.780 <ipython-input-9-289fa74c7767>:22] rnd: -0.277It 15/15, best obs.: , ei: -0.212It 15/15, best obs.: , ei_hogp_cf: -0.035\n",
      "I0712 100927.273 <ipython-input-9-289fa74c7767>:80] Wall time: 39.493477\n",
      "I0712 100927.289 <ipython-input-9-289fa74c7767>:22] rnd: -0.423It  1/15, best obs.: , ei: -0.423It  1/15, best obs.: , ei_hogp_cf: -0.423\n"
     ]
    },
    {
     "name": "stdout",
     "output_type": "stream",
     "text": [
      "Finished with trial:  1\n",
      "Beginning with trial:  2\n",
      "---- Running the environmental problem with  3 4  ----\n"
     ]
    },
    {
     "name": "stderr",
     "output_type": "stream",
     "text": [
      "I0712 100953.469 <ipython-input-9-289fa74c7767>:80] Wall time: 26.180312\n",
      "I0712 100953.471 <ipython-input-9-289fa74c7767>:22] rnd: -0.423It  2/15, best obs.: , ei: -0.423It  2/15, best obs.: , ei_hogp_cf: -0.108\n",
      "I0712 101006.910 <ipython-input-9-289fa74c7767>:80] Wall time: 13.439897\n",
      "I0712 101006.912 <ipython-input-9-289fa74c7767>:22] rnd: -0.423It  3/15, best obs.: , ei: -0.131It  3/15, best obs.: , ei_hogp_cf: -0.108\n",
      "I0712 101021.213 <ipython-input-9-289fa74c7767>:80] Wall time: 14.300933\n",
      "I0712 101021.215 <ipython-input-9-289fa74c7767>:22] rnd: -0.423It  4/15, best obs.: , ei: -0.131It  4/15, best obs.: , ei_hogp_cf: -0.108\n",
      "I0712 101029.243 <ipython-input-9-289fa74c7767>:80] Wall time: 8.029261\n",
      "I0712 101029.245 <ipython-input-9-289fa74c7767>:22] rnd: -0.423It  5/15, best obs.: , ei: -0.131It  5/15, best obs.: , ei_hogp_cf: -0.108\n",
      "I0712 101106.178 <ipython-input-9-289fa74c7767>:80] Wall time: 36.933169\n",
      "I0712 101106.179 <ipython-input-9-289fa74c7767>:22] rnd: -0.278It  6/15, best obs.: , ei: -0.131It  6/15, best obs.: , ei_hogp_cf: -0.043\n",
      "I0712 101142.619 <ipython-input-9-289fa74c7767>:80] Wall time: 36.440421\n",
      "I0712 101142.621 <ipython-input-9-289fa74c7767>:22] rnd: -0.278It  7/15, best obs.: , ei: -0.131It  7/15, best obs.: , ei_hogp_cf: -0.021\n",
      "I0712 101152.412 <ipython-input-9-289fa74c7767>:80] Wall time: 9.791319\n",
      "I0712 101152.413 <ipython-input-9-289fa74c7767>:22] rnd: -0.278It  8/15, best obs.: , ei: -0.131It  8/15, best obs.: , ei_hogp_cf: -0.021\n",
      "I0712 101221.768 <ipython-input-9-289fa74c7767>:80] Wall time: 29.355340\n",
      "I0712 101221.770 <ipython-input-9-289fa74c7767>:22] rnd: -0.278It  9/15, best obs.: , ei: -0.131It  9/15, best obs.: , ei_hogp_cf: -0.021\n",
      "I0712 101232.866 <ipython-input-9-289fa74c7767>:80] Wall time: 11.096618\n",
      "I0712 101232.867 <ipython-input-9-289fa74c7767>:22] rnd: -0.278It 10/15, best obs.: , ei: -0.131It 10/15, best obs.: , ei_hogp_cf: -0.021\n",
      "I0712 101307.960 <ipython-input-9-289fa74c7767>:80] Wall time: 35.093111\n",
      "I0712 101307.962 <ipython-input-9-289fa74c7767>:22] rnd: -0.278It 11/15, best obs.: , ei: -0.131It 11/15, best obs.: , ei_hogp_cf: -0.021\n",
      "I0712 101317.455 <ipython-input-9-289fa74c7767>:80] Wall time: 9.493767\n",
      "I0712 101317.457 <ipython-input-9-289fa74c7767>:22] rnd: -0.278It 12/15, best obs.: , ei: -0.131It 12/15, best obs.: , ei_hogp_cf: -0.021\n",
      "I0712 101401.017 <ipython-input-9-289fa74c7767>:80] Wall time: 43.560580\n",
      "I0712 101401.018 <ipython-input-9-289fa74c7767>:22] rnd: -0.209It 13/15, best obs.: , ei: -0.131It 13/15, best obs.: , ei_hogp_cf: -0.021\n",
      "I0712 101411.866 <ipython-input-9-289fa74c7767>:80] Wall time: 10.848468\n",
      "I0712 101411.868 <ipython-input-9-289fa74c7767>:22] rnd: -0.209It 14/15, best obs.: , ei: -0.131It 14/15, best obs.: , ei_hogp_cf: -0.021\n",
      "I0712 101428.308 <ipython-input-9-289fa74c7767>:80] Wall time: 16.440600\n",
      "I0712 101428.310 <ipython-input-9-289fa74c7767>:22] rnd: -0.209It 15/15, best obs.: , ei: -0.131It 15/15, best obs.: , ei_hogp_cf: -0.021\n",
      "I0712 101516.034 <ipython-input-9-289fa74c7767>:80] Wall time: 47.724485\n",
      "I0712 101516.051 <ipython-input-9-289fa74c7767>:22] rnd: -0.419It  1/15, best obs.: , ei: -0.419It  1/15, best obs.: , ei_hogp_cf: -0.419\n"
     ]
    },
    {
     "name": "stdout",
     "output_type": "stream",
     "text": [
      "Finished with trial:  2\n",
      "Beginning with trial:  3\n",
      "---- Running the environmental problem with  3 4  ----\n"
     ]
    },
    {
     "name": "stderr",
     "output_type": "stream",
     "text": [
      "I0712 101538.563 <ipython-input-9-289fa74c7767>:80] Wall time: 22.512460\n",
      "I0712 101538.564 <ipython-input-9-289fa74c7767>:22] rnd: -0.419It  2/15, best obs.: , ei: -0.419It  2/15, best obs.: , ei_hogp_cf: -0.419\n",
      "I0712 101557.352 <ipython-input-9-289fa74c7767>:80] Wall time: 18.788451\n",
      "I0712 101557.354 <ipython-input-9-289fa74c7767>:22] rnd: -0.373It  3/15, best obs.: , ei: -0.419It  3/15, best obs.: , ei_hogp_cf: -0.409\n",
      "I0712 101624.634 <ipython-input-9-289fa74c7767>:80] Wall time: 27.281004\n",
      "I0712 101624.636 <ipython-input-9-289fa74c7767>:22] rnd: -0.373It  4/15, best obs.: , ei: -0.419It  4/15, best obs.: , ei_hogp_cf: -0.238\n",
      "I0712 101648.071 <ipython-input-9-289fa74c7767>:80] Wall time: 23.435322\n",
      "I0712 101648.072 <ipython-input-9-289fa74c7767>:22] rnd: -0.373It  5/15, best obs.: , ei: -0.419It  5/15, best obs.: , ei_hogp_cf: -0.238\n",
      "I0712 101717.918 <ipython-input-9-289fa74c7767>:80] Wall time: 29.846168\n",
      "I0712 101717.920 <ipython-input-9-289fa74c7767>:22] rnd: -0.373It  6/15, best obs.: , ei: -0.419It  6/15, best obs.: , ei_hogp_cf: -0.235\n",
      "I0712 101737.518 <ipython-input-9-289fa74c7767>:80] Wall time: 19.599094\n",
      "I0712 101737.520 <ipython-input-9-289fa74c7767>:22] rnd: -0.373It  7/15, best obs.: , ei: -0.419It  7/15, best obs.: , ei_hogp_cf: -0.235\n",
      "I0712 101818.189 <ipython-input-9-289fa74c7767>:80] Wall time: 40.669840\n",
      "I0712 101818.191 <ipython-input-9-289fa74c7767>:22] rnd: -0.316It  8/15, best obs.: , ei: -0.419It  8/15, best obs.: , ei_hogp_cf: -0.053\n",
      "I0712 101831.639 <ipython-input-9-289fa74c7767>:80] Wall time: 13.448530\n",
      "I0712 101831.640 <ipython-input-9-289fa74c7767>:22] rnd: -0.316It  9/15, best obs.: , ei: -0.419It  9/15, best obs.: , ei_hogp_cf: -0.053\n",
      "I0712 101908.641 <ipython-input-9-289fa74c7767>:80] Wall time: 37.001188\n",
      "I0712 101908.643 <ipython-input-9-289fa74c7767>:22] rnd: -0.316It 10/15, best obs.: , ei: -0.419It 10/15, best obs.: , ei_hogp_cf: -0.020\n",
      "I0712 101935.712 <ipython-input-9-289fa74c7767>:80] Wall time: 27.069663\n",
      "I0712 101935.713 <ipython-input-9-289fa74c7767>:22] rnd: -0.316It 11/15, best obs.: , ei: -0.419It 11/15, best obs.: , ei_hogp_cf: -0.020\n",
      "/mnt/xarfuse/uid-22017/907c0fbc-seed-nspid4026533651_cgpid35640602-ns-4026533648/gpytorch/utils/cholesky.py:44: NumericalWarning:\n",
      "\n",
      "A not p.d., added jitter of 1.0e-04 to the diagonal\n",
      "\n",
      "I0712 102016.146 <ipython-input-9-289fa74c7767>:80] Wall time: 40.432912\n",
      "I0712 102016.147 <ipython-input-9-289fa74c7767>:22] rnd: -0.316It 12/15, best obs.: , ei: -0.419It 12/15, best obs.: , ei_hogp_cf: -0.020\n",
      "/mnt/xarfuse/uid-22017/907c0fbc-seed-nspid4026533651_cgpid35640602-ns-4026533648/gpytorch/utils/cholesky.py:44: NumericalWarning:\n",
      "\n",
      "A not p.d., added jitter of 1.0e-04 to the diagonal\n",
      "\n",
      "I0712 102027.985 <ipython-input-9-289fa74c7767>:80] Wall time: 11.838584\n",
      "I0712 102027.987 <ipython-input-9-289fa74c7767>:22] rnd: -0.316It 13/15, best obs.: , ei: -0.419It 13/15, best obs.: , ei_hogp_cf: -0.020\n",
      "I0712 102111.012 <ipython-input-9-289fa74c7767>:80] Wall time: 43.025202\n",
      "I0712 102111.013 <ipython-input-9-289fa74c7767>:22] rnd: -0.316It 14/15, best obs.: , ei: -0.419It 14/15, best obs.: , ei_hogp_cf: -0.020\n",
      "I0712 102121.232 <ipython-input-9-289fa74c7767>:80] Wall time: 10.219100\n",
      "I0712 102121.233 <ipython-input-9-289fa74c7767>:22] rnd: -0.316It 15/15, best obs.: , ei: -0.419It 15/15, best obs.: , ei_hogp_cf: -0.020\n",
      "/mnt/xarfuse/uid-22017/907c0fbc-seed-nspid4026533651_cgpid35640602-ns-4026533648/gpytorch/utils/cholesky.py:44: NumericalWarning:\n",
      "\n",
      "A not p.d., added jitter of 1.0e-04 to the diagonal\n",
      "\n",
      "I0712 102213.324 <ipython-input-9-289fa74c7767>:80] Wall time: 52.091378\n"
     ]
    },
    {
     "name": "stdout",
     "output_type": "stream",
     "text": [
      "Finished with trial:  3\n"
     ]
    }
   ],
   "source": [
    "all_objective_vals = []\n",
    "\n",
    "with gpt_settings.cholesky_jitter(1e-4):\n",
    "    for trial in range(n_trials):\n",
    "        print(\"Beginning with trial: \", trial+1)\n",
    "        c_batched, objective, bounds, num_samples = prepare_data(device=device, dtype=dtype)\n",
    "\n",
    "        train_X_init = gen_rand_points(bounds, n_init)\n",
    "        train_Y_init = c_batched(train_X_init)\n",
    "\n",
    "        # these will keep track of the points explored\n",
    "        train_X = {k: train_X_init.clone() for k in models_used}\n",
    "        train_Y = {k: train_Y_init.clone() for k in train_X}\n",
    "\n",
    "        # run the BO loop\n",
    "        for i in range(n_batches):\n",
    "            tic = time.time()\n",
    "\n",
    "            # get best observations, log status\n",
    "            best_f = {k: objective(v).max().detach() for k, v in train_Y.items()}\n",
    "\n",
    "            logging.info(\n",
    "                f\"It {i+1:>2}/{n_batches}, best obs.: \"\n",
    "                \", \".join([f\"{k}: {v:.3f}\" for k, v in best_f.items()])\n",
    "            )\n",
    "\n",
    "            # generate random candidates\n",
    "            cands = {}\n",
    "            cands[\"rnd\"] = gen_rand_points(bounds, batch_size)\n",
    "\n",
    "            optimize_acqf_kwargs = {\n",
    "                \"q\": batch_size,\n",
    "                \"num_restarts\": 10,\n",
    "                \"raw_samples\": 512,\n",
    "            }\n",
    "            sampler = IIDNormalSampler(num_samples=128)\n",
    "\n",
    "            train_Y_ei = objective(train_Y[\"ei\"]).unsqueeze(-1)\n",
    "            model_ei = SingleTaskGP(\n",
    "                train_X[\"ei\"],\n",
    "                train_Y_ei,\n",
    "                input_transform=Normalize(train_X[\"ei\"].shape[-1]),\n",
    "                outcome_transform=Standardize(train_Y_ei.shape[-1]),\n",
    "            )\n",
    "\n",
    "            mll = ExactMarginalLogLikelihood(model_ei.likelihood, model_ei)\n",
    "            fit_gpytorch_torch(mll, options={\"lr\": 0.01, \"maxiter\": 3000, \"disp\": False})\n",
    "\n",
    "            # generate qEI candidate (single output modeling)\n",
    "            qEI = qExpectedImprovement(model_ei, best_f=best_f[\"ei\"], sampler=sampler)\n",
    "            cands[\"ei\"] = optimize_ei(qEI, bounds, **optimize_acqf_kwargs)\n",
    "\n",
    "            model_ei_hogp_cf = HigherOrderGP(\n",
    "                train_X[\"ei_hogp_cf\"],\n",
    "                train_Y[\"ei_hogp_cf\"],\n",
    "                outcome_transform=FlattenedStandardize(train_Y[\"ei_hogp_cf\"].shape[1:]),\n",
    "                input_transform=Normalize(train_X[\"ei_hogp_cf\"].shape[-1]),\n",
    "                latent_init=\"gp\",\n",
    "            )\n",
    "\n",
    "            mll = ExactMarginalLogLikelihood(model_ei_hogp_cf.likelihood, model_ei_hogp_cf)\n",
    "            fit_gpytorch_torch(mll, options={\"lr\": 0.01, \"maxiter\": 3000, \"disp\": False})\n",
    "\n",
    "            # generate qEI candidate (multi-output modeling)\n",
    "            qEI_hogp_cf = qExpectedImprovement(\n",
    "                model_ei_hogp_cf,\n",
    "                best_f=best_f[\"ei_hogp_cf\"],\n",
    "                sampler=sampler,\n",
    "                objective=objective,\n",
    "            )\n",
    "            cands[\"ei_hogp_cf\"] = optimize_ei(qEI_hogp_cf, bounds, **optimize_acqf_kwargs)\n",
    "\n",
    "            # make observations and update data\n",
    "            for k, Xold in train_X.items():\n",
    "                Xnew = cands[k]\n",
    "                if Xnew.shape[0] > 0:\n",
    "                    train_X[k] = torch.cat([Xold, Xnew])\n",
    "                    train_Y[k] = torch.cat([train_Y[k], c_batched(Xnew)])\n",
    "\n",
    "            logging.info(f\"Wall time: {time.time() - tic:1f}\")\n",
    "\n",
    "        objective_dict = {k: objective(train_Y[k]) for k in train_Y}\n",
    "        all_objective_vals.append(objective_dict)\n",
    "        print(\"Finished with trial: \", trial+1)"
   ]
  },
  {
   "cell_type": "code",
   "execution_count": 10,
   "metadata": {},
   "outputs": [],
   "source": [
    "methods_dict = {k: torch.stack([trial[k].cpu() for trial in all_objective_vals]).cummax(1)[0] for k in models_used}\n",
    "mean_and_sem_results = {k: [\n",
    "    -methods_dict[k].mean(0)[n_init:], \n",
    "    2. * methods_dict[k].std(0)[n_init:] / (n_trials**0.5)] for k in models_used}"
   ]
  },
  {
   "cell_type": "markdown",
   "metadata": {},
   "source": [
    "Finally, we plot the results, showing that the HOGP performs well on this task, and converges to a closer parameter value than a batch GP on the composite metric itself."
   ]
  },
  {
   "cell_type": "code",
   "execution_count": 11,
   "metadata": {},
   "outputs": [
    {
     "data": {
      "text/plain": [
       "Text(0, 0.5, 'Difference from True Parameter')"
      ]
     },
     "execution_count": 11,
     "metadata": {
      "bento_obj_id": "140320414618528"
     },
     "output_type": "execute_result"
    },
    {
     "data": {
      "image/png": "[encoded data removed]",
      "text/plain": [
       "<Figure size 576x432 with 1 Axes>"
      ]
     },
     "metadata": {
      "bento_obj_id": "140320414507936",
      "needs_background": "light"
     },
     "output_type": "display_data"
    }
   ],
   "source": [
    "plt.figure(figsize = (8,6))\n",
    "labels_dict = {\"rnd\": \"Random\", \"ei\": \"EI\", \"ei_hogp_cf\": \"Composite EI\"}\n",
    "for k in models_used:\n",
    "    plt.plot(\n",
    "        torch.arange(n_batches * batch_size),\n",
    "        mean_and_sem_results[k][0],\n",
    "        label = labels_dict[k],\n",
    "    )\n",
    "    \n",
    "    plt.fill_between(\n",
    "        torch.arange(n_batches * batch_size),\n",
    "        (mean_and_sem_results[k][0] - mean_and_sem_results[k][1]).clamp(min=1e-3),\n",
    "        mean_and_sem_results[k][0] + mean_and_sem_results[k][1],\n",
    "        alpha = 0.3\n",
    "    )\n",
    "plt.legend(fontsize = 20)\n",
    "plt.semilogy()\n",
    "plt.xlabel(\"Number of Function Queries\")\n",
    "plt.ylabel(\"Difference from True Parameter\")"
   ]
  },
  {
   "cell_type": "raw",
   "metadata": {},
   "source": []
  }
 ],
 "metadata": {
  "anp_metadata": {
   "path": "fbcode/pytorch/botorch/tutorials/composite_bo_with_hogp.ipynb"
  },
  "bento_stylesheets": {
   "bento/extensions/flow/main.css": true,
   "bento/extensions/kernel_selector/main.css": true,
   "bento/extensions/kernel_ui/main.css": true,
   "bento/extensions/new_kernel/main.css": true,
   "bento/extensions/system_usage/main.css": true,
   "bento/extensions/theme/main.css": true
  },
  "disseminate_notebook_info": {
   "backup_notebook_id": "309858327550772"
  },
  "kernelspec": {
   "display_name": "ae",
   "language": "python",
   "name": "bento_kernel_ae"
  },
  "language_info": {
   "codemirror_mode": {
    "name": "ipython",
    "version": 3
   },
   "file_extension": ".py",
   "mimetype": "text/x-python",
   "name": "python",
   "nbconvert_exporter": "python",
   "pygments_lexer": "ipython3",
   "version": "3.8.6"
  }
 },
 "nbformat": 4,
 "nbformat_minor": 2
}
