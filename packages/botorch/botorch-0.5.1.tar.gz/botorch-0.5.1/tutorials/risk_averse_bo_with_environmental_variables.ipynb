{
  "metadata": {
    "bento_stylesheets": {
      "bento/extensions/flow/main.css": true,
      "bento/extensions/kernel_selector/main.css": true,
      "bento/extensions/kernel_ui/main.css": true,
      "bento/extensions/new_kernel/main.css": true,
      "bento/extensions/system_usage/main.css": true,
      "bento/extensions/theme/main.css": true
    },
    "kernelspec": {
      "display_name": "ae (local)",
      "language": "python",
      "name": "ae_local",
      "metadata": {
        "is_prebuilt": false,
        "kernel_name": "ae_local"
      }
    },
    "language_info": {
      "codemirror_mode": {
        "name": "ipython",
        "version": 3
      },
      "file_extension": ".py",
      "mimetype": "text/x-python",
      "name": "python",
      "nbconvert_exporter": "python",
      "pygments_lexer": "ipython3"
    }
  },
  "nbformat": 4,
  "nbformat_minor": 2,
  "cells": [
    {
      "cell_type": "markdown",
      "metadata": {
        "originalKey": "480abf47-77be-4c72-819e-647600340428",
        "showInput": true,
        "customInput": null,
        "code_folding": [],
        "hidden_ranges": []
      },
      "source": [
        "# Risk averse Bayesian optimization with environmental variables\n",
        "\n",
        "This notebook considers risk averse Bayesian optimization of objectives $f(x, w)$, where $x$ denotes the design variable and $w$ denotes the environmental variable. \n",
        "The design variable $x$ is fully controlled by the practitioner, however, the environmental variable $w$ is only controllable at the experimentation phase and is determined by the environment once the decision $x$ is implemented, according to some probability distribution.\n",
        "In this setting, with the $W$ denoting the random environmental variable, the objective we want to optimize becomes a random function, written as $f(x, W)$, whose value is determined only once the environmental variable $W$ is realized.\n",
        "This formulation is relevant whenever we need to make a decision to be implemented in an unknown future environment, and we can simulate the environment during the optimization phase.\n",
        "\n",
        "For this problem setting, [1] proposes to optimize a risk measure of the random function, written as $\\rho[f(x, W)]$, where $\\rho$ denotes a risk measure, which is a functional that maps a random variable (in this case $f(x, W)$ induced by $W$) to a real number. \n",
        "They propose the $\\rho$KG acquisition function, which extends the well-known knowledge-gradient acquisition function, and requires access to posterior mean of the objective, i.e., $\\mathbb{E}_n[\\rho[f(x, W)]]$, where the expectation is taken over the sample paths of the GP model.\n",
        "Unlike the posterior mean of the function $f(x, w)$, the posterior mean of the risk measure is not available in closed-form and needs to be estimated via sampling. \n",
        "The procedure for estimating $\\mathbb{E}_n[\\rho[f(x, W)]]$ for a given $x$ is as follows:\n",
        "- Draw a set of `n_w` samples of $W$ according to the probability distribution. Let's call this `w_set`.\n",
        "- Append each $w$ in `w_set` to the given $x$ to get $(x, w)$ pairs. Note that for a single $x$, we now have `n_w` pairs of $(x, w)$.\n",
        "- Draw samples from the joint posterior distribution of these `n_w` pairs of $(x, w)$. Note that the joint distribution here is an `n_w`-dimensional Gaussian distribution.\n",
        "- Calculate the empirical risk measure corresponding to each sample, converting each `n_w`-dimensional posterior sample to a scalar sample of the risk measure.\n",
        "- Take the average of these risk measure samples to get the Monte-Carlo estimate of the posterior mean of the risk measure.\n",
        "\n",
        "Now that the background is established, we are ready to implement a one-shot version of the $\\rho$KG acquisition function proposed in [1], in native BoTorch. We will:\n",
        " - Use `AppendFeatures` input transform to add the set of $W$ samples to each given $x$;\n",
        " - Calculate the joint posterior over these samples;\n",
        " - Use `RiskMeasureMCObjective` to convert these joint samples into samples of the risk measure;\n",
        " - And use the samples of the risk measure in `qMultiFidelityKnowledgeGradient` to define the $\\rho$KG acquisition function.\n",
        "\n",
        "We will use the (negated) Branin function as $f(x, w)$ with the first input dimension denoting $x$ and the second input dimension denoting $w$, and find the $x$ maximizing the CVaR risk measure at risk level $\\alpha=0.7$. We will assume that $W$ has a uniform distribution over $[0, 1]$ and approximate the risk measure using $16$ (qMC) samples of $W$ at a given time.\n",
        "\n",
        "CVaR, the Conditional Value-at-Risk, is a risk measure that measures the expectation of the worst outcomes (small rewards or large losses) with a total probability of $1 - \\alpha$. \n",
        "It is commonly defined as the conditional expectation of the reward function, with the condition that the reward is smaller than the corresponding $1 - \\alpha$ quantile.\n",
        "\n",
        "Note: Risk measures are typically studied in the context of a minimization problem (including in [1]), since it makes more sense to minimize \"risk\", and treat the larger values as being undesirable. Since the default behavior in BoTorch is to maximize the objective, the `RiskMeasureMCObjective` (and its subclasses) is defined w.r.t. the lower tail of the random variable, i.e., by treating the smaller values as undesirable. With this implementation, all that is needed to minimize a risk measure (of the original objective) is to negate the objective, as is done in this notebook.   \n",
        "\n",
        "[1] [S. Cakmak, R. Astudillo, P. Frazier, and E. Zhou. Bayesian Optimization of Risk Measures. Advances in Neural Information Processing Systems 33, 2020.](https://arxiv.org/abs/2007.05554)"
      ]
    },
    {
      "cell_type": "code",
      "metadata": {
        "collapsed": false,
        "originalKey": "3883d166-cec1-4027-8678-fac809a02e21",
        "code_folding": [],
        "hidden_ranges": [],
        "requestMsgId": "a44e7db8-06a5-405b-b2bd-0e73a3c2bf0b"
      },
      "source": [
        "import os\n",
        "import warnings\n",
        "from time import time\n",
        "\n",
        "import matplotlib.pyplot as plt\n",
        "import torch\n",
        "from botorch import fit_gpytorch_model\n",
        "from botorch.acquisition import qMultiFidelityKnowledgeGradient, qSimpleRegret\n",
        "from botorch.acquisition.risk_measures import CVaR\n",
        "from botorch.models import SingleTaskGP\n",
        "from botorch.models.transforms import Standardize\n",
        "from botorch.models.transforms.input import AppendFeatures\n",
        "from botorch.optim import optimize_acqf\n",
        "from botorch.utils.sampling import draw_sobol_samples\n",
        "from botorch.utils.transforms import unnormalize\n",
        "from botorch.test_functions import Branin\n",
        "from gpytorch import ExactMarginalLogLikelihood\n",
        "from torch import Tensor\n",
        "\n",
        "warnings.filterwarnings(\"ignore\")\n",
        "\n",
        "SMOKE_TEST = os.environ.get(\"SMOKE_TEST\")\n",
        "BATCH_SIZE = 2 if not SMOKE_TEST else 1\n",
        "NUM_RESTARTS = 10 if not SMOKE_TEST else 2\n",
        "RAW_SAMPLES = 128 if not SMOKE_TEST else 4\n",
        "N_W = 16 if not SMOKE_TEST else 2\n",
        "NUM_ITERATIONS = 20 if not SMOKE_TEST else 2\n",
        "NUM_FANTASIES = 16 if not SMOKE_TEST else 2\n",
        "\n",
        "tkwargs = {\"device\": \"cpu\", \"dtype\": torch.double}"
      ],
      "execution_count": 1,
      "outputs": []
    },
    {
      "cell_type": "markdown",
      "metadata": {
        "originalKey": "103a4fc5-8c7b-4e2f-a954-818a8486e976",
        "showInput": true,
        "customInput": null,
        "code_folding": [],
        "hidden_ranges": []
      },
      "source": [
        "## Problem setup\n",
        "We will initialize the `Branin` test function and define a wrapper around it to normalize the domain to $[0, 1]^2$."
      ]
    },
    {
      "cell_type": "code",
      "metadata": {
        "originalKey": "07687140-235f-4654-9369-62801bb0867f",
        "showInput": true,
        "customInput": null,
        "code_folding": [],
        "hidden_ranges": [],
        "collapsed": false,
        "requestMsgId": "91d909e4-016a-4f3b-9efb-00a92cc9c580"
      },
      "source": [
        "test_function = Branin(negate=True)\n",
        "dim = test_function.dim\n",
        "\n",
        "def evaluate_function(X: Tensor) -> Tensor:\n",
        "    return test_function(unnormalize(X, test_function.bounds)).view(*X.shape[:-1], 1)\n",
        ""
      ],
      "execution_count": 2,
      "outputs": []
    },
    {
      "cell_type": "markdown",
      "metadata": {
        "originalKey": "3742d3d6-f77a-4013-9823-f797480c5d44",
        "showInput": true,
        "customInput": null,
        "code_folding": [],
        "hidden_ranges": []
      },
      "source": [
        "### Model initialization\n",
        "We will initialize the `SingleTaskGP` model on $8$ Sobol points drawn from the $(x, w)$ space. \n",
        "In doing so, we will also pass in the `AppendFeatures`. We will re-initialize `AppendFeatures` with a new `w_set` at every model training to ensure adequate coverage of the $W$ space."
      ]
    },
    {
      "cell_type": "code",
      "metadata": {
        "originalKey": "5a461471-35be-4c7e-9f1f-3c843288592e",
        "showInput": true,
        "customInput": null,
        "code_folding": [],
        "hidden_ranges": [],
        "collapsed": false,
        "requestMsgId": "e6435a8b-d26d-4949-96e5-b69661979e50"
      },
      "source": [
        "bounds = torch.stack([torch.zeros(dim), torch.ones(dim)]).to(**tkwargs)\n",
        "train_X = draw_sobol_samples(bounds=bounds, n=8, q=1).squeeze(-2).to(**tkwargs)\n",
        "train_Y = evaluate_function(train_X)\n",
        "\n",
        "def train_model(train_X: Tensor, train_Y: Tensor) -> SingleTaskGP:\n",
        "    r\"\"\"Returns a `SingleTaskGP` model trained on the inputs\"\"\"\n",
        "    w_set = draw_sobol_samples(n=N_W, q=1, bounds=bounds[:, -1:]).squeeze(-2).to(**tkwargs)\n",
        "    model = SingleTaskGP(\n",
        "        train_X, train_Y, input_transform=AppendFeatures(feature_set=w_set), outcome_transform=Standardize(m=1)\n",
        "    )\n",
        "    mll = ExactMarginalLogLikelihood(model.likelihood, model)\n",
        "    fit_gpytorch_model(mll)\n",
        "    return model\n",
        "\n",
        "model = train_model(train_X, train_Y)\n",
        ""
      ],
      "execution_count": 3,
      "outputs": []
    },
    {
      "cell_type": "markdown",
      "metadata": {
        "originalKey": "ffd3d6f1-32ed-496a-934b-e24868f41eae",
        "showInput": true,
        "customInput": null,
        "code_folding": [],
        "hidden_ranges": []
      },
      "source": [
        "### Define a helper function that performs the BO step\n",
        "The helper function will initialize the `qMultiFidelityKnowledgeGradient` acquisition function with the risk measure objective, and optimize it to find the candidate to evaluate.\n",
        "We use `qMultiFidelityKnowledgeGradient` instead of `qKnowledgeGraient` since it accepts a `project` callable, which we will use to ignore the $w$ present in the fantasy solutions before adding the `w_set` via the `AppendFeatures` input transform. "
      ]
    },
    {
      "cell_type": "code",
      "metadata": {
        "originalKey": "c243bd1c-8fe7-4a35-8fa1-48446ef77f55",
        "showInput": true,
        "customInput": null,
        "code_folding": [],
        "hidden_ranges": [],
        "collapsed": false,
        "requestMsgId": "b5910ef1-4634-4bb4-b72e-af5713d72f45"
      },
      "source": [
        "risk_measure = CVaR(alpha=0.7, n_w=N_W)\n",
        "\n",
        "def ignore_w(X: Tensor) -> Tensor:\n",
        "    r\"\"\"Remove `w` from the input.\"\"\"\n",
        "    return X[..., :-1]\n",
        "\n",
        "def optimize_rho_kg_and_get_observation():\n",
        "    r\"\"\"Optimizes the rhoKG acquisition function, and returns a new candidate and observation.\"\"\"\n",
        "    acqf = qMultiFidelityKnowledgeGradient(\n",
        "        model=model,\n",
        "        num_fantasies=NUM_FANTASIES,\n",
        "        objective=risk_measure,\n",
        "        project=ignore_w,\n",
        "    )\n",
        "\n",
        "    candidate, _ = optimize_acqf(\n",
        "        acq_function=acqf,\n",
        "        bounds=bounds,\n",
        "        q=BATCH_SIZE,\n",
        "        num_restarts=NUM_RESTARTS,\n",
        "        raw_samples=RAW_SAMPLES,\n",
        "    )\n",
        "\n",
        "    new_observations = evaluate_function(candidate)\n",
        "    return candidate, new_observations\n",
        ""
      ],
      "execution_count": 4,
      "outputs": []
    },
    {
      "cell_type": "markdown",
      "metadata": {
        "originalKey": "47a684ed-2145-4068-a22e-641b265a01eb",
        "showInput": true,
        "customInput": null,
        "code_folding": [],
        "hidden_ranges": []
      },
      "source": [
        "## Perform the Bayesian optimization loop with $\\rho$KG\n",
        "The BO loop iterates the following steps:\n",
        "- Given the surrogate model, maximize the acquisition function to find the candidate(s) $(x, w)$ to evaluate;\n",
        "- Observe $f(x, w)$ for each candidate;\n",
        "- Update the surrogate model with the new observation.\n",
        "\n",
        "Note: Running this may take a while."
      ]
    },
    {
      "cell_type": "code",
      "metadata": {
        "originalKey": "e7151464-ac1d-48a6-8ffe-638d8c0f8a8c",
        "showInput": true,
        "customInput": null,
        "code_folding": [],
        "hidden_ranges": [],
        "collapsed": false,
        "requestMsgId": "372f60a2-efee-42ac-b2a7-1a08c23b5853"
      },
      "source": [
        "start_time = time()\n",
        "\n",
        "for i in range(NUM_ITERATIONS):\n",
        "    print(f\"Starting iteration {i}, total time: {time() - start_time:.3f} seconds.\")\n",
        "    # optimize the acquisition function and get the observations\n",
        "    candidate, observations = optimize_rho_kg_and_get_observation()\n",
        "\n",
        "    # update the model with new observations\n",
        "    train_X = torch.cat([train_X, candidate], dim=0)\n",
        "    train_Y = torch.cat([train_Y, observations], dim=0)\n",
        "    model = train_model(train_X, train_Y)"
      ],
      "execution_count": 5,
      "outputs": [
        {
          "output_type": "stream",
          "name": "stdout",
          "text": [
            "Starting iteration 0, total time: 0.000 seconds.\n"
          ]
        },
        {
          "output_type": "stream",
          "name": "stdout",
          "text": [
            "Starting iteration 1, total time: 5.323 seconds.\n"
          ]
        },
        {
          "output_type": "stream",
          "name": "stdout",
          "text": [
            "Starting iteration 2, total time: 14.662 seconds.\n"
          ]
        },
        {
          "output_type": "stream",
          "name": "stdout",
          "text": [
            "Starting iteration 3, total time: 28.019 seconds.\n"
          ]
        },
        {
          "output_type": "stream",
          "name": "stdout",
          "text": [
            "Starting iteration 4, total time: 35.574 seconds.\n"
          ]
        },
        {
          "output_type": "stream",
          "name": "stdout",
          "text": [
            "Starting iteration 5, total time: 48.277 seconds.\n"
          ]
        },
        {
          "output_type": "stream",
          "name": "stdout",
          "text": [
            "Starting iteration 6, total time: 57.038 seconds.\n"
          ]
        },
        {
          "output_type": "stream",
          "name": "stdout",
          "text": [
            "Starting iteration 7, total time: 68.910 seconds.\n"
          ]
        },
        {
          "output_type": "stream",
          "name": "stdout",
          "text": [
            "Starting iteration 8, total time: 75.037 seconds.\n"
          ]
        },
        {
          "output_type": "stream",
          "name": "stdout",
          "text": [
            "Starting iteration 9, total time: 112.602 seconds.\n"
          ]
        },
        {
          "output_type": "stream",
          "name": "stdout",
          "text": [
            "Starting iteration 10, total time: 124.787 seconds.\n"
          ]
        },
        {
          "output_type": "stream",
          "name": "stdout",
          "text": [
            "Starting iteration 11, total time: 144.840 seconds.\n"
          ]
        },
        {
          "output_type": "stream",
          "name": "stdout",
          "text": [
            "Starting iteration 12, total time: 152.165 seconds.\n"
          ]
        },
        {
          "output_type": "stream",
          "name": "stdout",
          "text": [
            "Starting iteration 13, total time: 166.982 seconds.\n"
          ]
        },
        {
          "output_type": "stream",
          "name": "stdout",
          "text": [
            "Starting iteration 14, total time: 188.940 seconds.\n"
          ]
        },
        {
          "output_type": "stream",
          "name": "stdout",
          "text": [
            "Starting iteration 15, total time: 194.249 seconds.\n"
          ]
        },
        {
          "output_type": "stream",
          "name": "stdout",
          "text": [
            "Starting iteration 16, total time: 199.794 seconds.\n"
          ]
        },
        {
          "output_type": "stream",
          "name": "stdout",
          "text": [
            "Starting iteration 17, total time: 207.143 seconds.\n"
          ]
        },
        {
          "output_type": "stream",
          "name": "stdout",
          "text": [
            "Starting iteration 18, total time: 214.202 seconds.\n"
          ]
        },
        {
          "output_type": "stream",
          "name": "stdout",
          "text": [
            "Starting iteration 19, total time: 229.507 seconds.\n"
          ]
        }
      ]
    },
    {
      "cell_type": "markdown",
      "metadata": {
        "originalKey": "a3c58456-524d-4cfd-8619-3dab53e7d8ac",
        "showInput": true,
        "customInput": null,
        "code_folding": [],
        "hidden_ranges": []
      },
      "source": [
        "### Find the solution to implement\n",
        "We will choose the solution to implement as the point maximizing the posterior expectation of the risk measure. Since this expectation is not available in closed form, we will maximize its qMC estimate as a surrogate. We will use a larger `w_set` here to get a more precise estimate."
      ]
    },
    {
      "cell_type": "code",
      "metadata": {
        "originalKey": "09fa7c2b-6369-404e-928e-fb1913fe5215",
        "showInput": true,
        "customInput": null,
        "code_folding": [],
        "hidden_ranges": [],
        "collapsed": false,
        "requestMsgId": "f3b697a7-0ccf-4ba2-8195-cf00dbdb9cb6"
      },
      "source": [
        "# update the input transform of the already trained model\n",
        "w_set = draw_sobol_samples(n=128, q=1, bounds=bounds[:, -1:]).squeeze(-2).to(**tkwargs)\n",
        "new_transform = AppendFeatures(feature_set=w_set).eval()\n",
        "model.input_transform = new_transform\n",
        "\n",
        "risk_measure = CVaR(alpha=0.7, n_w=128)\n",
        "expected_risk_measure = qSimpleRegret(model=model, objective=risk_measure)\n",
        "\n",
        "final_candidate, expected_objective = optimize_acqf(\n",
        "    acq_function=expected_risk_measure,\n",
        "    bounds=bounds[:, :1],\n",
        "    q=1,\n",
        "    num_restarts=NUM_RESTARTS,\n",
        "    raw_samples=RAW_SAMPLES,\n",
        ")"
      ],
      "execution_count": 6,
      "outputs": []
    },
    {
      "cell_type": "markdown",
      "metadata": {
        "originalKey": "649ac54a-bfe6-48f8-b33b-1dcad0609a26",
        "showInput": true,
        "customInput": null,
        "code_folding": [],
        "hidden_ranges": []
      },
      "source": [
        "### Let's plot the true risk measure and see how we did\n",
        "We can use the input transform and the risk measure we previously defined to make this part easier!\n",
        "\n",
        "The plot shows that we found the global optimal solution and that our estimate of the risk measure at the optimal point is quite accurate. "
      ]
    },
    {
      "cell_type": "code",
      "metadata": {
        "originalKey": "242d3426-2e1b-4418-a13c-b26943265f17",
        "showInput": true,
        "customInput": null,
        "code_folding": [],
        "hidden_ranges": [],
        "collapsed": false,
        "requestMsgId": "29cef7c5-cb54-48c8-ba40-b07be775d672"
      },
      "source": [
        "plot_x = torch.linspace(0, 1, 100, **tkwargs).view(-1, 1)\n",
        "eval_X = new_transform(plot_x)\n",
        "eval_Y = evaluate_function(eval_X)\n",
        "plot_risk_measure = risk_measure(eval_Y)\n",
        "\n",
        "plt.figure(figsize=(12, 8))\n",
        "plt.title(\"True Risk Measure Objective and Solution Found\")\n",
        "plt.plot(plot_x, plot_risk_measure)\n",
        "plt.scatter(final_candidate, expected_objective, marker=\"*\", color=\"red\", s=500)\n",
        "plt.xlabel(\"x\")\n",
        "plt.ylabel(\"$\\\\rho[f(x, w)]$\")\n",
        "plt.show()"
      ],
      "execution_count": 7,
      "outputs": [
        {
          "output_type": "display_data",
          "data": {
            "text/plain": "<Figure size 864x576 with 1 Axes>",
            "image/png": "[encoded data removed]"
          },
          "metadata": {
            "bento_obj_id": "140557448334832",
            "needs_background": "light"
          }
        }
      ]
    }
  ]
}
