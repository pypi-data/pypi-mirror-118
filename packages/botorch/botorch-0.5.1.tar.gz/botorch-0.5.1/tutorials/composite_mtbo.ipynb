{
 "cells": [
  {
   "cell_type": "markdown",
   "metadata": {},
   "source": [
    "## Composite Bayesian Optimization with Multi-Task Gaussian Processes\n",
    "\n",
    "In this tutorial, we'll be describing how to perform multi-task Bayesian optimization over composite functions. In these types of problems, there are several related outputs, and an overall easy to evaluate objective function that we wish to maximize.\n",
    "\n",
    "**Multi-task Bayesian Optimization** was first proposed by [Swersky et al, NeurIPS, '13](https://papers.neurips.cc/paper/2013/hash/f33ba15effa5c10e873bf3842afb46a6-Abstract.html) in the context of fast hyper-parameter tuning for neural network models; however, we demonstrate a more advanced use-case of **[composite Bayesian optimization](https://proceedings.mlr.press/v97/astudillo19a.html)** where the overall function that we wish to optimize is a cheap-to-evaluate (and known) function of the outputs. In general, we expect that using more information about the function should yield improved performance when attempting to optimize it, particularly if the metric function itself is quickly varying.\n",
    "\n",
    "See [the composite BO tutorial w/ HOGP](https://github.com/pytorch/botorch/blob/main/tutorials/composite_bo_with_hogp.ipynb) for a more technical introduction. In general, we suggest using MTGPs for unstructured task outputs and the HOGP for matrix / tensor structured outputs.\n",
    "\n",
    "\n",
    "We will use a Multi-Task Gaussian process ([MTGP](https://papers.nips.cc/paper/2007/hash/66368270ffd51418ec58bd793f2d9b1b-Abstract.html)) with an ICM kernel to model all of the outputs in this problem. MTGPs can be easily accessed in Botorch via the `botorch.models.KroneckerMultiTaskGP` model class (for the \"block design\" case of fully observed outputs at all inputs). Given $T$ tasks (outputs) and $n$ data points, they assume that the responses, $Y \\sim \\mathbb{R}^{n \\times T},$ are distributed as $\\text{vec}(Y) \\sim \\mathcal{N}(f, D)$ and $f \\sim \\mathcal{GP}(\\mu_{\\theta}, K_{XX} \\otimes K_{T}),$ where $D$ is a (diagonal) noise term."
   ]
  },
  {
   "cell_type": "code",
   "execution_count": 1,
   "metadata": {},
   "outputs": [],
   "source": [
    "import torch\n",
    "import os\n",
    "import time\n",
    "\n",
    "from botorch.test_functions import Hartmann\n",
    "from botorch.models import SingleTaskGP, KroneckerMultiTaskGP\n",
    "from gpytorch.mlls import ExactMarginalLogLikelihood\n",
    "from botorch.sampling import IIDNormalSampler\n",
    "from botorch.optim import optimize_acqf\n",
    "from botorch.optim.fit import fit_gpytorch_torch\n",
    "from botorch.acquisition.objective import GenericMCObjective\n",
    "from botorch.acquisition.monte_carlo import qExpectedImprovement\n",
    "from botorch.models.transforms.outcome import Standardize\n",
    "from botorch.models.transforms.input import Normalize\n",
    "\n",
    "SMOKE_TEST = os.environ.get(\"SMOKE_TEST\")"
   ]
  },
  {
   "cell_type": "markdown",
   "metadata": {},
   "source": [
    "### Set device, dtype and random seed"
   ]
  },
  {
   "cell_type": "code",
   "execution_count": 2,
   "metadata": {},
   "outputs": [],
   "source": [
    "torch.random.manual_seed(2010)\n",
    "\n",
    "if torch.cuda.is_available():\n",
    "    torch.cuda.set_device(\"cuda:0\")\n",
    "tkwargs = {\n",
    "    \"dtype\": torch.double,\n",
    "    \"device\": torch.device(\"cuda:0\" if torch.cuda.is_available() else \"cpu\"),\n",
    "}"
   ]
  },
  {
   "cell_type": "markdown",
   "metadata": {},
   "source": [
    "### Problem Definition\n",
    "\n",
    "The function that we wish to optimize is based off of a contextual version of the Hartmann-6 test function, where following [Feng et al, NeurIPS, '20](https://proceedings.neurips.cc/paper/2020/hash/faff959d885ec0ecf70741a846c34d1d-Abstract.html) we convert the sixth task dimension into a task indicator. We assume that we evaluate all $20$ contexts at once."
   ]
  },
  {
   "cell_type": "code",
   "execution_count": 3,
   "metadata": {},
   "outputs": [],
   "source": [
    "from botorch.test_functions import Hartmann\n",
    "from torch import Tensor\n",
    "\n",
    "class ContextualHartmann6(Hartmann):\n",
    "    def __init__(self, num_tasks: int = 20, noise_std = None, negate = False):\n",
    "        super().__init__(dim=6, noise_std = noise_std, negate = negate)\n",
    "        self.task_range = torch.linspace(0, 1, num_tasks).unsqueeze(-1)\n",
    "        self._bounds = [(0.0, 1.0) for _ in range(self.dim - 1)]\n",
    "        self.bounds = torch.tensor(self._bounds).t()\n",
    "        \n",
    "    def evaluate_true(self, X: Tensor) -> Tensor:\n",
    "        batch_X = X.unsqueeze(-2)\n",
    "        batch_dims = X.ndim - 1\n",
    "        \n",
    "        expanded_task_range = self.task_range\n",
    "        for _ in range(batch_dims):\n",
    "            expanded_task_range = expanded_task_range.unsqueeze(0)\n",
    "        task_range = expanded_task_range.repeat(*X.shape[:-1], 1, 1).to(X)\n",
    "        concatenated_X = torch.cat(\n",
    "            (batch_X.repeat(*[1]*batch_dims, self.task_range.shape[0], 1), task_range), dim=-1\n",
    "        )\n",
    "        return super().evaluate_true(concatenated_X)"
   ]
  },
  {
   "cell_type": "markdown",
   "metadata": {},
   "source": [
    "We use `GenericMCObjective` to define the differentiable function that we are optimizing. Here, it is defined as \n",
    "$$g(f) = \\sum_{i=1}^T \\cos(f_i^2 + f_i w_i)$$\n",
    "where $w$ is a weight vector (drawn randomly once at the start of the optimization). As this function is a non-linear function of the outputs $f,$ we cannot compute acquisition functions via computation of the posterior mean and variance, but rather have to compute posterior samples and evaluate acquisitions with Monte Carlo sampling. \n",
    "\n",
    "For greater than $10$ or so tasks, it is computationally challenging to sample the posterior over all tasks jointly using conventional approaches, except that [Maddox et al, '21](https://arxiv.org/abs/2106.12997) have devised an efficient method for exploiting the structure in the posterior distribution of the MTGP, enabling efficient MC based optimization of objectives using MTGPs."
   ]
  },
  {
   "cell_type": "code",
   "execution_count": 4,
   "metadata": {},
   "outputs": [],
   "source": [
    "problem = ContextualHartmann6(noise_std = 0.001, negate=True).to(**tkwargs)\n",
    "\n",
    "# we choose 20 random weights\n",
    "weights = torch.randn(20, **tkwargs)\n",
    "\n",
    "def callable_func(samples, X=None):\n",
    "    res = -torch.cos((samples**2) + samples * weights)\n",
    "    return res.sum(dim=-1)\n",
    "\n",
    "objective = GenericMCObjective(callable_func)"
   ]
  },
  {
   "cell_type": "code",
   "execution_count": 5,
   "metadata": {},
   "outputs": [],
   "source": [
    "bounds = problem.bounds"
   ]
  },
  {
   "cell_type": "markdown",
   "metadata": {},
   "source": [
    "### Define helper functions\n",
    "\n",
    "Define helper functions used for optimizing the acquisition function and for constructing the batch expected improvement acquisition, which we optimize for both the batch GP and MTGP."
   ]
  },
  {
   "cell_type": "code",
   "execution_count": 6,
   "metadata": {},
   "outputs": [],
   "source": [
    "def optimize_acqf_and_get_candidate(acq_func, bounds, batch_size):\n",
    "    \"\"\"Optimizes the acquisition function, and returns a new candidate and a noisy observation.\"\"\"\n",
    "    # optimize\n",
    "    candidates, _ = optimize_acqf(\n",
    "        acq_function=acq_func,\n",
    "        bounds=bounds,\n",
    "        q=batch_size,\n",
    "        num_restarts=10,\n",
    "        raw_samples=512,  # used for intialization heuristic\n",
    "        options={\"batch_limit\": 5, \"maxiter\": 200, \"init_batch_limit\": 5},\n",
    "    )\n",
    "    # observe new values \n",
    "    new_x = candidates.detach()\n",
    "    return new_x"
   ]
  },
  {
   "cell_type": "code",
   "execution_count": 7,
   "metadata": {},
   "outputs": [],
   "source": [
    "def construct_acqf(model, objective, num_samples, best_f):\n",
    "    sampler = IIDNormalSampler(num_samples=num_samples)\n",
    "    qEI = qExpectedImprovement(\n",
    "        model=model, \n",
    "        best_f=best_f,\n",
    "        sampler=sampler, \n",
    "        objective=objective,\n",
    "    )\n",
    "    return qEI"
   ]
  },
  {
   "cell_type": "markdown",
   "metadata": {},
   "source": [
    "Set environmental parameters, we use 20 initial data points and optimize for 20 steps with a batch size of 3 candidate points at each evaluation."
   ]
  },
  {
   "cell_type": "code",
   "execution_count": 8,
   "metadata": {},
   "outputs": [],
   "source": [
    "if SMOKE_TEST:\n",
    "    n_init = 5\n",
    "    n_steps = 1\n",
    "    batch_size = 2\n",
    "    num_samples = 4\n",
    "    n_trials = 4\n",
    "    verbose = False\n",
    "else:\n",
    "    n_init = 20\n",
    "    n_steps = 20\n",
    "    batch_size = 3\n",
    "    num_samples = 128\n",
    "    n_trials = 3\n",
    "    verbose = True"
   ]
  },
  {
   "cell_type": "markdown",
   "metadata": {},
   "source": [
    "## BO Loop\n",
    "\n",
    "Warning... this optimization loop can take a while, especially on the CPU. We compare to both random sampling and a batch GP fit in a composite manner on every output. The batch GP does not take into account any correlations between the different tasks."
   ]
  },
  {
   "cell_type": "code",
   "execution_count": 9,
   "metadata": {},
   "outputs": [
    {
     "name": "stdout",
     "output_type": "stream",
     "text": [
      "\n",
      "Batch  0: best_value (random, mtgp, batch) = (-9.52, -9.52, -9.52), batch time = 11.39, mtgp time = 50.09\n",
      "Batch  1: best_value (random, mtgp, batch) = (-9.52, -9.52, -9.52), batch time = 11.67, mtgp time = 22.61\n",
      "Batch  2: best_value (random, mtgp, batch) = (-9.52, -9.52, -9.52), batch time = 12.64, mtgp time = 28.46"
     ]
    },
    {
     "name": "stderr",
     "output_type": "stream",
     "text": [
      "/mnt/xarfuse/uid-228567/ef01a148-seed-nspid4026531836_cgpid45489687-ns-4026531840/gpytorch/utils/cholesky.py:44: NumericalWarning:\n",
      "\n",
      "A not p.d., added jitter of 1.0e-06 to the diagonal\n",
      "\n"
     ]
    },
    {
     "name": "stdout",
     "output_type": "stream",
     "text": [
      "\n",
      "Batch  3: best_value (random, mtgp, batch) = (-9.52, -9.52, -9.52), batch time = 9.27, mtgp time = 43.40"
     ]
    },
    {
     "name": "stderr",
     "output_type": "stream",
     "text": [
      "/mnt/xarfuse/uid-228567/ef01a148-seed-nspid4026531836_cgpid45489687-ns-4026531840/gpytorch/utils/cholesky.py:44: NumericalWarning:\n",
      "\n",
      "A not p.d., added jitter of 1.0e-06 to the diagonal\n",
      "\n"
     ]
    },
    {
     "name": "stdout",
     "output_type": "stream",
     "text": [
      "\n",
      "Batch  4: best_value (random, mtgp, batch) = (-9.52, -5.68, -9.52), batch time = 4.93, mtgp time = 30.97\n",
      "Batch  5: best_value (random, mtgp, batch) = (-9.52, -5.68, -9.52), batch time = 6.38, mtgp time = 13.53"
     ]
    },
    {
     "name": "stderr",
     "output_type": "stream",
     "text": [
      "/mnt/xarfuse/uid-228567/ef01a148-seed-nspid4026531836_cgpid45489687-ns-4026531840/gpytorch/utils/cholesky.py:44: NumericalWarning:\n",
      "\n",
      "A not p.d., added jitter of 1.0e-06 to the diagonal\n",
      "\n"
     ]
    },
    {
     "name": "stdout",
     "output_type": "stream",
     "text": [
      "\n",
      "Batch  6: best_value (random, mtgp, batch) = (-9.52, -5.68, -9.52), batch time = 6.23, mtgp time = 42.83\n",
      "Batch  7: best_value (random, mtgp, batch) = (-9.24, -4.61, -9.52), batch time = 6.24, mtgp time = 14.94\n",
      "Batch  8: best_value (random, mtgp, batch) = (-9.24, -4.47, -9.52), batch time = 9.92, mtgp time = 21.80\n",
      "Batch  9: best_value (random, mtgp, batch) = (-9.24, -4.47, -6.24), batch time = 14.26, mtgp time = 30.95"
     ]
    },
    {
     "name": "stderr",
     "output_type": "stream",
     "text": [
      "/mnt/xarfuse/uid-228567/ef01a148-seed-nspid4026531836_cgpid45489687-ns-4026531840/gpytorch/utils/cholesky.py:44: NumericalWarning:\n",
      "\n",
      "A not p.d., added jitter of 1.0e-06 to the diagonal\n",
      "\n"
     ]
    },
    {
     "name": "stdout",
     "output_type": "stream",
     "text": [
      "\n",
      "Batch 10: best_value (random, mtgp, batch) = (-9.24, -3.26, -4.54), batch time = 12.88, mtgp time = 26.41\n",
      "Batch 11: best_value (random, mtgp, batch) = (-9.24, -3.26, -3.57), batch time = 15.02, mtgp time = 27.82\n",
      "Batch 12: best_value (random, mtgp, batch) = (-9.24, -3.26, -2.50), batch time = 13.59, mtgp time = 27.51\n",
      "Batch 13: best_value (random, mtgp, batch) = (-9.24, -2.75, -2.50), batch time = 24.31, mtgp time = 33.26\n",
      "Batch 14: best_value (random, mtgp, batch) = (-9.24, -2.75, -2.50), batch time = 11.34, mtgp time = 28.75\n",
      "Batch 15: best_value (random, mtgp, batch) = (-9.24, -2.75, -2.50), batch time = 11.85, mtgp time = 39.74\n",
      "Batch 16: best_value (random, mtgp, batch) = (-9.24, -2.35, -2.31), batch time = 13.90, mtgp time = 29.78\n",
      "Batch 17: best_value (random, mtgp, batch) = (-9.24, -2.35, -2.31), batch time = 11.93, mtgp time = 29.11\n",
      "Batch 18: best_value (random, mtgp, batch) = (-9.24, -2.35, -2.31), batch time = 11.93, mtgp time = 30.58\n",
      "Batch 19: best_value (random, mtgp, batch) = (-8.54, -2.35, -2.31), batch time = 6.24, mtgp time = 27.86\n",
      "Batch  0: best_value (random, mtgp, batch) = (-6.34, -6.34, -6.34), batch time = 12.88, mtgp time = 36.25\n",
      "Batch  1: best_value (random, mtgp, batch) = (-4.86, -6.34, -6.34), batch time = 12.11, mtgp time = 33.74\n",
      "Batch  2: best_value (random, mtgp, batch) = (-4.86, -6.34, -6.34), batch time = 12.00, mtgp time = 46.60\n",
      "Batch  3: best_value (random, mtgp, batch) = (-4.86, -6.34, -6.34), batch time = 12.92, mtgp time = 36.88\n",
      "Batch  4: best_value (random, mtgp, batch) = (-4.86, -6.34, -6.34), batch time = 6.23, mtgp time = 30.78\n",
      "Batch  5: best_value (random, mtgp, batch) = (-4.86, -3.68, -6.34), batch time = 8.35, mtgp time = 27.63\n",
      "Batch  6: best_value (random, mtgp, batch) = (-4.86, -2.66, -4.93), batch time = 7.50, mtgp time = 49.98\n",
      "Batch  7: best_value (random, mtgp, batch) = (-4.86, -2.66, -4.47), batch time = 11.87, mtgp time = 37.50\n",
      "Batch  8: best_value (random, mtgp, batch) = (-4.86, -2.66, -2.81), batch time = 11.41, mtgp time = 41.93\n",
      "Batch  9: best_value (random, mtgp, batch) = (-4.86, -2.66, -2.81), batch time = 10.96, mtgp time = 44.75\n",
      "Batch 10: best_value (random, mtgp, batch) = (-4.86, -2.66, -2.54), batch time = 12.96, mtgp time = 34.05\n",
      "Batch 11: best_value (random, mtgp, batch) = (-4.86, -2.66, -2.49), batch time = 13.49, mtgp time = 40.42\n",
      "Batch 12: best_value (random, mtgp, batch) = (-4.86, -2.66, -2.26), batch time = 13.78, mtgp time = 37.96\n",
      "Batch 13: best_value (random, mtgp, batch) = (-4.86, -2.35, -2.26), batch time = 11.03, mtgp time = 49.89\n",
      "Batch 14: best_value (random, mtgp, batch) = (-4.86, -2.35, -2.26), batch time = 10.55, mtgp time = 33.78\n",
      "Batch 15: best_value (random, mtgp, batch) = (-4.86, -2.32, -2.26), batch time = 11.93, mtgp time = 31.45\n",
      "Batch 16: best_value (random, mtgp, batch) = (-4.86, -2.32, -2.26), batch time = 11.73, mtgp time = 25.93"
     ]
    },
    {
     "name": "stderr",
     "output_type": "stream",
     "text": [
      "/mnt/xarfuse/uid-228567/ef01a148-seed-nspid4026531836_cgpid45489687-ns-4026531840/gpytorch/utils/cholesky.py:44: NumericalWarning:\n",
      "\n",
      "A not p.d., added jitter of 1.0e-06 to the diagonal\n",
      "\n"
     ]
    },
    {
     "name": "stdout",
     "output_type": "stream",
     "text": [
      "\n",
      "Batch 17: best_value (random, mtgp, batch) = (-4.86, -2.32, -2.26), batch time = 11.65, mtgp time = 41.50\n",
      "Batch 18: best_value (random, mtgp, batch) = (-4.86, -2.32, -2.26), batch time = 12.54, mtgp time = 36.79"
     ]
    },
    {
     "name": "stderr",
     "output_type": "stream",
     "text": [
      "/mnt/xarfuse/uid-228567/ef01a148-seed-nspid4026531836_cgpid45489687-ns-4026531840/gpytorch/utils/cholesky.py:44: NumericalWarning:\n",
      "\n",
      "A not p.d., added jitter of 1.0e-06 to the diagonal\n",
      "\n"
     ]
    },
    {
     "name": "stdout",
     "output_type": "stream",
     "text": [
      "\n",
      "Batch 19: best_value (random, mtgp, batch) = (-4.86, -2.32, -2.26), batch time = 10.62, mtgp time = 52.57\n",
      "Batch  0: best_value (random, mtgp, batch) = (-5.52, -5.52, -5.52), batch time = 11.71, mtgp time = 39.39"
     ]
    },
    {
     "name": "stderr",
     "output_type": "stream",
     "text": [
      "/mnt/xarfuse/uid-228567/ef01a148-seed-nspid4026531836_cgpid45489687-ns-4026531840/gpytorch/utils/cholesky.py:44: NumericalWarning:\n",
      "\n",
      "A not p.d., added jitter of 1.0e-06 to the diagonal\n",
      "\n"
     ]
    },
    {
     "name": "stdout",
     "output_type": "stream",
     "text": [
      "\n",
      "Batch  1: best_value (random, mtgp, batch) = (-5.52, -5.52, -5.52), batch time = 14.40, mtgp time = 34.61"
     ]
    },
    {
     "name": "stderr",
     "output_type": "stream",
     "text": [
      "/mnt/xarfuse/uid-228567/ef01a148-seed-nspid4026531836_cgpid45489687-ns-4026531840/gpytorch/utils/cholesky.py:44: NumericalWarning:\n",
      "\n",
      "A not p.d., added jitter of 1.0e-06 to the diagonal\n",
      "\n"
     ]
    },
    {
     "name": "stdout",
     "output_type": "stream",
     "text": [
      "\n",
      "Batch  2: best_value (random, mtgp, batch) = (-5.52, -5.52, -5.52), batch time = 14.71, mtgp time = 26.74"
     ]
    },
    {
     "name": "stderr",
     "output_type": "stream",
     "text": [
      "/mnt/xarfuse/uid-228567/ef01a148-seed-nspid4026531836_cgpid45489687-ns-4026531840/gpytorch/utils/cholesky.py:44: NumericalWarning:\n",
      "\n",
      "A not p.d., added jitter of 1.0e-06 to the diagonal\n",
      "\n"
     ]
    },
    {
     "name": "stdout",
     "output_type": "stream",
     "text": [
      "\n",
      "Batch  3: best_value (random, mtgp, batch) = (-5.52, -5.52, -5.52), batch time = 12.25, mtgp time = 31.19\n",
      "Batch  4: best_value (random, mtgp, batch) = (-5.52, -2.74, -3.40), batch time = 11.82, mtgp time = 31.47"
     ]
    },
    {
     "name": "stderr",
     "output_type": "stream",
     "text": [
      "/mnt/xarfuse/uid-228567/ef01a148-seed-nspid4026531836_cgpid45489687-ns-4026531840/gpytorch/utils/cholesky.py:44: NumericalWarning:\n",
      "\n",
      "A not p.d., added jitter of 1.0e-06 to the diagonal\n",
      "\n"
     ]
    },
    {
     "name": "stdout",
     "output_type": "stream",
     "text": [
      "\n",
      "Batch  5: best_value (random, mtgp, batch) = (-5.52, -2.74, -3.29), batch time = 10.88, mtgp time = 43.98\n",
      "Batch  6: best_value (random, mtgp, batch) = (-5.52, -2.74, -3.29), batch time = 11.60, mtgp time = 32.99\n",
      "Batch  7: best_value (random, mtgp, batch) = (-5.52, -2.74, -2.97), batch time = 11.25, mtgp time = 37.71\n",
      "Batch  8: best_value (random, mtgp, batch) = (-5.52, -2.33, -2.48), batch time = 11.48, mtgp time = 31.68\n",
      "Batch  9: best_value (random, mtgp, batch) = (-5.52, -2.33, -2.48), batch time = 11.50, mtgp time = 29.20\n",
      "Batch 10: best_value (random, mtgp, batch) = (-5.52, -2.33, -2.48), batch time = 12.28, mtgp time = 35.44\n",
      "Batch 11: best_value (random, mtgp, batch) = (-5.52, -2.33, -2.48), batch time = 11.04, mtgp time = 31.78\n",
      "Batch 12: best_value (random, mtgp, batch) = (-5.52, -2.33, -2.48), batch time = 9.10, mtgp time = 46.31\n",
      "Batch 13: best_value (random, mtgp, batch) = (-5.52, -2.33, -2.48), batch time = 10.81, mtgp time = 55.77\n",
      "Batch 14: best_value (random, mtgp, batch) = (-5.52, -2.33, -2.48), batch time = 12.39, mtgp time = 50.37\n",
      "Batch 15: best_value (random, mtgp, batch) = (-5.52, -2.33, -2.40), batch time = 10.58, mtgp time = 26.95\n",
      "Batch 16: best_value (random, mtgp, batch) = (-5.52, -2.33, -2.35), batch time = 11.29, mtgp time = 39.82\n",
      "Batch 17: best_value (random, mtgp, batch) = (-5.52, -2.33, -2.31), batch time = 10.38, mtgp time = 42.04\n",
      "Batch 18: best_value (random, mtgp, batch) = (-5.52, -2.33, -2.31), batch time = 10.90, mtgp time = 18.43\n",
      "Batch 19: best_value (random, mtgp, batch) = (-5.52, -2.33, -2.31), batch time = 10.75, mtgp time = 47.58"
     ]
    }
   ],
   "source": [
    "\n",
    "mtgp_trial_objectives = []\n",
    "batch_trial_objectives = []\n",
    "rand_trial_objectives = []\n",
    "\n",
    "for trial in range(n_trials):\n",
    "    init_x = (bounds[1] - bounds[0]) * torch.rand(n_init, bounds.shape[1], **tkwargs) + bounds[0]\n",
    "\n",
    "    init_y = problem(init_x)\n",
    "\n",
    "    mtgp_train_x, mtgp_train_y = init_x, init_y\n",
    "    batch_train_x, batch_train_y = init_x, init_y\n",
    "    rand_x, rand_y = init_x, init_y\n",
    "\n",
    "    best_value_mtgp = objective(init_y).max()\n",
    "    best_value_batch = best_value_mtgp\n",
    "    best_random = best_value_mtgp\n",
    "    \n",
    "    for iteration in range(n_steps):\n",
    "        # we empty the cache to clear memory out\n",
    "        torch.cuda.empty_cache()\n",
    "\n",
    "        mtgp_t0 = time.time()\n",
    "        mtgp = KroneckerMultiTaskGP(\n",
    "            mtgp_train_x, \n",
    "            mtgp_train_y, \n",
    "        )\n",
    "        mtgp_mll = ExactMarginalLogLikelihood(mtgp.likelihood, mtgp)\n",
    "        fit_gpytorch_torch(mtgp_mll, options={\"maxiter\": 3000, \"lr\": 0.01, \"disp\": False})\n",
    "        mtgp_acqf = construct_acqf(mtgp, objective, num_samples, best_value_mtgp)\n",
    "        new_mtgp_x = optimize_acqf_and_get_candidate(mtgp_acqf, bounds, batch_size)\n",
    "        mtgp_t1 = time.time()\n",
    "\n",
    "        batch_t0 = time.time()\n",
    "        batchgp = SingleTaskGP(\n",
    "            batch_train_x, \n",
    "            batch_train_y, \n",
    "        )\n",
    "        batch_mll = ExactMarginalLogLikelihood(batchgp.likelihood, batchgp)\n",
    "        fit_gpytorch_torch(batch_mll, options={\"maxiter\": 3000, \"lr\": 0.01, \"disp\": False})\n",
    "        batch_acqf = construct_acqf(batchgp, objective, num_samples, best_value_batch)\n",
    "        new_batch_x = optimize_acqf_and_get_candidate(batch_acqf, bounds, batch_size)\n",
    "        batch_t1 = time.time()\n",
    "\n",
    "        mtgp_train_x = torch.cat((mtgp_train_x, new_mtgp_x), dim=0)\n",
    "        batch_train_x = torch.cat((batch_train_x, new_batch_x), dim=0)\n",
    "\n",
    "        mtgp_train_y = torch.cat((mtgp_train_y, problem(new_mtgp_x)), dim=0)\n",
    "        batch_train_y = torch.cat((batch_train_y, problem(new_batch_x)), dim=0)\n",
    "\n",
    "        best_value_mtgp = objective(mtgp_train_y).max()\n",
    "        best_value_batch = objective(batch_train_y).max()\n",
    "        \n",
    "        new_rand_x = (bounds[1] - bounds[0]) * torch.rand(batch_size, bounds.shape[1], **tkwargs) + bounds[0]\n",
    "        rand_x = torch.cat((rand_x, new_rand_x))\n",
    "        rand_y = torch.cat((rand_y, problem(new_rand_x)))\n",
    "        best_random = objective(rand_y).max()\n",
    "\n",
    "        if verbose:\n",
    "            print(\n",
    "                f\"\\nBatch {iteration:>2}: best_value (random, mtgp, batch) = \"\n",
    "                f\"({best_random:>4.2f}, {best_value_mtgp:>4.2f}, {best_value_batch:>4.2f}), \"\n",
    "                f\"batch time = {batch_t1-batch_t0:>4.2f}, mtgp time = {mtgp_t1-mtgp_t0:>4.2f}\", end=\"\"\n",
    "            )\n",
    "        else:\n",
    "            print(\".\", end=\"\")\n",
    "            \n",
    "    mtgp_trial_objectives.append(objective(mtgp_train_y).detach().cpu())\n",
    "    batch_trial_objectives.append(objective(batch_train_y).detach().cpu())\n",
    "    rand_trial_objectives.append(objective(rand_y).detach().cpu())"
   ]
  },
  {
   "cell_type": "markdown",
   "metadata": {},
   "source": [
    "### Plot Results"
   ]
  },
  {
   "cell_type": "code",
   "execution_count": 10,
   "metadata": {},
   "outputs": [],
   "source": [
    "import matplotlib.pyplot as plt"
   ]
  },
  {
   "cell_type": "markdown",
   "metadata": {},
   "source": [
    "Finally, we plot the results, where we see that the MTGP tends to outperform both the batch GP and the random baseline. The optimization procedure seems to have a good deal less noise than the batch GP.\n",
    "\n",
    "However, as demonstrated above, optimizing the acquisition function and fitting the MTGP tend to take a bit longer."
   ]
  },
  {
   "cell_type": "code",
   "execution_count": 11,
   "metadata": {},
   "outputs": [],
   "source": [
    "mtgp_results = torch.stack(mtgp_trial_objectives)[:, n_init:].cummax(1).values\n",
    "batch_results = torch.stack(batch_trial_objectives)[:, n_init:].cummax(1).values\n",
    "random_results = torch.stack(rand_trial_objectives)[:, n_init:].cummax(1).values"
   ]
  },
  {
   "cell_type": "code",
   "execution_count": 12,
   "metadata": {},
   "outputs": [
    {
     "data": {
      "text/plain": [
       "Text(0, 0.5, 'Best Objective Achieved')"
      ]
     },
     "execution_count": 12,
     "metadata": {
      "bento_obj_id": "140024665143952"
     },
     "output_type": "execute_result"
    },
    {
     "name": "stderr",
     "output_type": "stream",
     "text": [
      "W0720 165607.890 font_manager.py:1280] findfont: Font family ['STIXGeneral'] not found. Falling back to DejaVu Sans.\n",
      "W0720 165607.892 font_manager.py:1280] findfont: Font family ['STIXGeneral'] not found. Falling back to DejaVu Sans.\n",
      "W0720 165607.895 font_manager.py:1280] findfont: Font family ['STIXGeneral'] not found. Falling back to DejaVu Sans.\n",
      "W0720 165607.897 font_manager.py:1280] findfont: Font family ['STIXNonUnicode'] not found. Falling back to DejaVu Sans.\n",
      "W0720 165607.898 font_manager.py:1280] findfont: Font family ['STIXNonUnicode'] not found. Falling back to DejaVu Sans.\n",
      "W0720 165607.900 font_manager.py:1280] findfont: Font family ['STIXNonUnicode'] not found. Falling back to DejaVu Sans.\n",
      "W0720 165607.901 font_manager.py:1280] findfont: Font family ['STIXSizeOneSym'] not found. Falling back to DejaVu Sans.\n",
      "W0720 165607.902 font_manager.py:1280] findfont: Font family ['STIXSizeTwoSym'] not found. Falling back to DejaVu Sans.\n",
      "W0720 165607.904 font_manager.py:1280] findfont: Font family ['STIXSizeThreeSym'] not found. Falling back to DejaVu Sans.\n",
      "W0720 165607.905 font_manager.py:1280] findfont: Font family ['STIXSizeFourSym'] not found. Falling back to DejaVu Sans.\n",
      "W0720 165607.906 font_manager.py:1280] findfont: Font family ['STIXSizeFiveSym'] not found. Falling back to DejaVu Sans.\n",
      "W0720 165607.908 font_manager.py:1280] findfont: Font family ['cmsy10'] not found. Falling back to DejaVu Sans.\n",
      "W0720 165607.909 font_manager.py:1280] findfont: Font family ['cmr10'] not found. Falling back to DejaVu Sans.\n",
      "W0720 165607.910 font_manager.py:1280] findfont: Font family ['cmtt10'] not found. Falling back to DejaVu Sans.\n",
      "W0720 165607.911 font_manager.py:1280] findfont: Font family ['cmmi10'] not found. Falling back to DejaVu Sans.\n",
      "W0720 165607.913 font_manager.py:1280] findfont: Font family ['cmb10'] not found. Falling back to DejaVu Sans.\n",
      "W0720 165607.914 font_manager.py:1280] findfont: Font family ['cmss10'] not found. Falling back to DejaVu Sans.\n",
      "W0720 165607.915 font_manager.py:1280] findfont: Font family ['cmex10'] not found. Falling back to DejaVu Sans.\n",
      "W0720 165607.920 font_manager.py:1280] findfont: Font family ['DejaVu Sans Display'] not found. Falling back to DejaVu Sans.\n"
     ]
    },
    {
     "data": {
      "image/png": "[encoded data removed]",
      "text/plain": [
       "<Figure size 432x288 with 1 Axes>"
      ]
     },
     "metadata": {
      "bento_obj_id": "140024665028592",
      "needs_background": "light"
     },
     "output_type": "display_data"
    }
   ],
   "source": [
    "plt.plot(mtgp_results.mean(0))\n",
    "plt.fill_between(\n",
    "    torch.arange(n_steps * batch_size), \n",
    "    mtgp_results.mean(0) - 2. * mtgp_results.std(0) / (n_trials ** 0.5),\n",
    "    mtgp_results.mean(0) + 2. * mtgp_results.std(0) / (n_trials ** 0.5),\n",
    "    alpha = 0.3, label = \"MTGP\",\n",
    ")\n",
    "\n",
    "plt.plot(batch_results.mean(0))\n",
    "plt.fill_between(\n",
    "    torch.arange(n_steps * batch_size), \n",
    "    batch_results.mean(0) - 2. * batch_results.std(0) / (n_trials ** 0.5),\n",
    "    batch_results.mean(0) + 2. * batch_results.std(0) / (n_trials ** 0.5),\n",
    "    alpha = 0.3, label = \"Batch\"\n",
    ")\n",
    "\n",
    "plt.plot(random_results.mean(0))\n",
    "plt.fill_between(\n",
    "    torch.arange(n_steps * batch_size), \n",
    "    random_results.mean(0) - 2. * random_results.std(0) / (n_trials ** 0.5),\n",
    "    random_results.mean(0) + 2. * random_results.std(0) / (n_trials ** 0.5),\n",
    "    alpha = 0.3, label = \"Random\"\n",
    ")\n",
    "\n",
    "plt.legend(loc = \"lower right\", fontsize = 15)\n",
    "plt.xlabel(\"Number of Function Queries\")\n",
    "plt.ylabel(\"Best Objective Achieved\")"
   ]
  },
  {
   "cell_type": "code",
   "execution_count": null,
   "metadata": {},
   "outputs": [],
   "source": []
  }
 ],
 "metadata": {
  "anp_metadata": {
   "path": "notebooks/fbsource/fbcode/pytorch/botorch/tutorials/composite_mtbo.ipynb"
  },
  "bento_stylesheets": {
   "bento/extensions/flow/main.css": true,
   "bento/extensions/kernel_selector/main.css": true,
   "bento/extensions/kernel_ui/main.css": true,
   "bento/extensions/new_kernel/main.css": true,
   "bento/extensions/system_usage/main.css": true,
   "bento/extensions/theme/main.css": true
  },
  "disseminate_notebook_info": {
   "backup_notebook_id": "2967299390260046"
  },
  "kernelspec": {
   "display_name": "ae",
   "language": "python",
   "name": "bento_kernel_ae"
  },
  "language_info": {
   "codemirror_mode": {
    "name": "ipython",
    "version": 3
   },
   "file_extension": ".py",
   "mimetype": "text/x-python",
   "name": "python",
   "nbconvert_exporter": "python",
   "pygments_lexer": "ipython3",
   "version": "3.8.6"
  }
 },
 "nbformat": 4,
 "nbformat_minor": 2
}
