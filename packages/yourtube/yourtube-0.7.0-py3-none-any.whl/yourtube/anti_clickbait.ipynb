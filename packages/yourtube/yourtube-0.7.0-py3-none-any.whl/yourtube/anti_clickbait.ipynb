{
 "cells": [
  {
   "cell_type": "code",
   "execution_count": null,
   "metadata": {},
   "outputs": [],
   "source": [
    "# ideas:\n",
    "# for classification use only videos from one cluster\n",
    "# create a better embedding, by creating a graph into feature space, with spring forces\n",
    "# better test set, because likes are very noisy - explicitly rank different videos (for startersonly in some cluster)"
   ]
  },
  {
   "cell_type": "code",
   "execution_count": null,
   "metadata": {},
   "outputs": [],
   "source": [
    "try:\n",
    "    %load_ext lab_black\n",
    "except ModuleNotFoundError:\n",
    "    print(\"nb_black not installed\")"
   ]
  },
  {
   "cell_type": "code",
   "execution_count": null,
   "metadata": {},
   "outputs": [],
   "source": [
    "import os\n",
    "import sys\n",
    "import pickle\n",
    "\n",
    "from sklearn.discriminant_analysis import LinearDiscriminantAnalysis\n",
    "from sklearn.model_selection import train_test_split\n",
    "from sklearn.metrics import roc_auc_score\n",
    "from sklearn.metrics.pairwise import cosine_similarity\n",
    "\n",
    "sys.path.append(os.path.abspath(\"..\"))\n",
    "from yourtube.file_operations import load_graph, id_to_url\n",
    "\n",
    "home = os.path.expanduser(\"~\")\n",
    "embeddings_path = os.path.join(home, \".yourtube\", \"embeddings.pickle\")\n",
    "\n",
    "with open(embeddings_path, \"rb\") as file:\n",
    "    embeddings = pickle.load(file)"
   ]
  },
  {
   "cell_type": "code",
   "execution_count": null,
   "metadata": {
    "heading_collapsed": "false"
   },
   "outputs": [],
   "source": [
    "G = load_graph()"
   ]
  },
  {
   "cell_type": "code",
   "execution_count": null,
   "metadata": {},
   "outputs": [],
   "source": [
    "# hard copied from YourTube.ipynb\n",
    "# TODO maybe this should be factored out into some helper file\n",
    "\n",
    "import functools\n",
    "import textwrap\n",
    "from IPython.core.display import display, HTML\n",
    "from IPython.display import Javascript\n",
    "from ipywidgets import Button, HBox, VBox, Output, Layout, Image, Checkbox\n",
    "from ipyevents import Event\n",
    "\n",
    "id_to_thumbnail = \"https://i.ytimg.com/vi/{}/hqdefault.jpg\"\n",
    "\n",
    "\n",
    "def liked_to_views_ratio(G, id_):\n",
    "    node = G.nodes[id_]\n",
    "    try:\n",
    "        return node[\"like_count\"] / node[\"view_count\"]\n",
    "    except (KeyError, TypeError, ZeroDivisionError):\n",
    "        return -1\n",
    "\n",
    "\n",
    "def display_video_links(G, ids, node_ranks=None, text_width=42, text_height=4):\n",
    "    \"\"\"It assumes that all the ids passed here were already scraped.\"\"\"\n",
    "\n",
    "    def window_open(_, url):\n",
    "        webbrowser.open(url)\n",
    "        # alternative is to use Javascript https://stackoverflow.com/a/61900572/11756613\n",
    "        # and it works even when jupyter is remote\n",
    "        # but here, when called by an event, it's broken for some reason\n",
    "\n",
    "    for id_ in ids:\n",
    "        if \"is_down\" in G.nodes[id_]:\n",
    "            continue\n",
    "\n",
    "        url = id_to_url.format(id_)\n",
    "        title = G.nodes[id_][\"title\"]\n",
    "\n",
    "        image_url = id_to_thumbnail.format(id_)\n",
    "        img = Image.from_url(image_url)\n",
    "        event = Event(source=img, watched_events=[\"click\"])\n",
    "        func = functools.partial(window_open, url=url)\n",
    "        event.on_dom_event(func)\n",
    "        display(img)\n",
    "\n",
    "        rank = node_ranks[id_] if node_ranks is not None else None\n",
    "        likes_to_views = liked_to_views_ratio(G, id_)\n",
    "        likes_to_views = int(likes_to_views * 1000)\n",
    "        print(f\"rank: {rank}   l/v: {likes_to_views}\")\n",
    "\n",
    "        # make title wrap correctly and always take up the same number of lines\n",
    "        # maximum youtube title length is 100 chars\n",
    "        title = textwrap.wrap(title, width=text_width)\n",
    "        title += [\"\"] * (text_height - len(title))\n",
    "        print(\"\\n\".join(title))\n",
    "\n",
    "        # display(HTML(f\"\"\"<a href=\"{url}\">{prefix} {title}</a>\"\"\"))\n",
    "        # display(HTML(f\"\"\"<a href=\"{url}\"><img src=\"{image_url}\"></a>\"\"\"))\n",
    "        # display(HTML(f\"\"\"<textarea rows=\"3\">{prefix} {title}</textarea>\"\"\"))"
   ]
  },
  {
   "cell_type": "code",
   "execution_count": null,
   "metadata": {},
   "outputs": [],
   "source": [
    "# get all categories\n",
    "categories = []\n",
    "for id_, node in G.nodes.data():\n",
    "    if \"category\" in node:\n",
    "        categories.append(node[\"category\"])"
   ]
  },
  {
   "cell_type": "code",
   "execution_count": null,
   "metadata": {},
   "outputs": [],
   "source": [
    "X = {category: [] for category in categories}\n",
    "y = {category: [] for category in categories}\n",
    "ids = {category: [] for category in categories}\n",
    "\n",
    "for id_ in embeddings.keys():\n",
    "    time_added = G.nodes[id_].get(\"time_added\")\n",
    "    category = G.nodes[id_].get(\"category\")\n",
    "\n",
    "    X[category].append(embeddings[id_])\n",
    "    ids[category].append(id_)\n",
    "\n",
    "    if time_added:\n",
    "        y[category].append(1)\n",
    "    else:\n",
    "        y[category].append(0)"
   ]
  },
  {
   "cell_type": "code",
   "execution_count": null,
   "metadata": {},
   "outputs": [],
   "source": [
    "# category = \"Education\"\n",
    "# category = \"Comedy\"\n",
    "category = \"Entertainment\""
   ]
  },
  {
   "cell_type": "code",
   "execution_count": null,
   "metadata": {},
   "outputs": [],
   "source": [
    "X_train, X_test, y_train, y_test, ids_train, ids_test = train_test_split(\n",
    "    X[category], y[category], ids[category], test_size=0.4, random_state=1\n",
    ")\n",
    "\n",
    "clf = LinearDiscriminantAnalysis()\n",
    "clf.fit(X_train, y_train)\n",
    "\n",
    "y_pred = clf.predict_proba(X_test)[:, 1]\n",
    "\n",
    "ranked = sorted(zip(y_pred, ids_test))\n",
    "ids_ascending = [id_ for rank, id_ in ranked]"
   ]
  },
  {
   "cell_type": "code",
   "execution_count": null,
   "metadata": {},
   "outputs": [],
   "source": [
    "display_video_links(G, ids_ascending[-10:])  # best\n",
    "# display_video_links(G, ids_ascending[:10])  # worst"
   ]
  },
  {
   "cell_type": "code",
   "execution_count": null,
   "metadata": {},
   "outputs": [],
   "source": [
    "roc_auc_score(y_test, y_pred)"
   ]
  },
  {
   "cell_type": "code",
   "execution_count": null,
   "metadata": {},
   "outputs": [],
   "source": []
  },
  {
   "cell_type": "code",
   "execution_count": null,
   "metadata": {},
   "outputs": [],
   "source": [
    "sims = cosine_similarity(X_test)\n",
    "np.fill_diagonal(sims, 0)"
   ]
  },
  {
   "cell_type": "code",
   "execution_count": null,
   "metadata": {},
   "outputs": [],
   "source": [
    "# np.unravel_index(sims.argmax(), sims.shape)"
   ]
  },
  {
   "cell_type": "code",
   "execution_count": null,
   "metadata": {},
   "outputs": [],
   "source": [
    "start = 20\n",
    "for i, j in enumerate(sims.argmax(axis=0)[start : start + 10], start=start):\n",
    "    ids_pair = [\n",
    "        ids_test[i],\n",
    "        ids_test[j],\n",
    "    ]\n",
    "    display_video_links(G, ids_pair)"
   ]
  },
  {
   "cell_type": "code",
   "execution_count": null,
   "metadata": {},
   "outputs": [],
   "source": [
    "ids_test[1564]"
   ]
  },
  {
   "cell_type": "code",
   "execution_count": null,
   "metadata": {},
   "outputs": [],
   "source": [
    "ids_test[2106]"
   ]
  },
  {
   "cell_type": "code",
   "execution_count": null,
   "metadata": {},
   "outputs": [],
   "source": []
  },
  {
   "cell_type": "code",
   "execution_count": null,
   "metadata": {},
   "outputs": [],
   "source": []
  }
 ],
 "metadata": {
  "kernelspec": {
   "display_name": "Python 3",
   "language": "python",
   "name": "python3"
  },
  "language_info": {
   "codemirror_mode": {
    "name": "ipython",
    "version": 3
   },
   "file_extension": ".py",
   "mimetype": "text/x-python",
   "name": "python",
   "nbconvert_exporter": "python",
   "pygments_lexer": "ipython3",
   "version": "3.9.6"
  }
 },
 "nbformat": 4,
 "nbformat_minor": 4
}
