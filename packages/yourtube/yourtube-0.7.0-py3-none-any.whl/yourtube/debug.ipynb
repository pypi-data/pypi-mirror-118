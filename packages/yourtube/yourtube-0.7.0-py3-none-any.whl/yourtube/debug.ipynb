{
 "cells": [
  {
   "cell_type": "code",
   "execution_count": null,
   "metadata": {},
   "outputs": [],
   "source": [
    "# # TODO\n",
    "\n",
    "# for id_ in G.nodes:\n",
    "#     if '...\",\"' in id_:\n",
    "#         print(G.nodes[id_])"
   ]
  },
  {
   "cell_type": "code",
   "execution_count": null,
   "metadata": {},
   "outputs": [],
   "source": [
    "import os\n",
    "import sys\n",
    "\n",
    "import networkx as nx\n",
    "\n",
    "sys.path.append(os.path.abspath(\"..\"))\n",
    "import matplotlib.pyplot as plt\n",
    "\n",
    "from yourtube.scraping import *"
   ]
  },
  {
   "cell_type": "code",
   "execution_count": null,
   "metadata": {},
   "outputs": [],
   "source": [
    "# id_ = \"HxGELmaqSHU\"\n",
    "# id_ = 'YOrJJ...\",\"'\n",
    "id_ = \"Fa_un5wXC-ch\""
   ]
  },
  {
   "cell_type": "code",
   "execution_count": null,
   "metadata": {},
   "outputs": [],
   "source": [
    "content = get_content(id_)\n",
    "G = nx.DiGraph()\n",
    "\n",
    "scrape_content(content, id_, G)"
   ]
  }
 ],
 "metadata": {
  "kernelspec": {
   "display_name": "youtube-recommender",
   "language": "python",
   "name": "youtube-recommender"
  },
  "language_info": {
   "codemirror_mode": {
    "name": "ipython",
    "version": 3
   },
   "file_extension": ".py",
   "mimetype": "text/x-python",
   "name": "python",
   "nbconvert_exporter": "python",
   "pygments_lexer": "ipython3",
   "version": "3.9.6"
  }
 },
 "nbformat": 4,
 "nbformat_minor": 4
}
