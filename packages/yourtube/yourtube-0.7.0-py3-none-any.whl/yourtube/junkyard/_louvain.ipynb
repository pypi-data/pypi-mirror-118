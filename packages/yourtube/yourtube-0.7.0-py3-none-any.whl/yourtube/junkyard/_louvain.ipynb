{
 "cells": [
  {
   "cell_type": "code",
   "execution_count": null,
   "metadata": {},
   "outputs": [],
   "source": [
    "# louvain at the highest level generates a lot of clusters, but we need just two\n",
    "# paris is clearly superior as described in https://arxiv.org/pdf/1806.01664.pdf"
   ]
  },
  {
   "cell_type": "code",
   "execution_count": null,
   "metadata": {},
   "outputs": [],
   "source": [
    "dendrogram = community_louvain.generate_dendrogram(Recent)"
   ]
  },
  {
   "cell_type": "code",
   "execution_count": null,
   "metadata": {},
   "outputs": [],
   "source": [
    "partition = community_louvain.partition_at_level(dendrogram, 2)\n",
    "\n",
    "cluster_numbers = set(partition.values())\n",
    "len(cluster_numbers)"
   ]
  },
  {
   "cell_type": "code",
   "execution_count": null,
   "metadata": {
    "jupyter": {
     "outputs_hidden": true
    }
   },
   "outputs": [],
   "source": [
    "cluster = [node for node, label in partition.items() if label == 41]\n",
    "\n",
    "ids, scores = sort_nodes_by_in_degree(G, cluster)\n",
    "display_video_links(G, ids, scores)"
   ]
  },
  {
   "cell_type": "code",
   "execution_count": null,
   "metadata": {},
   "outputs": [],
   "source": [
    "Induced = community_louvain.induced_graph(partition, Recent)\n",
    "Induced.remove_edges_from(nx.selfloop_edges(Induced))\n",
    "# pos = nx.spring_layout(Induced, k=1)\n",
    "# nx.draw(Induced, pos=pos, node_size=3)"
   ]
  },
  {
   "cell_type": "code",
   "execution_count": null,
   "metadata": {},
   "outputs": [],
   "source": [
    "salient_edges = []\n",
    "for u, v, attributes in Induced.edges.data():\n",
    "    if attributes[\"weight\"] >= 5:\n",
    "        salient_edges.append((u, v))\n",
    "\n",
    "nx.draw(nx.Graph(salient_edges), node_size=3)"
   ]
  }
 ],
 "metadata": {
  "kernelspec": {
   "display_name": "youtube-recommender",
   "language": "python",
   "name": "youtube-recommender"
  },
  "language_info": {
   "codemirror_mode": {
    "name": "ipython",
    "version": 3
   },
   "file_extension": ".py",
   "mimetype": "text/x-python",
   "name": "python",
   "nbconvert_exporter": "python",
   "pygments_lexer": "ipython3",
   "version": "3.9.5"
  }
 },
 "nbformat": 4,
 "nbformat_minor": 4
}
