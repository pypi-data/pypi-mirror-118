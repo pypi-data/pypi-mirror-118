{
 "cells": [
  {
   "cell_type": "code",
   "execution_count": null,
   "metadata": {},
   "outputs": [],
   "source": [
    "# HCS works quite bad, for the most time detaching signle nodes\n",
    "# also it's very slow"
   ]
  },
  {
   "cell_type": "code",
   "execution_count": null,
   "metadata": {},
   "outputs": [],
   "source": [
    "# prune\n",
    "\n",
    "old_nodes_num = -1\n",
    "\n",
    "while old_nodes_num != len(Recent.nodes):\n",
    "    old_nodes_num = len(Recent.nodes)\n",
    "    print(old_nodes_num)\n",
    "    pruned_nodes = [node for node, degree in Recent.degree() if degree >= 2]\n",
    "    Recent = Recent.subgraph(pruned_nodes)"
   ]
  },
  {
   "cell_type": "code",
   "execution_count": null,
   "metadata": {},
   "outputs": [],
   "source": [
    "# use only the largest connected component\n",
    "\n",
    "components = sorted(nx.connected_components(Recent), key=len, reverse=True)\n",
    "for el in components[:5]:\n",
    "    print(len(el))\n",
    "main_component = components[0]\n",
    "Main = Recent.subgraph(main_component)"
   ]
  },
  {
   "cell_type": "code",
   "execution_count": null,
   "metadata": {},
   "outputs": [],
   "source": [
    "clusters = [main_component]"
   ]
  },
  {
   "cell_type": "code",
   "execution_count": null,
   "metadata": {
    "jupyter": {
     "outputs_hidden": true
    }
   },
   "outputs": [],
   "source": [
    "# iteratively divide clusters into smaller ones\n",
    "# always takes the biggest cluster\n",
    "\n",
    "for i in range(5):\n",
    "    print(i)\n",
    "    biggest_cluster = clusters.pop(0)\n",
    "    Cluster = Main.subgraph(biggest_cluster).copy()\n",
    "\n",
    "    cut = nx.algorithms.connectivity.cuts.minimum_edge_cut(Cluster)\n",
    "    print(\"cut: \", cut)\n",
    "    Cluster.remove_edges_from(cut)\n",
    "\n",
    "    subclusters = list(nx.connected_components(Cluster))\n",
    "    clusters += subclusters\n",
    "    clusters = sorted(clusters, key=len, reverse=True)\n",
    "\n",
    "    for cl in clusters:\n",
    "        print(len(cl))\n",
    "    print()"
   ]
  },
  {
   "cell_type": "code",
   "execution_count": null,
   "metadata": {},
   "outputs": [],
   "source": [
    "ids, scores = sort_nodes_by_in_degree(G, clusters[0])\n",
    "display_video_links(G, ids, scores)"
   ]
  },
  {
   "cell_type": "code",
   "execution_count": null,
   "metadata": {},
   "outputs": [],
   "source": []
  },
  {
   "cell_type": "code",
   "execution_count": null,
   "metadata": {},
   "outputs": [],
   "source": []
  },
  {
   "cell_type": "code",
   "execution_count": null,
   "metadata": {},
   "outputs": [],
   "source": []
  },
  {
   "cell_type": "code",
   "execution_count": null,
   "metadata": {},
   "outputs": [],
   "source": []
  },
  {
   "cell_type": "code",
   "execution_count": null,
   "metadata": {
    "heading_collapsed": "false"
   },
   "outputs": [],
   "source": [
    "best_recs = [node for node, in_degree in G.in_degree() if in_degree >= 12]\n",
    "nx.draw(G.subgraph(best_recs))"
   ]
  },
  {
   "cell_type": "code",
   "execution_count": null,
   "metadata": {
    "heading_collapsed": "false"
   },
   "outputs": [],
   "source": [
    "for n in list(components[0]):\n",
    "    print(nx.algorithms.distance_measures.eccentricity(S.to_undirected(), v=n))"
   ]
  }
 ],
 "metadata": {
  "kernelspec": {
   "display_name": "youtube-recommender",
   "language": "python",
   "name": "youtube-recommender"
  },
  "language_info": {
   "codemirror_mode": {
    "name": "ipython",
    "version": 3
   },
   "file_extension": ".py",
   "mimetype": "text/x-python",
   "name": "python",
   "nbconvert_exporter": "python",
   "pygments_lexer": "ipython3",
   "version": "3.9.5"
  }
 },
 "nbformat": 4,
 "nbformat_minor": 4
}
