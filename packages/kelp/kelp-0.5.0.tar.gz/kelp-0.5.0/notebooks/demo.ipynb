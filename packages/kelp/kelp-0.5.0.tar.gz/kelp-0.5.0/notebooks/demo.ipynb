{
 "cells": [
  {
   "cell_type": "code",
   "execution_count": null,
   "metadata": {},
   "outputs": [],
   "source": [
    "import matplotlib.pyplot as plt\n",
    "import numpy as np\n",
    "\n",
    "from kelp import Model, Planet, Filter"
   ]
  },
  {
   "cell_type": "code",
   "execution_count": null,
   "metadata": {},
   "outputs": [],
   "source": [
    "np.random.seed(42) \n",
    "\n",
    "planet = Planet.from_name('HD 189733')\n",
    "filt = Filter.from_name(\"IRAC 1\")\n",
    "filt.bin_down(10)\n",
    "\n",
    "xi = np.linspace(-np.pi, np.pi, 50)\n",
    "\n",
    "hotspot_offset = np.radians(-40)\n",
    "alpha = 0.6\n",
    "omega = 4.5\n",
    "A_B = 0\n",
    "lmax = 1\n",
    "C = [[0], \n",
    "     [0, 0.15, 0]]\n",
    "obs_err = 1e-4\n",
    "model = Model(hotspot_offset, alpha, omega, \n",
    "              A_B, C, lmax, planet=planet, filt=filt)\n",
    "obs = model.thermal_phase_curve(xi, quad=True).flux \n",
    "obs += obs_err * np.random.randn(xi.shape[0])"
   ]
  },
  {
   "cell_type": "code",
   "execution_count": null,
   "metadata": {},
   "outputs": [],
   "source": [
    "errkwargs = dict(color='k', fmt='.', ecolor='silver')\n",
    "plt.errorbar(xi, 1e6 * obs, 1e6 * obs_err, **errkwargs)\n",
    "\n",
    "plt.xlabel('$\\\\xi/\\\\pi$')\n",
    "plt.ylabel('$\\\\rm F_p/F_s$ [ppm]')"
   ]
  },
  {
   "cell_type": "code",
   "execution_count": null,
   "metadata": {},
   "outputs": [],
   "source": [
    "def pc_model(p, x):\n",
    "    \"\"\"\n",
    "    Phase curve model\n",
    "    \"\"\"\n",
    "    offset, c_11 = p\n",
    "    C = [[0], \n",
    "         [0, c_11, 0]]\n",
    "    model = Model(hotspot_offset=offset, alpha=alpha, \n",
    "                  omega_drag=omega, A_B=A_B, C_ml=C, lmax=1, \n",
    "                  planet=planet, filt=filt)\n",
    "    return model.thermal_phase_curve(x).flux\n",
    "\n",
    "def lnprior(p): \n",
    "    \"\"\"\n",
    "    Log prior\n",
    "    \"\"\"\n",
    "    offset, c_11 = p\n",
    "    \n",
    "    if (offset > np.pi or offset < -np.pi or \n",
    "        c_11 > 1 or c_11 < 0): \n",
    "        return -np.inf\n",
    "    \n",
    "    return 0\n",
    "\n",
    "def lnlike(p, x, y, yerr):\n",
    "    \"\"\"\n",
    "    Log-likelihood\n",
    "    \"\"\"\n",
    "    return -0.5 * np.sum((pc_model(p, x) - y)**2 / yerr**2)\n",
    "\n",
    "def lnprob(p, x, y, yerr):\n",
    "    \"\"\"\n",
    "    Log probability: sum of lnlike and lnprior\n",
    "    \"\"\"\n",
    "    lp = lnprior(p)\n",
    "    \n",
    "    if np.isfinite(lp): \n",
    "        return lp + lnlike(p, x, y, yerr)\n",
    "    return -np.inf"
   ]
  },
  {
   "cell_type": "code",
   "execution_count": null,
   "metadata": {},
   "outputs": [],
   "source": [
    "from scipy.optimize import minimize\n",
    "\n",
    "initp = np.array([-0.7, 0.1])\n",
    "\n",
    "bounds = [[0, 2], [0.1, 1]]\n",
    "\n",
    "soln = minimize(lambda *args: -lnprob(*args), \n",
    "                initp, args=(xi, obs, obs_err), \n",
    "                method='powell')"
   ]
  },
  {
   "cell_type": "code",
   "execution_count": null,
   "metadata": {},
   "outputs": [],
   "source": [
    "soln"
   ]
  },
  {
   "cell_type": "code",
   "execution_count": null,
   "metadata": {},
   "outputs": [],
   "source": [
    "from emcee import EnsembleSampler\n",
    "from multiprocessing import Pool\n",
    "from corner import corner\n",
    "\n",
    "ndim = 2\n",
    "nwalkers = 2 * ndim \n",
    "\n",
    "p0 = [soln.x + 0.1 * np.random.randn(ndim) \n",
    "      for i in range(nwalkers)]\n",
    "\n",
    "\n",
    "with Pool() as pool: \n",
    "    sampler = EnsembleSampler(nwalkers, ndim, lnprob, \n",
    "                              args=(xi, obs, obs_err),\n",
    "                              pool=pool)\n",
    "    p1 = sampler.run_mcmc(p0, 100)\n",
    "    sampler.reset()\n",
    "    sampler.run_mcmc(p1, 500)"
   ]
  },
  {
   "cell_type": "code",
   "execution_count": null,
   "metadata": {},
   "outputs": [],
   "source": [
    "corner(sampler.flatchain, truths=[hotspot_offset, C[1][1]], \n",
    "       labels=['$\\Delta \\phi$', '$C_{11}$'])\n",
    "plt.show()"
   ]
  },
  {
   "cell_type": "code",
   "execution_count": null,
   "metadata": {},
   "outputs": [],
   "source": [
    "p_map = sampler.flatchain[np.argmax(sampler.flatlnprobability)]\n",
    "\n",
    "plt.errorbar(xi/np.pi, obs, obs_err, **errkwargs)\n",
    "plt.plot(xi/np.pi, pc_model(p_map, xi), color='r')\n",
    "plt.xlabel('$\\\\xi/\\\\pi$')\n",
    "plt.ylabel('$\\\\rm F_p/F_s$')"
   ]
  },
  {
   "cell_type": "code",
   "execution_count": null,
   "metadata": {},
   "outputs": [],
   "source": []
  }
 ],
 "metadata": {
  "kernelspec": {
   "display_name": "Python 3",
   "language": "python",
   "name": "python3"
  },
  "language_info": {
   "codemirror_mode": {
    "name": "ipython",
    "version": 3
   },
   "file_extension": ".py",
   "mimetype": "text/x-python",
   "name": "python",
   "nbconvert_exporter": "python",
   "pygments_lexer": "ipython3",
   "version": "3.7.6"
  }
 },
 "nbformat": 4,
 "nbformat_minor": 4
}
