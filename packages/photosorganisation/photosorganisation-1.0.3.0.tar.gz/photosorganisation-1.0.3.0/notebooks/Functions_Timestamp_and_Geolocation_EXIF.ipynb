{
 "cells": [
  {
   "cell_type": "code",
   "execution_count": null,
   "metadata": {
    "id": "G98pdAdixljM"
   },
   "outputs": [],
   "source": [
    "# from PIL import Image, ExifTags\n",
    "# #\"/content/drive/MyDrive/Fotos/IMG_20200118_175324.jpg\"\n",
    "\n",
    "\n",
    "# def get_image(image_location):\n",
    "#   \"\"\"Transform image into a python visuable format\"\"\"\n",
    "#   img = Image.open(image_location)\n",
    "\n",
    "#   return img\n",
    "\n",
    "\n",
    "# def exif_dict(image):\n",
    "#   \"\"\"get image exif information and convert to a dictionary\"\"\"\n",
    "#   x ={}\n",
    "  \n",
    "#   img_exif = image.getexif()\n",
    "#   if img_exif is None:\n",
    "#     print('Sorry, image has no exif data.')\n",
    "#   else:\n",
    "#       for key, val in img_exif.items():\n",
    "#         if key in ExifTags.TAGS:\n",
    "#           if type(val) != bytes:\n",
    "#             x[ExifTags.TAGS[key]] = val\n",
    "\n",
    "#   return x\n",
    "\n",
    "\n",
    "# def exif_dict_clean(dict):\n",
    "\n",
    "#   for key, val in dict[\"GPSInfo\"]:\n",
    "#     if type(val) == bytes:\n",
    "#       del val\n",
    "  \n",
    "#   return dict\n",
    "\n",
    "\n",
    "# from geopy.geocoders import Here, Nominatim\n",
    "\n",
    "# def get_date_location(img_info):\n",
    "\n",
    "#   img_lat = img_info['GPSInfo'][2][0][0] + (img_info['GPSInfo'][2][1][0] / 60) + (img_info['GPSInfo'][2][2][0] / img_info['GPSInfo'][2][2][1] / 3600)\n",
    "#   img_lon = img_info['GPSInfo'][4][0][0] + (img_info['GPSInfo'][4][1][0] / 60) + (img_info['GPSInfo'][4][2][0] / img_info['GPSInfo'][4][2][1] / 3600)\n",
    "#   img_date = img_info[\"DateTime\"]\n",
    "\n",
    "#   if img_info[\"GPSInfo\"][1] == \"S\":\n",
    "#     img_lat * -1\n",
    "  \n",
    "#   if img_info[\"GPSInfo\"][3] == \"W\":\n",
    "#     img_lon * -1\n",
    "\n",
    "#   geolocator = Nominatim(user_agent=\"Photo\")\n",
    "  \n",
    "#   return geolocator.reverse(\"%s,%s\" % (img_lat, img_lon))\n",
    "\n",
    "\n",
    "#   import os\n",
    "\n",
    "# def rename_file(file_location):\n",
    "#   # Absolute path of a file\n",
    "#   old_name = r\"/content/drive/MyDrive/Fotos/TEst_filipe.jpg\"\n",
    "#   new_name = r\"/content/drive/MyDrive/Fotos/TEst_filipe1001.jpg\"\n",
    "\n",
    "#   # Renaming the file\n",
    "#   os.rename(old_name, new_name)"
   ]
  },
  {
   "cell_type": "code",
   "execution_count": null,
   "metadata": {
    "id": "WiLHygUw1aSc"
   },
   "outputs": [],
   "source": []
  },
  {
   "cell_type": "code",
   "execution_count": null,
   "metadata": {
    "id": "rmVUhoIc1Zh1"
   },
   "outputs": [],
   "source": []
  },
  {
   "cell_type": "markdown",
   "metadata": {
    "id": "spcbQkIb1bFf"
   },
   "source": [
    "exif package and "
   ]
  },
  {
   "cell_type": "code",
   "execution_count": null,
   "metadata": {
    "id": "GKagLUTI1dTg"
   },
   "outputs": [],
   "source": [
    "# # import required module\n",
    "# # from exif import Image\n",
    "# import os\n",
    "# # assign directory\n",
    "# directory = input('/content/drive/MyDrive/Fotos' + '\\n')\n",
    "# images_list = []\n",
    "# # iterate over files in\n",
    "# # that directory\n",
    "# for filename in os.listdir(directory):\n",
    "#   f = os.path.join(directory, filename)\n",
    "# \t# checking if it is a file\n",
    "#   if os.path.isfile(f):\n",
    "#     with open(f, \"rb\") as test_file:\n",
    "#       images_list.append(Image(test_file))\n"
   ]
  },
  {
   "cell_type": "code",
   "execution_count": null,
   "metadata": {
    "id": "n3L6RW3t7IS8"
   },
   "outputs": [],
   "source": [
    "# Get GPS Latitude and Longitude\n",
    "\n",
    "\n",
    "# for index, image in enumerate(images_list):\n",
    "#     print(f\"Coordinates - Image {index}\")\n",
    "#     print(\"---------------------\")\n",
    "#     try:\n",
    "#       print(f\"Latitude: {image.gps_latitude} {image.gps_latitude_ref}\")\n",
    "#       print(f\"Longitude: {image.gps_longitude} {image.gps_longitude_ref}\\n\")\n",
    "#     except:\n",
    "#       print(\"Where have you been? I am asking for a friend... Google\")"
   ]
  },
  {
   "cell_type": "code",
   "execution_count": null,
   "metadata": {
    "id": "jk2PNw3h8P1-"
   },
   "outputs": [],
   "source": [
    "# def get_date_location(img_exif):\n",
    "\n",
    "#   img_lat = img_exif.gps_latitude[0] + (img_exif.gps_latitude[1] / 60) + (img_exif.gps_latitude[2] / 3600)\n",
    "#   img_lon = img_exif.gps_longitude[0] + (img_exif.gps_longitude[1] / 60) + (img_exif.gps_longitude[2] / 3600)\n",
    "#   img_date = img_exif.datetime_original + img_exif.subsec_time_original\n",
    "\n",
    "#   if img_exif.gps_latitude_ref == \"S\":\n",
    "#     img_lat = -img_lat\n",
    "  \n",
    "#   if img_exif.gps_longitude_ref == \"W\":\n",
    "#     img_lon = -img_lon\n",
    "\n",
    "#   geolocator = Nominatim(user_agent=\"Photo\")\n",
    "  \n",
    "#   return geolocator.reverse(\"%s,%s\" % (img_lat, img_lon))"
   ]
  },
  {
   "cell_type": "code",
   "execution_count": null,
   "metadata": {
    "id": "Ot9uk7yzIl1-"
   },
   "outputs": [],
   "source": []
  },
  {
   "cell_type": "code",
   "execution_count": null,
   "metadata": {
    "id": "DbpUN65wIlzS"
   },
   "outputs": [],
   "source": []
  },
  {
   "cell_type": "code",
   "execution_count": null,
   "metadata": {
    "id": "kwYcfm_SIlw3"
   },
   "outputs": [],
   "source": [
    "\n",
    "\n",
    "# def image_exif(image_directory):\n",
    "#   \"\"\"From image directory get the EXIF(information) of the image\"\"\"\n",
    "#   from exif import Image\n",
    "#   import os\n",
    "#   # assign directory\n",
    "#   images_list = []\n",
    "#   # iterate over files in\n",
    "#   # that directory\n",
    "#   if os.path.isfile(image_directory):\n",
    "#       with open(image_directory, \"rb\") as test_file:\n",
    "#         new_file = Image(test_file)\n",
    "#         print(image_directory)\n",
    "#         return new_file\n",
    "\n",
    "# def get_location(img_exif):\n",
    "#   \"\"\"Get the geolocation of the picture from EXIF\"\"\"\n",
    "#   from geopy.geocoders import Nominatim\n",
    "\n",
    "#   img_lat = img_exif.gps_latitude[0] + (img_exif.gps_latitude[1] / 60) + (img_exif.gps_latitude[2] / 3600)\n",
    "#   img_lon = img_exif.gps_longitude[0] + (img_exif.gps_longitude[1] / 60) + (img_exif.gps_longitude[2] / 3600)\n",
    "\n",
    "#   if img_exif.gps_latitude_ref == \"S\":\n",
    "#     img_lat = -img_lat\n",
    "  \n",
    "#   if img_exif.gps_longitude_ref == \"W\":\n",
    "#     img_lon = -img_lon\n",
    "\n",
    "#   geolocator = Nominatim(user_agent=\"Photo\")\n",
    "  \n",
    "#   img_date = img_exif.datetime_original\n",
    "#   img_time = img_exif.subsec_time_original\n",
    "#   #print(img_date)\n",
    "\n",
    "#   location = geolocator.reverse(\"%s,%s\" % (img_lat, img_lon))\n",
    "#   try:\n",
    "#     town = location.raw[\"address\"][\"town\"]\n",
    "#   except:\n",
    "#     town = location.raw[\"address\"][\"municipality\"]\n",
    "#   try:\n",
    "#     town = location.raw[\"address\"][\"village\"]\n",
    "#   except:\n",
    "#     town = \"No Town\"\n",
    "\n",
    "#   return f'Town: {town}, State: {location.raw[\"address\"][\"state\"]}, Country: {location.raw[\"address\"][\"country\"]}'\n",
    "\n",
    "\n",
    "# def add_geo_image_description(image):\n",
    "\n",
    "#   try:\n",
    "#     place = get_location(image)\n",
    "#     image.image_description = str(place)\n",
    "#   except:\n",
    "#     image.image_description = \"no location\"\n",
    "\n",
    "#   return image\n",
    " \n",
    "\n",
    "# def save_updated_image(image_directory):\n",
    "\n",
    "#   #filename = os.path.split(image_directory)[1]\n",
    "#   image_info = image_exif(image_directory)\n",
    "#   img32 = add_geo_image_description(image_info)\n",
    "\n",
    "#   with open(image_directory, 'wb') as image_ex:\n",
    "#     image_ex.write(add_geo_image_description(image_info).get_file())\n",
    "#     print(image_ex.write(img32.get_file()))"
   ]
  },
  {
   "cell_type": "code",
   "execution_count": 42,
   "metadata": {
    "id": "qVEHfzN-QfhW"
   },
   "outputs": [],
   "source": [
    "def image_exif(image_directory):\n",
    "  \"\"\"From image directory get the EXIF(information) of the image\"\"\"\n",
    "  from exif import Image\n",
    "  import os\n",
    "  # assign directory\n",
    "  images_list = []\n",
    "  # iterate over files in\n",
    "  # that directory\n",
    "  if os.path.isfile(image_directory):\n",
    "      with open(image_directory, \"rb\") as test_file:\n",
    "        new_file = Image(test_file)\n",
    "        print(image_directory)\n",
    "        return new_file\n",
    "\n",
    "def get_location(img_exif):\n",
    "  \"\"\"Get the geolocation of the picture from EXIF\"\"\"\n",
    "  from geopy.geocoders import Nominatim\n",
    "\n",
    "  #get latitude and longitude\n",
    "  img_lat = img_exif.gps_latitude[0] + (img_exif.gps_latitude[1] / 60) + (img_exif.gps_latitude[2] / 3600)\n",
    "  img_lon = img_exif.gps_longitude[0] + (img_exif.gps_longitude[1] / 60) + (img_exif.gps_longitude[2] / 3600)\n",
    "\n",
    "  # get the reference of the latitude, if South hemisphere becomes negative\n",
    "  if img_exif.gps_latitude_ref == \"S\":\n",
    "    img_lat = -img_lat\n",
    "  \n",
    "  #  get the reference of the longitude, if West becomes negative\n",
    "  if img_exif.gps_longitude_ref == \"W\":\n",
    "    img_lon = -img_lon\n",
    "\n",
    "  geolocator = Nominatim(user_agent=\"Photo\")\n",
    "  \n",
    "  # get date in case we need to use for something\n",
    "  img_date = img_exif.datetime_original\n",
    "  img_time = img_exif.subsec_time_original\n",
    "\n",
    "  # reverse the geolocation from latitude e longitude give the place\n",
    "# reverse the geolocation from latitude e longitude give the place\n",
    "  location = geolocator.reverse(\"%s,%s\" % (img_lat, img_lon))\n",
    "  if location.raw[\"address\"][\"town\"]:\n",
    "    town = location.raw[\"address\"][\"town\"]\n",
    "  elif location.raw[\"address\"][\"municipality\"]:\n",
    "    town = location.raw[\"address\"][\"municipality\"]\n",
    "  elif location.raw[\"address\"][\"village\"]:\n",
    "    town = location.raw[\"address\"][\"village\"]\n",
    "  else:\n",
    "    town = \"No Town\"\n",
    "  return f'Town: {town}, State: {location.raw[\"address\"][\"state\"]}, Country: {location.raw[\"address\"][\"country\"]}'\n",
    "\n",
    "\n",
    "def add_geo_image_description(image):\n",
    "  \"\"\"Add the new Geo Tag to the picture in a EXIF variable\"\"\"\n",
    "  place = get_location(image)\n",
    "  try:\n",
    "    image.image_description = place\n",
    "  except:\n",
    "    image.image_description = \"no location\"\n",
    "    print(\"exception\")\n",
    "\n",
    "  return image\n",
    " \n",
    "\n",
    "def save_updated_image(image_directory):\n",
    "  \"\"\"\"\n",
    "  call the image_exif function for the EXIF information\n",
    "  call the add_geo_image_description for updating the EXIF of the picture\n",
    "  and finally Save the image with updated Tag \n",
    "  \"\"\"\n",
    "\n",
    "  #filename = os.path.split(image_directory)[1]\n",
    "  image_info = image_exif(image_directory)\n",
    "  img32 = add_geo_image_description(image_info)\n",
    "\n",
    "  with open(image_directory, 'wb') as image_ex:\n",
    "    image_ex.write(img32.get_file())\n",
    "    print(image_ex.write(img32.get_file()))"
   ]
  },
  {
   "cell_type": "code",
   "execution_count": 44,
   "metadata": {},
   "outputs": [
    {
     "name": "stdout",
     "output_type": "stream",
     "text": [
      "/home/amulyamantha/code/jaseppala/photo-classifier/raw_data/my_google_photos/Spain/IMG_20200223_125821.jpg\n"
     ]
    },
    {
     "ename": "KeyError",
     "evalue": "'town'",
     "output_type": "error",
     "traceback": [
      "\u001b[0;31m---------------------------------------------------------------------------\u001b[0m",
      "\u001b[0;31mKeyError\u001b[0m                                  Traceback (most recent call last)",
      "\u001b[0;32m/tmp/ipykernel_7528/1078684084.py\u001b[0m in \u001b[0;36m<module>\u001b[0;34m\u001b[0m\n\u001b[0;32m----> 1\u001b[0;31m \u001b[0msave_updated_image\u001b[0m\u001b[0;34m(\u001b[0m\u001b[0;34m'/home/amulyamantha/code/jaseppala/photo-classifier/raw_data/my_google_photos/Spain/IMG_20200223_125821.jpg'\u001b[0m\u001b[0;34m)\u001b[0m\u001b[0;34m\u001b[0m\u001b[0;34m\u001b[0m\u001b[0m\n\u001b[0m",
      "\u001b[0;32m/tmp/ipykernel_7528/166352843.py\u001b[0m in \u001b[0;36msave_updated_image\u001b[0;34m(image_directory)\u001b[0m\n\u001b[1;32m     70\u001b[0m   \u001b[0;31m#filename = os.path.split(image_directory)[1]\u001b[0m\u001b[0;34m\u001b[0m\u001b[0;34m\u001b[0m\u001b[0;34m\u001b[0m\u001b[0m\n\u001b[1;32m     71\u001b[0m   \u001b[0mimage_info\u001b[0m \u001b[0;34m=\u001b[0m \u001b[0mimage_exif\u001b[0m\u001b[0;34m(\u001b[0m\u001b[0mimage_directory\u001b[0m\u001b[0;34m)\u001b[0m\u001b[0;34m\u001b[0m\u001b[0;34m\u001b[0m\u001b[0m\n\u001b[0;32m---> 72\u001b[0;31m   \u001b[0mimg32\u001b[0m \u001b[0;34m=\u001b[0m \u001b[0madd_geo_image_description\u001b[0m\u001b[0;34m(\u001b[0m\u001b[0mimage_info\u001b[0m\u001b[0;34m)\u001b[0m\u001b[0;34m\u001b[0m\u001b[0;34m\u001b[0m\u001b[0m\n\u001b[0m\u001b[1;32m     73\u001b[0m \u001b[0;34m\u001b[0m\u001b[0m\n\u001b[1;32m     74\u001b[0m   \u001b[0;32mwith\u001b[0m \u001b[0mopen\u001b[0m\u001b[0;34m(\u001b[0m\u001b[0mimage_directory\u001b[0m\u001b[0;34m,\u001b[0m \u001b[0;34m'wb'\u001b[0m\u001b[0;34m)\u001b[0m \u001b[0;32mas\u001b[0m \u001b[0mimage_ex\u001b[0m\u001b[0;34m:\u001b[0m\u001b[0;34m\u001b[0m\u001b[0;34m\u001b[0m\u001b[0m\n",
      "\u001b[0;32m/tmp/ipykernel_7528/166352843.py\u001b[0m in \u001b[0;36madd_geo_image_description\u001b[0;34m(image)\u001b[0m\n\u001b[1;32m     51\u001b[0m \u001b[0;32mdef\u001b[0m \u001b[0madd_geo_image_description\u001b[0m\u001b[0;34m(\u001b[0m\u001b[0mimage\u001b[0m\u001b[0;34m)\u001b[0m\u001b[0;34m:\u001b[0m\u001b[0;34m\u001b[0m\u001b[0;34m\u001b[0m\u001b[0m\n\u001b[1;32m     52\u001b[0m   \u001b[0;34m\"\"\"Add the new Geo Tag to the picture in a EXIF variable\"\"\"\u001b[0m\u001b[0;34m\u001b[0m\u001b[0;34m\u001b[0m\u001b[0m\n\u001b[0;32m---> 53\u001b[0;31m   \u001b[0mplace\u001b[0m \u001b[0;34m=\u001b[0m \u001b[0mget_location\u001b[0m\u001b[0;34m(\u001b[0m\u001b[0mimage\u001b[0m\u001b[0;34m)\u001b[0m\u001b[0;34m\u001b[0m\u001b[0;34m\u001b[0m\u001b[0m\n\u001b[0m\u001b[1;32m     54\u001b[0m   \u001b[0;32mtry\u001b[0m\u001b[0;34m:\u001b[0m\u001b[0;34m\u001b[0m\u001b[0;34m\u001b[0m\u001b[0m\n\u001b[1;32m     55\u001b[0m     \u001b[0mimage\u001b[0m\u001b[0;34m.\u001b[0m\u001b[0mimage_description\u001b[0m \u001b[0;34m=\u001b[0m \u001b[0mplace\u001b[0m\u001b[0;34m\u001b[0m\u001b[0;34m\u001b[0m\u001b[0m\n",
      "\u001b[0;32m/tmp/ipykernel_7528/166352843.py\u001b[0m in \u001b[0;36mget_location\u001b[0;34m(img_exif)\u001b[0m\n\u001b[1;32m     38\u001b[0m \u001b[0;31m# reverse the geolocation from latitude e longitude give the place\u001b[0m\u001b[0;34m\u001b[0m\u001b[0;34m\u001b[0m\u001b[0;34m\u001b[0m\u001b[0m\n\u001b[1;32m     39\u001b[0m   \u001b[0mlocation\u001b[0m \u001b[0;34m=\u001b[0m \u001b[0mgeolocator\u001b[0m\u001b[0;34m.\u001b[0m\u001b[0mreverse\u001b[0m\u001b[0;34m(\u001b[0m\u001b[0;34m\"%s,%s\"\u001b[0m \u001b[0;34m%\u001b[0m \u001b[0;34m(\u001b[0m\u001b[0mimg_lat\u001b[0m\u001b[0;34m,\u001b[0m \u001b[0mimg_lon\u001b[0m\u001b[0;34m)\u001b[0m\u001b[0;34m)\u001b[0m\u001b[0;34m\u001b[0m\u001b[0;34m\u001b[0m\u001b[0m\n\u001b[0;32m---> 40\u001b[0;31m   \u001b[0;32mif\u001b[0m \u001b[0mlocation\u001b[0m\u001b[0;34m.\u001b[0m\u001b[0mraw\u001b[0m\u001b[0;34m[\u001b[0m\u001b[0;34m\"address\"\u001b[0m\u001b[0;34m]\u001b[0m\u001b[0;34m[\u001b[0m\u001b[0;34m\"town\"\u001b[0m\u001b[0;34m]\u001b[0m\u001b[0;34m:\u001b[0m\u001b[0;34m\u001b[0m\u001b[0;34m\u001b[0m\u001b[0m\n\u001b[0m\u001b[1;32m     41\u001b[0m     \u001b[0mtown\u001b[0m \u001b[0;34m=\u001b[0m \u001b[0mlocation\u001b[0m\u001b[0;34m.\u001b[0m\u001b[0mraw\u001b[0m\u001b[0;34m[\u001b[0m\u001b[0;34m\"address\"\u001b[0m\u001b[0;34m]\u001b[0m\u001b[0;34m[\u001b[0m\u001b[0;34m\"town\"\u001b[0m\u001b[0;34m]\u001b[0m\u001b[0;34m\u001b[0m\u001b[0;34m\u001b[0m\u001b[0m\n\u001b[1;32m     42\u001b[0m   \u001b[0;32melif\u001b[0m \u001b[0mlocation\u001b[0m\u001b[0;34m.\u001b[0m\u001b[0mraw\u001b[0m\u001b[0;34m[\u001b[0m\u001b[0;34m\"address\"\u001b[0m\u001b[0;34m]\u001b[0m\u001b[0;34m[\u001b[0m\u001b[0;34m\"municipality\"\u001b[0m\u001b[0;34m]\u001b[0m\u001b[0;34m:\u001b[0m\u001b[0;34m\u001b[0m\u001b[0;34m\u001b[0m\u001b[0m\n",
      "\u001b[0;31mKeyError\u001b[0m: 'town'"
     ]
    }
   ],
   "source": [
    "save_updated_image('/home/amulyamantha/code/jaseppala/photo-classifier/raw_data/my_google_photos/Spain/IMG_20200223_125821.jpg')"
   ]
  },
  {
   "cell_type": "code",
   "execution_count": null,
   "metadata": {},
   "outputs": [],
   "source": []
  }
 ],
 "metadata": {
  "colab": {
   "collapsed_sections": [],
   "name": "Functions Timestamp and Geolocation EXIF.ipynb",
   "provenance": []
  },
  "kernelspec": {
   "display_name": "Python 3 (ipykernel)",
   "language": "python",
   "name": "python3"
  },
  "language_info": {
   "codemirror_mode": {
    "name": "ipython",
    "version": 3
   },
   "file_extension": ".py",
   "mimetype": "text/x-python",
   "name": "python",
   "nbconvert_exporter": "python",
   "pygments_lexer": "ipython3",
   "version": "3.8.6"
  },
  "toc": {
   "base_numbering": 1,
   "nav_menu": {},
   "number_sections": true,
   "sideBar": true,
   "skip_h1_title": false,
   "title_cell": "Table of Contents",
   "title_sidebar": "Contents",
   "toc_cell": false,
   "toc_position": {},
   "toc_section_display": true,
   "toc_window_display": false
  }
 },
 "nbformat": 4,
 "nbformat_minor": 1
}
