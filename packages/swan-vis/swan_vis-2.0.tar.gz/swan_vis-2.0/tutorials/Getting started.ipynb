{
 "cells": [
  {
   "cell_type": "markdown",
   "metadata": {},
   "source": [
    "#  Getting started: initializing, adding data, and saving your SwanGraph "
   ]
  },
  {
   "cell_type": "markdown",
   "metadata": {},
   "source": [
    "First, if you haven't already, make sure to [install Swan](https://github.com/fairliereese/swan_vis/wiki#installation).\n",
    "After installing, you'll be able to run Swan from Python.\n",
    "\n",
    "Then, download the data and the reference transcriptome annotation from [here](http://crick.bio.uci.edu/freese/swan_files_example/). The bash commands to do so are given below.\n",
    "\n",
    "The main workflow to get started with Swan consists of:\n",
    "1. [Adding a reference transcriptome (optional)](#add_trans)\n",
    "2. Adding a transcriptome for your samples\n",
    "    * [From a GTF](#add_gtf)\n",
    "    * [From a TALON db](#add_db)\n",
    "3. [Adding datasets and their expression values](#add_ab)\n",
    "4. [Adding metadata to your datasets](#add_meta)\n",
    " \n",
    "Other sections: \n",
    "* [Example data download](#data_download)\n",
    "* [Starting and initializing your SwanGraph](#init)\n",
    "* [Saving and loading your SwanGraph](#save_load)\n",
    "\n",
    "This page can also be read from top to bottom, just know that you may be running things more than once!\n",
    "\n",
    "For information on the file formats needed to use Swan, please read the [file format specifications FAQ](https://freese.gitbook.io/swan/faqs/file_formats).\n",
    "\n",
    "<!-- Running this tutorial (with only one of the dataset addition options) on my laptop took around 7 minutes and 5 GB of RAM.  -->"
   ]
  },
  {
   "cell_type": "markdown",
   "metadata": {},
   "source": [
    "## <a name=\"data_download\"></a> Download example data"
   ]
  },
  {
   "cell_type": "markdown",
   "metadata": {},
   "source": [
    "This data is the data used in the [Swan publication](https://academic.oup.com/bioinformatics/article/37/9/1322/5912931)\n",
    "\n",
    "Run this block in your bash terminal\n",
    "```bash\n",
    "mkdir data\n",
    "mkdir figures\n",
    "cd data/\n",
    "\n",
    "# download files\n",
    "wget http://crick.bio.uci.edu/freese/swan_files.tgz\n",
    "\n",
    "# expand files \n",
    "tar -xzf swan_files.tgz\n",
    "mv swan_files/* .\n",
    "rm -r swan_files/\n",
    "\n",
    "# download reference annotation\n",
    "wget ftp://ftp.ebi.ac.uk/pub/databases/gencode/Gencode_human/release_29/gencode.v29.annotation.gtf.gz\n",
    "gunzip gencode.v29.annotation.gtf.gz\n",
    "\n",
    "cd ../\n",
    "```"
   ]
  },
  {
   "cell_type": "markdown",
   "metadata": {},
   "source": [
    "Alternatively, just run on a smaller example, chr20.\n",
    "\n",
    "Run this block in your bash terminal\n",
    "\n",
    "```bash\n",
    "mkdir data\n",
    "mkdir figures\n",
    "cd data/\n",
    "\n",
    "# download files\n",
    "wget http://crick.bio.uci.edu/freese/swan_files_example.tgz\n",
    "    \n",
    "# expand files \n",
    "tar -xzf swan_files_example.tar.gz\n",
    "mv swan_files_example/* .\n",
    "rm -r swan_files_example/\n",
    "\n",
    "cd ../\n",
    "```"
   ]
  },
  {
   "cell_type": "markdown",
   "metadata": {},
   "source": [
    "## <a name=\"init\"></a>Starting up Swan and initializing your SwanGraph"
   ]
  },
  {
   "cell_type": "markdown",
   "metadata": {},
   "source": [
    "The rest of the code in this tutorial should be run in using Python"
   ]
  },
  {
   "cell_type": "markdown",
   "metadata": {},
   "source": [
    "Initialize an empty SwanGraph and add the transcriptome annotation to the SwanGraph."
   ]
  },
  {
   "cell_type": "code",
   "execution_count": 1,
   "metadata": {},
   "outputs": [],
   "source": [
    "import swan_vis as swan\n",
    "\n",
    "# initialize a new SwanGraph\n",
    "sg = swan.SwanGraph() "
   ]
  },
  {
   "cell_type": "markdown",
   "metadata": {},
   "source": [
    "**Note:** to initialize a SwanGraph in single-cell mode (which will avoid calculating percent isoform use \\[pi\\] numbers for each cell), use the following code:\n",
    "\n",
    "```python\n",
    "sg = swan.SwanGraph(sc=True)\n",
    "```"
   ]
  },
  {
   "cell_type": "code",
   "execution_count": 3,
   "metadata": {},
   "outputs": [],
   "source": [
    "annot_gtf = 'data/gencode.v29.annotation.gtf'\n",
    "data_gtf = 'data/all_talon_observedOnly.gtf'\n",
    "ab_file = 'data/all_talon_abundance_filtered.tsv'\n",
    "talon_db = 'data/talon.db'\n",
    "pass_list = 'data/all_pass_list.csv'\n",
    "meta = 'data/metadata.tsv'"
   ]
  },
  {
   "cell_type": "markdown",
   "metadata": {},
   "source": [
    "## <a name=\"add_trans\"></a>Adding a reference transcriptome"
   ]
  },
  {
   "cell_type": "code",
   "execution_count": 76,
   "metadata": {},
   "outputs": [
    {
     "name": "stdout",
     "output_type": "stream",
     "text": [
      "\n",
      "Adding annotation to the SwanGraph\n"
     ]
    }
   ],
   "source": [
    "# add an annotation transcriptome \n",
    "sg.add_annotation(annot_gtf)"
   ]
  },
  {
   "cell_type": "markdown",
   "metadata": {},
   "source": [
    "## <a name=\"add_gtf\"></a>Adding transcript models from a GTF"
   ]
  },
  {
   "cell_type": "markdown",
   "metadata": {},
   "source": [
    "Add all filtered transcript models to the SwanGraph."
   ]
  },
  {
   "cell_type": "code",
   "execution_count": 77,
   "metadata": {},
   "outputs": [
    {
     "name": "stdout",
     "output_type": "stream",
     "text": [
      "\n",
      "Adding transcriptome to the SwanGraph\n"
     ]
    }
   ],
   "source": [
    "# add a dataset's transcriptome and abundance information to\n",
    "# the SwanGraph\n",
    "sg.add_transcriptome(data_gtf)"
   ]
  },
  {
   "cell_type": "markdown",
   "metadata": {},
   "source": [
    "## <a name=\"add_ab\"></a>Adding datasets and their abundance"
   ]
  },
  {
   "cell_type": "markdown",
   "metadata": {},
   "source": [
    "Use an abundance matrix with columns for each desired dataset to add datasets to the SwanGraph."
   ]
  },
  {
   "cell_type": "code",
   "execution_count": 78,
   "metadata": {},
   "outputs": [
    {
     "name": "stdout",
     "output_type": "stream",
     "text": [
      "\n",
      "Adding abundance for datasets hepg2_1, hepg2_2, hffc6_1, hffc6_2, hffc6_3 to SwanGraph.\n"
     ]
    },
    {
     "name": "stderr",
     "output_type": "stream",
     "text": [
      "/Users/fairliereese/miniconda3/lib/python3.7/site-packages/anndata/_core/anndata.py:120: ImplicitModificationWarning: Transforming to str index.\n",
      "  warnings.warn(\"Transforming to str index.\", ImplicitModificationWarning)\n"
     ]
    }
   ],
   "source": [
    "# add each dataset's abundance information to the SwanGraph\n",
    "sg.add_abundance(ab_file)"
   ]
  },
  {
   "cell_type": "markdown",
   "metadata": {},
   "source": [
    "##  <a name=\"save_load\"></a>Saving and loading your SwanGraph"
   ]
  },
  {
   "cell_type": "markdown",
   "metadata": {},
   "source": [
    "Following this, you can save your SwanGraph so you can easily work with it again without re-adding all the data."
   ]
  },
  {
   "cell_type": "code",
   "execution_count": 79,
   "metadata": {},
   "outputs": [
    {
     "name": "stdout",
     "output_type": "stream",
     "text": [
      "Saving graph as swan.p\n"
     ]
    }
   ],
   "source": [
    "# save the SwanGraph as a Python pickle file\n",
    "sg.save_graph('swan')"
   ]
  },
  {
   "cell_type": "markdown",
   "metadata": {},
   "source": [
    "And you can reload the graph again."
   ]
  },
  {
   "cell_type": "code",
   "execution_count": 80,
   "metadata": {},
   "outputs": [
    {
     "name": "stdout",
     "output_type": "stream",
     "text": [
      "Read in graph from swan.p\n"
     ]
    }
   ],
   "source": [
    "# load up a saved SwanGraph from a pickle file\n",
    "sg = swan.read('swan.p')"
   ]
  },
  {
   "cell_type": "markdown",
   "metadata": {},
   "source": [
    "##  <a name=\"add_db\"></a>Adding transcript models from a TALON DB"
   ]
  },
  {
   "cell_type": "markdown",
   "metadata": {},
   "source": [
    "Swan is also directly compatible with TALON databases and can pull transcript models directly from them. You can also optionally pass in a list of isoforms from [`talon_filter_transcripts`](https://github.com/mortazavilab/TALON#talon_filter) to filter your input transcript models."
   ]
  },
  {
   "cell_type": "code",
   "execution_count": 5,
   "metadata": {},
   "outputs": [
    {
     "name": "stdout",
     "output_type": "stream",
     "text": [
      "\n",
      "Adding annotation to the SwanGraph\n",
      "\n",
      "Adding transcriptome to the SwanGraph\n",
      "\n",
      "Adding abundance for datasets hepg2_1, hepg2_2, hffc6_1, hffc6_2, hffc6_3 to SwanGraph.\n"
     ]
    },
    {
     "name": "stderr",
     "output_type": "stream",
     "text": [
      "/Users/fairliereese/miniconda3/lib/python3.7/site-packages/anndata/_core/anndata.py:120: ImplicitModificationWarning: Transforming to str index.\n",
      "  warnings.warn(\"Transforming to str index.\", ImplicitModificationWarning)\n"
     ]
    }
   ],
   "source": [
    "# for this new example, create a new empty SwanGraph\n",
    "sg = swan.SwanGraph()\n",
    "\n",
    "# and add the annotation transcriptome to it\n",
    "sg.add_annotation(annot_gtf)\n",
    "\n",
    "# add transcriptome from TALON db\n",
    "sg.add_transcriptome(talon_db, pass_list=pass_list)\n",
    "\n",
    "# add each dataset's abundance information to the SwanGraph\n",
    "sg.add_abundance(ab_file)"
   ]
  },
  {
   "cell_type": "markdown",
   "metadata": {},
   "source": [
    "##  <a name=\"add_meta\"></a>Adding metadata"
   ]
  },
  {
   "cell_type": "markdown",
   "metadata": {},
   "source": [
    "Swan provides functionality to perform tests and plotting on the basis of metadata categories."
   ]
  },
  {
   "cell_type": "code",
   "execution_count": 9,
   "metadata": {},
   "outputs": [
    {
     "name": "stderr",
     "output_type": "stream",
     "text": [
      "/Users/fairliereese/miniconda3/lib/python3.7/site-packages/anndata/_core/anndata.py:794: UserWarning: \n",
      "AnnData expects .obs.index to contain strings, but got values like:\n",
      "    [0, 1, 2, 3, 4]\n",
      "\n",
      "    Inferred to be: integer\n",
      "\n",
      "  value_idx = self._prep_dim_index(value.index, attr)\n"
     ]
    }
   ],
   "source": [
    "sg.add_metadata(meta)"
   ]
  },
  {
   "cell_type": "code",
   "execution_count": 10,
   "metadata": {},
   "outputs": [
    {
     "data": {
      "text/html": [
       "<div>\n",
       "<style scoped>\n",
       "    .dataframe tbody tr th:only-of-type {\n",
       "        vertical-align: middle;\n",
       "    }\n",
       "\n",
       "    .dataframe tbody tr th {\n",
       "        vertical-align: top;\n",
       "    }\n",
       "\n",
       "    .dataframe thead th {\n",
       "        text-align: right;\n",
       "    }\n",
       "</style>\n",
       "<table border=\"1\" class=\"dataframe\">\n",
       "  <thead>\n",
       "    <tr style=\"text-align: right;\">\n",
       "      <th></th>\n",
       "      <th>dataset</th>\n",
       "      <th>cell_line</th>\n",
       "      <th>replicate</th>\n",
       "    </tr>\n",
       "    <tr>\n",
       "      <th>index</th>\n",
       "      <th></th>\n",
       "      <th></th>\n",
       "      <th></th>\n",
       "    </tr>\n",
       "  </thead>\n",
       "  <tbody>\n",
       "    <tr>\n",
       "      <th>hepg2_1</th>\n",
       "      <td>hepg2_1</td>\n",
       "      <td>hepg2</td>\n",
       "      <td>1</td>\n",
       "    </tr>\n",
       "    <tr>\n",
       "      <th>hepg2_2</th>\n",
       "      <td>hepg2_2</td>\n",
       "      <td>hepg2</td>\n",
       "      <td>2</td>\n",
       "    </tr>\n",
       "    <tr>\n",
       "      <th>hffc6_1</th>\n",
       "      <td>hffc6_1</td>\n",
       "      <td>hffc6</td>\n",
       "      <td>1</td>\n",
       "    </tr>\n",
       "    <tr>\n",
       "      <th>hffc6_2</th>\n",
       "      <td>hffc6_2</td>\n",
       "      <td>hffc6</td>\n",
       "      <td>2</td>\n",
       "    </tr>\n",
       "    <tr>\n",
       "      <th>hffc6_3</th>\n",
       "      <td>hffc6_3</td>\n",
       "      <td>hffc6</td>\n",
       "      <td>3</td>\n",
       "    </tr>\n",
       "  </tbody>\n",
       "</table>\n",
       "</div>"
      ],
      "text/plain": [
       "         dataset cell_line replicate\n",
       "index                               \n",
       "hepg2_1  hepg2_1     hepg2         1\n",
       "hepg2_2  hepg2_2     hepg2         2\n",
       "hffc6_1  hffc6_1     hffc6         1\n",
       "hffc6_2  hffc6_2     hffc6         2\n",
       "hffc6_3  hffc6_3     hffc6         3"
      ]
     },
     "execution_count": 10,
     "metadata": {},
     "output_type": "execute_result"
    }
   ],
   "source": [
    "sg.adata.obs"
   ]
  },
  {
   "cell_type": "code",
   "execution_count": 13,
   "metadata": {},
   "outputs": [
    {
     "name": "stdout",
     "output_type": "stream",
     "text": [
      "Saving graph as data/swan.p\n",
      "Saving graph as swan.p\n",
      "Saving graph as data/swan_files_full.p\n",
      "Saving graph as data/swan_back.p\n"
     ]
    }
   ],
   "source": [
    "# save the SwanGraph as a Python pickle file\n",
    "sg.save_graph('data/swan')\n",
    "sg.save_graph('swan')\n",
    "sg.save_graph('data/swan_files_full')\n",
    "# sg.save_graph('data/swan_back')"
   ]
  },
  {
   "cell_type": "code",
   "execution_count": 12,
   "metadata": {},
   "outputs": [
    {
     "name": "stdout",
     "output_type": "stream",
     "text": [
      "[[ 98.  43.   4.  23.   0.]\n",
      " [207.  66.   6.  52.   0.]\n",
      " [100. 148.   0.  82.   0.]\n",
      " [108. 191.   0.  98.   0.]\n",
      " [ 91. 168.   2. 106.   0.]]\n",
      "[[196.13847    86.06076     8.005652   46.032497    0.       ]\n",
      " [243.97517    77.789185    7.071744   61.28845     0.       ]\n",
      " [131.32097   194.35504     0.        107.6832      0.       ]\n",
      " [137.06158   242.39594     0.        124.37069     0.       ]\n",
      " [147.9865    273.20584     3.2524502 172.37987     0.       ]]\n",
      "[[100.       100.       100.       100.         0.      ]\n",
      " [ 99.519226 100.        60.000004 100.         0.      ]\n",
      " [ 98.039215 100.         0.       100.         0.      ]\n",
      " [ 99.08257  100.         0.       100.         0.      ]\n",
      " [100.       100.       100.       100.         0.      ]]\n"
     ]
    }
   ],
   "source": [
    "print(sg.adata.layers['counts'][:5, :5])\n",
    "print(sg.adata.layers['tpm'][:5, :5])\n",
    "print(sg.adata.layers['pi'][:5, :5])"
   ]
  },
  {
   "cell_type": "code",
   "execution_count": 18,
   "metadata": {},
   "outputs": [],
   "source": [
    "df = swan.calc_pi(sg.adata, sg.t_df, obs_col='dataset')"
   ]
  },
  {
   "cell_type": "code",
   "execution_count": 19,
   "metadata": {},
   "outputs": [
    {
     "name": "stdout",
     "output_type": "stream",
     "text": [
      "[[ 98.  43.   4.  23.   0.]\n",
      " [207.  66.   6.  52.   0.]\n",
      " [100. 148.   0.  82.   0.]\n",
      " [108. 191.   0.  98.   0.]\n",
      " [ 91. 168.   2. 106.   0.]]\n",
      "[[196.13847    86.06076     8.005652   46.032497    0.       ]\n",
      " [243.97517    77.789185    7.071744   61.28845     0.       ]\n",
      " [131.32097   194.35504     0.        107.6832      0.       ]\n",
      " [137.06158   242.39594     0.        124.37069     0.       ]\n",
      " [147.9865    273.20584     3.2524502 172.37987     0.       ]]\n",
      "[[100.       100.       100.       100.         0.      ]\n",
      " [ 99.519226 100.        60.000004 100.         0.      ]\n",
      " [ 98.039215 100.         0.       100.         0.      ]\n",
      " [ 99.08257  100.         0.       100.         0.      ]\n",
      " [100.       100.       100.       100.         0.      ]]\n"
     ]
    }
   ],
   "source": [
    "print(sg.adata.layers['counts'][:5, :5])\n",
    "print(sg.adata.layers['tpm'][:5, :5])\n",
    "print(sg.adata.layers['pi'][:5, :5])"
   ]
  }
 ],
 "metadata": {
  "kernelspec": {
   "display_name": "Python 3",
   "language": "python",
   "name": "python3"
  },
  "language_info": {
   "codemirror_mode": {
    "name": "ipython",
    "version": 3
   },
   "file_extension": ".py",
   "mimetype": "text/x-python",
   "name": "python",
   "nbconvert_exporter": "python",
   "pygments_lexer": "ipython3",
   "version": "3.7.4"
  }
 },
 "nbformat": 4,
 "nbformat_minor": 4
}
